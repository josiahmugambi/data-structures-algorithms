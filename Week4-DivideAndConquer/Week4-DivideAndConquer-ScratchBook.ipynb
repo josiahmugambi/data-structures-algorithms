{
 "cells": [
  {
   "cell_type": "markdown",
   "metadata": {},
   "source": [
    "### Binary Search"
   ]
  },
  {
   "cell_type": "code",
   "execution_count": 207,
   "metadata": {},
   "outputs": [],
   "source": [
    "# Linear search for results comparison\n",
    "def linear_search(keys, query):\n",
    "    for i in range(len(keys)):\n",
    "        if keys[i] == query:\n",
    "            return i\n",
    "\n",
    "    return -1"
   ]
  },
  {
   "cell_type": "markdown",
   "metadata": {},
   "source": [
    "#### Recursive Implementation:"
   ]
  },
  {
   "cell_type": "code",
   "execution_count": 229,
   "metadata": {},
   "outputs": [],
   "source": [
    "\n",
    "def binary_search(keys, query):\n",
    "    assert all(keys[i] < keys[i + 1] for i in range(len(keys) - 1))\n",
    "    assert 1 <= len(keys) <= 3 * 10 ** 4\n",
    "    \n",
    "    high = len(keys) - 1\n",
    "    low = 0\n",
    "    \n",
    "    return binary_search_single(keys, low, high, query)\n",
    "\n",
    "def binary_search_single(keys, low, high, query):\n",
    "\n",
    "    if high >= low:\n",
    "        mid = low + (high - low)//2\n",
    "\n",
    "        # middle element matches query\n",
    "        if query == keys[mid]:\n",
    "            return mid\n",
    "\n",
    "        # query is smaller than middle element, so possibly present in left side before mid\n",
    "        elif query < keys[mid]:\n",
    "            return binary_search_single(keys, low, mid-1, query)\n",
    "\n",
    "        # query is larger than middle element, so possibly present in right side after mid\n",
    "        else:\n",
    "            return binary_search_single(keys, mid+1, high, query)\n",
    "\n",
    "    else:\n",
    "        # query doesn't exist in array\n",
    "        return -1"
   ]
  },
  {
   "cell_type": "markdown",
   "metadata": {},
   "source": [
    "#### Iterative implementation"
   ]
  },
  {
   "cell_type": "code",
   "execution_count": 201,
   "metadata": {},
   "outputs": [],
   "source": [
    "# Iterative version of Binary Search\n",
    "\n",
    "def binary_search_it(keys, query):\n",
    "    assert all(keys[i] < keys[i + 1] for i in range(len(keys) - 1))\n",
    "    assert 1 <= len(keys) <= 3 * 10 ** 4\n",
    "\n",
    "    high = len(keys) - 1\n",
    "    low = 0\n",
    "    \n",
    "    while low <= high:\n",
    "        mid = low + (high - low)//2\n",
    "#        mid = (high + low)//2\n",
    "        if query == keys[mid]:\n",
    "            return mid\n",
    "        elif query < keys[mid]:\n",
    "            high = mid - 1\n",
    "        else:\n",
    "            low = mid + 1\n",
    "    return -1"
   ]
  },
  {
   "cell_type": "markdown",
   "metadata": {},
   "source": [
    "#### Testing Linear Search"
   ]
  },
  {
   "cell_type": "code",
   "execution_count": 219,
   "metadata": {},
   "outputs": [
    {
     "name": "stdout",
     "output_type": "stream",
     "text": [
      "[2, 0, -1, 0, -1]\n"
     ]
    },
    {
     "data": {
      "text/plain": [
       "True"
      ]
     },
     "execution_count": 219,
     "metadata": {},
     "output_type": "execute_result"
    }
   ],
   "source": [
    "results = []\n",
    "for q in [8,1,23,1,11]:\n",
    "    results.append(linear_search([1, 5, 8, 12, 13],q))\n",
    "print(results)\n",
    "results == [2,0,-1,0,-1]"
   ]
  },
  {
   "cell_type": "markdown",
   "metadata": {},
   "source": [
    "#### Testing - Recursive"
   ]
  },
  {
   "cell_type": "code",
   "execution_count": 230,
   "metadata": {},
   "outputs": [
    {
     "name": "stdout",
     "output_type": "stream",
     "text": [
      "[2, 0, -1, 0, -1]\n"
     ]
    },
    {
     "data": {
      "text/plain": [
       "True"
      ]
     },
     "execution_count": 230,
     "metadata": {},
     "output_type": "execute_result"
    }
   ],
   "source": [
    "results = []\n",
    "for q in [8,1,23,1,11]:\n",
    "    results.append(binary_search([1, 5, 8, 12, 13],q))\n",
    "print(results)\n",
    "results == [2,0,-1,0,-1]"
   ]
  },
  {
   "cell_type": "markdown",
   "metadata": {},
   "source": [
    "#### Testing - Iterative"
   ]
  },
  {
   "cell_type": "code",
   "execution_count": 220,
   "metadata": {},
   "outputs": [
    {
     "name": "stdout",
     "output_type": "stream",
     "text": [
      "[2, 0, -1, 0, -1]\n"
     ]
    },
    {
     "data": {
      "text/plain": [
       "True"
      ]
     },
     "execution_count": 220,
     "metadata": {},
     "output_type": "execute_result"
    }
   ],
   "source": [
    "results = []\n",
    "for q in [8,1,23,1,11]:\n",
    "    results.append(binary_search_it([1, 5, 8, 12, 13],q))\n",
    "print(results)\n",
    "results == [2,0,-1,0,-1]"
   ]
  },
  {
   "cell_type": "markdown",
   "metadata": {},
   "source": [
    "### Binary Search with Duplicates"
   ]
  },
  {
   "cell_type": "code",
   "execution_count": 332,
   "metadata": {},
   "outputs": [
    {
     "name": "stdout",
     "output_type": "stream",
     "text": [
      "[2, 0, -1, 0, -1]\n"
     ]
    },
    {
     "data": {
      "text/plain": [
       "True"
      ]
     },
     "execution_count": 332,
     "metadata": {},
     "output_type": "execute_result"
    }
   ],
   "source": [
    "## First test without duplicates\n",
    "results = []\n",
    "for q in [8,1,23,1,11]:\n",
    "    results.append(binary_search_duplicates([1, 5, 8, 12, 13],q))\n",
    "print(results)\n",
    "results == [2,0,-1,0,-1]"
   ]
  },
  {
   "cell_type": "code",
   "execution_count": 317,
   "metadata": {},
   "outputs": [],
   "source": [
    "def binary_search_leftmost(keys, n, query):\n",
    "\n",
    "    low = 0    \n",
    "    high = n\n",
    "    \n",
    "    while low < high:\n",
    "        mid = (low + high) // 2\n",
    "        if keys[mid] < query:\n",
    "            low = mid + 1\n",
    "        else:\n",
    "            high = mid \n",
    "    return low\n"
   ]
  },
  {
   "cell_type": "code",
   "execution_count": 336,
   "metadata": {},
   "outputs": [],
   "source": [
    "def binary_search(keys, query):\n",
    "    # assert all(keys[i] < keys[i + 1] for i in range(len(keys) - 1))\n",
    "    # assert 1 <= len(keys) <= 3 * 10 ** 4\n",
    "\n",
    "    high = len(keys) - 1\n",
    "    low = 0\n",
    "\n",
    "    return binary_search_single(keys, low, high, query)\n",
    "\n",
    "\n",
    "def binary_search_single(keys, low, high, query):\n",
    "    if query == keys[low]:\n",
    "        return low\n",
    "\n",
    "    if high > low:\n",
    "        mid = low + (high - low)//2\n",
    "\n",
    "        # middle element matches query\n",
    "        if query == keys[mid]:\n",
    "            return binary_search_leftmost(keys, mid, query)\n",
    "\n",
    "        # query is smaller than middle element, so possibly present in left side before mid\n",
    "        elif query < keys[mid]:\n",
    "            return binary_search_single(keys, low, mid-1, query)\n",
    "\n",
    "        # query is larger than middle element, so possibly present in right side after mid\n",
    "        else:\n",
    "            return binary_search_single(keys, mid+1, high, query)\n",
    "\n",
    "    else:\n",
    "        # query doesn't exist in array\n",
    "        return -1"
   ]
  },
  {
   "cell_type": "code",
   "execution_count": 337,
   "metadata": {},
   "outputs": [
    {
     "name": "stdout",
     "output_type": "stream",
     "text": [
      "[-1, 6, 1, -1, 4, -1]\n"
     ]
    }
   ],
   "source": [
    "## Then test with duplicates\n",
    "results = []\n",
    "for q in [0, 9, 4, 5, 7, 10]:\n",
    "    results.append(binary_search([2, 4, 4, 4, 7, 7, 9],q))\n",
    "print(results)"
   ]
  },
  {
   "cell_type": "code",
   "execution_count": 335,
   "metadata": {},
   "outputs": [
    {
     "name": "stdout",
     "output_type": "stream",
     "text": [
      "[-1, 6, 1, -1, 4, -1]\n"
     ]
    }
   ],
   "source": [
    "results = []\n",
    "for q in [0, 9, 4, 5, 7, 10]:\n",
    "    results.append(linear_search([2, 4, 4, 4, 7, 7, 9],q))\n",
    "print(results)\n",
    "#results == [2,0,-1,0,-1]"
   ]
  },
  {
   "cell_type": "markdown",
   "metadata": {},
   "source": [
    "### Majority Element"
   ]
  },
  {
   "cell_type": "code",
   "execution_count": null,
   "metadata": {},
   "outputs": [],
   "source": []
  }
 ],
 "metadata": {
  "kernelspec": {
   "display_name": "Python 3 (ipykernel)",
   "language": "python",
   "name": "python3"
  },
  "language_info": {
   "codemirror_mode": {
    "name": "ipython",
    "version": 3
   },
   "file_extension": ".py",
   "mimetype": "text/x-python",
   "name": "python",
   "nbconvert_exporter": "python",
   "pygments_lexer": "ipython3",
   "version": "3.9.2"
  }
 },
 "nbformat": 4,
 "nbformat_minor": 4
}
