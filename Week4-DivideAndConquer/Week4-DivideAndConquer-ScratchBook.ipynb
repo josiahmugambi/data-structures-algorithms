{
 "cells": [
  {
   "cell_type": "markdown",
   "metadata": {},
   "source": [
    "### Binary Search"
   ]
  },
  {
   "cell_type": "code",
   "execution_count": 207,
   "metadata": {},
   "outputs": [],
   "source": [
    "# Linear search for results comparison\n",
    "def linear_search(keys, query):\n",
    "    for i in range(len(keys)):\n",
    "        if keys[i] == query:\n",
    "            return i\n",
    "\n",
    "    return -1"
   ]
  },
  {
   "cell_type": "markdown",
   "metadata": {},
   "source": [
    "#### Recursive Implementation:"
   ]
  },
  {
   "cell_type": "code",
   "execution_count": 229,
   "metadata": {},
   "outputs": [],
   "source": [
    "\n",
    "def binary_search(keys, query):\n",
    "    assert all(keys[i] < keys[i + 1] for i in range(len(keys) - 1))\n",
    "    assert 1 <= len(keys) <= 3 * 10 ** 4\n",
    "    \n",
    "    high = len(keys) - 1\n",
    "    low = 0\n",
    "    \n",
    "    return binary_search_single(keys, low, high, query)\n",
    "\n",
    "def binary_search_single(keys, low, high, query):\n",
    "\n",
    "    if high >= low:\n",
    "        mid = low + (high - low)//2\n",
    "\n",
    "        # middle element matches query\n",
    "        if query == keys[mid]:\n",
    "            return mid\n",
    "\n",
    "        # query is smaller than middle element, so possibly present in left side before mid\n",
    "        elif query < keys[mid]:\n",
    "            return binary_search_single(keys, low, mid-1, query)\n",
    "\n",
    "        # query is larger than middle element, so possibly present in right side after mid\n",
    "        else:\n",
    "            return binary_search_single(keys, mid+1, high, query)\n",
    "\n",
    "    else:\n",
    "        # query doesn't exist in array\n",
    "        return -1"
   ]
  },
  {
   "cell_type": "markdown",
   "metadata": {},
   "source": [
    "#### Iterative implementation"
   ]
  },
  {
   "cell_type": "code",
   "execution_count": 201,
   "metadata": {},
   "outputs": [],
   "source": [
    "# Iterative version of Binary Search\n",
    "\n",
    "def binary_search_it(keys, query):\n",
    "    assert all(keys[i] < keys[i + 1] for i in range(len(keys) - 1))\n",
    "    assert 1 <= len(keys) <= 3 * 10 ** 4\n",
    "\n",
    "    high = len(keys) - 1\n",
    "    low = 0\n",
    "    \n",
    "    while low <= high:\n",
    "        mid = low + (high - low)//2\n",
    "#        mid = (high + low)//2\n",
    "        if query == keys[mid]:\n",
    "            return mid\n",
    "        elif query < keys[mid]:\n",
    "            high = mid - 1\n",
    "        else:\n",
    "            low = mid + 1\n",
    "    return -1"
   ]
  },
  {
   "cell_type": "markdown",
   "metadata": {},
   "source": [
    "#### Testing Linear Search"
   ]
  },
  {
   "cell_type": "code",
   "execution_count": 219,
   "metadata": {},
   "outputs": [
    {
     "name": "stdout",
     "output_type": "stream",
     "text": [
      "[2, 0, -1, 0, -1]\n"
     ]
    },
    {
     "data": {
      "text/plain": [
       "True"
      ]
     },
     "execution_count": 219,
     "metadata": {},
     "output_type": "execute_result"
    }
   ],
   "source": [
    "results = []\n",
    "for q in [8,1,23,1,11]:\n",
    "    results.append(linear_search([1, 5, 8, 12, 13],q))\n",
    "print(results)\n",
    "results == [2,0,-1,0,-1]"
   ]
  },
  {
   "cell_type": "markdown",
   "metadata": {},
   "source": [
    "#### Testing - Recursive"
   ]
  },
  {
   "cell_type": "code",
   "execution_count": 230,
   "metadata": {},
   "outputs": [
    {
     "name": "stdout",
     "output_type": "stream",
     "text": [
      "[2, 0, -1, 0, -1]\n"
     ]
    },
    {
     "data": {
      "text/plain": [
       "True"
      ]
     },
     "execution_count": 230,
     "metadata": {},
     "output_type": "execute_result"
    }
   ],
   "source": [
    "results = []\n",
    "for q in [8,1,23,1,11]:\n",
    "    results.append(binary_search([1, 5, 8, 12, 13],q))\n",
    "print(results)\n",
    "results == [2,0,-1,0,-1]"
   ]
  },
  {
   "cell_type": "markdown",
   "metadata": {},
   "source": [
    "#### Testing - Iterative"
   ]
  },
  {
   "cell_type": "code",
   "execution_count": 220,
   "metadata": {},
   "outputs": [
    {
     "name": "stdout",
     "output_type": "stream",
     "text": [
      "[2, 0, -1, 0, -1]\n"
     ]
    },
    {
     "data": {
      "text/plain": [
       "True"
      ]
     },
     "execution_count": 220,
     "metadata": {},
     "output_type": "execute_result"
    }
   ],
   "source": [
    "results = []\n",
    "for q in [8,1,23,1,11]:\n",
    "    results.append(binary_search_it([1, 5, 8, 12, 13],q))\n",
    "print(results)\n",
    "results == [2,0,-1,0,-1]"
   ]
  },
  {
   "cell_type": "markdown",
   "metadata": {},
   "source": [
    "### Binary Search with Duplicates"
   ]
  },
  {
   "cell_type": "code",
   "execution_count": 332,
   "metadata": {},
   "outputs": [
    {
     "name": "stdout",
     "output_type": "stream",
     "text": [
      "[2, 0, -1, 0, -1]\n"
     ]
    },
    {
     "data": {
      "text/plain": [
       "True"
      ]
     },
     "execution_count": 332,
     "metadata": {},
     "output_type": "execute_result"
    }
   ],
   "source": [
    "## First test without duplicates\n",
    "results = []\n",
    "for q in [8,1,23,1,11]:\n",
    "    results.append(binary_search_duplicates([1, 5, 8, 12, 13],q))\n",
    "print(results)\n",
    "results == [2,0,-1,0,-1]"
   ]
  },
  {
   "cell_type": "code",
   "execution_count": 317,
   "metadata": {},
   "outputs": [],
   "source": [
    "def binary_search_leftmost(keys, n, query):\n",
    "\n",
    "    low = 0    \n",
    "    high = n\n",
    "    \n",
    "    while low < high:\n",
    "        mid = (low + high) // 2\n",
    "        if keys[mid] < query:\n",
    "            low = mid + 1\n",
    "        else:\n",
    "            high = mid \n",
    "    return low\n"
   ]
  },
  {
   "cell_type": "code",
   "execution_count": 336,
   "metadata": {},
   "outputs": [],
   "source": [
    "def binary_search(keys, query):\n",
    "    # assert all(keys[i] < keys[i + 1] for i in range(len(keys) - 1))\n",
    "    # assert 1 <= len(keys) <= 3 * 10 ** 4\n",
    "\n",
    "    high = len(keys) - 1\n",
    "    low = 0\n",
    "\n",
    "    return binary_search_single(keys, low, high, query)\n",
    "\n",
    "\n",
    "def binary_search_single(keys, low, high, query):\n",
    "    if query == keys[low]:\n",
    "        return low\n",
    "\n",
    "    if high > low:\n",
    "        mid = low + (high - low)//2\n",
    "\n",
    "        # middle element matches query\n",
    "        if query == keys[mid]:\n",
    "            return binary_search_leftmost(keys, mid, query)\n",
    "\n",
    "        # query is smaller than middle element, so possibly present in left side before mid\n",
    "        elif query < keys[mid]:\n",
    "            return binary_search_single(keys, low, mid-1, query)\n",
    "\n",
    "        # query is larger than middle element, so possibly present in right side after mid\n",
    "        else:\n",
    "            return binary_search_single(keys, mid+1, high, query)\n",
    "\n",
    "    else:\n",
    "        # query doesn't exist in array\n",
    "        return -1"
   ]
  },
  {
   "cell_type": "code",
   "execution_count": 337,
   "metadata": {},
   "outputs": [
    {
     "name": "stdout",
     "output_type": "stream",
     "text": [
      "[-1, 6, 1, -1, 4, -1]\n"
     ]
    }
   ],
   "source": [
    "## Then test with duplicates\n",
    "results = []\n",
    "for q in [0, 9, 4, 5, 7, 10]:\n",
    "    results.append(binary_search([2, 4, 4, 4, 7, 7, 9],q))\n",
    "print(results)"
   ]
  },
  {
   "cell_type": "code",
   "execution_count": 335,
   "metadata": {},
   "outputs": [
    {
     "name": "stdout",
     "output_type": "stream",
     "text": [
      "[-1, 6, 1, -1, 4, -1]\n"
     ]
    }
   ],
   "source": [
    "results = []\n",
    "for q in [0, 9, 4, 5, 7, 10]:\n",
    "    results.append(linear_search([2, 4, 4, 4, 7, 7, 9],q))\n",
    "print(results)\n",
    "#results == [2,0,-1,0,-1]"
   ]
  },
  {
   "cell_type": "markdown",
   "metadata": {},
   "source": [
    "### Majority Element"
   ]
  },
  {
   "cell_type": "code",
   "execution_count": 357,
   "metadata": {},
   "outputs": [],
   "source": [
    "def majority_element_naive(elements):\n",
    "    assert len(elements) <= 10 ** 5\n",
    "    for e in elements:\n",
    "        if elements.count(e) > len(elements) / 2:\n",
    "            return 1\n",
    "\n",
    "    return 0"
   ]
  },
  {
   "cell_type": "code",
   "execution_count": 437,
   "metadata": {},
   "outputs": [],
   "source": [
    "def majority_element(elements):\n",
    "    # assert len(elements) <= 10 ** 5\n",
    "    \n",
    "    \n",
    "    if majority_element_value(elements) == None:\n",
    "        return 0\n",
    "    else:\n",
    "        return 1\n",
    "        \n",
    "    \n",
    "def majority_element_value(elements):\n",
    "\n",
    "    # Base cases: \n",
    "    ## if a single integer in array return None\n",
    "    if len(elements) == 0:\n",
    "        return None\n",
    "\n",
    "    ## if a single integer in array return element value\n",
    "    if len(elements) == 1:\n",
    "        return elements[0]\n",
    "    \n",
    "    mid = len(elements) // 2\n",
    "    \n",
    "    \n",
    "    left = majority_element_value(elements[0:mid])\n",
    "    right = majority_element_value(elements[mid:])\n",
    "    \n",
    "    # if they match return any of them\n",
    "    if left == right:\n",
    "        return left\n",
    "\n",
    "    # check which side contains majority element and return \n",
    "    if elements.count(left) > mid:\n",
    "        return left\n",
    "\n",
    "    if elements.count(right) > mid:\n",
    "        return right\n",
    "    \n",
    "    return None\n",
    "    "
   ]
  },
  {
   "cell_type": "code",
   "execution_count": 442,
   "metadata": {},
   "outputs": [],
   "source": [
    "def majority_element_bm(elements):\n",
    "    if majority_element_value_bm(elements) == None:\n",
    "        return 0\n",
    "    else:\n",
    "        return 1\n",
    "    \n",
    "def majority_element_value_bm(elements):\n",
    "    # set counter to 0\n",
    "    count = 0\n",
    "    for e in elements:\n",
    "        if count == 0:\n",
    "            candidate = e\n",
    "        if e == candidate:\n",
    "            count += 1\n",
    "        else:\n",
    "            count -= 1\n",
    "    if elements and elements.count(candidate) > len(elements) // 2:\n",
    "        return candidate\n",
    "    return None\n"
   ]
  },
  {
   "cell_type": "code",
   "execution_count": 444,
   "metadata": {},
   "outputs": [
    {
     "name": "stdout",
     "output_type": "stream",
     "text": [
      "naive 1\n",
      "D and C 1\n",
      "bm 1\n"
     ]
    }
   ],
   "source": [
    "result = majority_element_naive([1,2,3,1,1])\n",
    "print(\"naive\", result)\n",
    "result = majority_element([1,2,3,1,1])\n",
    "print(\"D and C\", result)\n",
    "result = majority_element_bm([1,2,3,1,1])\n",
    "print(\"bm\", result)"
   ]
  },
  {
   "cell_type": "markdown",
   "metadata": {},
   "source": [
    "### Improving Quick Sort"
   ]
  },
  {
   "cell_type": "code",
   "execution_count": 504,
   "metadata": {},
   "outputs": [],
   "source": [
    "from random import randint\n",
    "\n",
    "\n",
    "def partition3(array, left, right):\n",
    "    \n",
    "    m1 = left\n",
    "    index = left\n",
    "    m2 = right\n",
    "    \n",
    "    pivot = array[left]\n",
    "    \n",
    "    \n",
    "    while index <= m2:\n",
    "        if array[index] < pivot:\n",
    "            # push item to the left\n",
    "            array[m1], array[index] = array[index], array[m1]\n",
    "            m1 += 1\n",
    "            index += 1\n",
    "        elif array[index] > pivot:\n",
    "            # push item to the right, beyond pivot\n",
    "            array[index], array[m2] = array[m2], array[index]\n",
    "            m2 -= 1\n",
    "        else:\n",
    "            index += 1\n",
    "            \n",
    "    return m1, m2\n",
    "\n",
    "\n",
    "def randomized_quick_sort(array, left, right):\n",
    "    if left >= right:\n",
    "        return\n",
    "    k = randint(left, right)\n",
    "\n",
    "    array[k], array[left]  = array[left], array[k]\n",
    "    m1, m2 = partition3(array, left, right)\n",
    "    print(m1,m2)\n",
    "    randomized_quick_sort(array, left, m1 - 1)\n",
    "    randomized_quick_sort(array, m2 + 1, right)"
   ]
  },
  {
   "cell_type": "code",
   "execution_count": 505,
   "metadata": {},
   "outputs": [],
   "source": [
    "an_array = [4,3,2]"
   ]
  },
  {
   "cell_type": "code",
   "execution_count": 511,
   "metadata": {},
   "outputs": [
    {
     "name": "stdout",
     "output_type": "stream",
     "text": [
      "1 1\n",
      "None\n"
     ]
    }
   ],
   "source": [
    "result = randomized_quick_sort(an_array, 0, len(an_array) - 1)\n",
    "print(result)"
   ]
  },
  {
   "cell_type": "code",
   "execution_count": 482,
   "metadata": {},
   "outputs": [
    {
     "name": "stdout",
     "output_type": "stream",
     "text": [
      "None\n"
     ]
    }
   ],
   "source": [
    "print (result)"
   ]
  },
  {
   "cell_type": "code",
   "execution_count": 507,
   "metadata": {},
   "outputs": [],
   "source": [
    "def partition3_2(array, left, right):\n",
    "    x = array[left]\n",
    "    m1 = left\n",
    "    m2 = right\n",
    "    for i in range(left + 1, right + 1):\n",
    "        if array[i] < x:\n",
    "            m1 += 1\n",
    "            array[i], array[m1] = array[m1], array[i]\n",
    "        elif array[i] > x:\n",
    "            m2 -= 1\n",
    "            array[i], array[m2] = array[m2], array[i]\n",
    "\n",
    "\n",
    "    return m1, m2\n",
    "\n",
    "def randomized_quick_sort_2(array, left, right):\n",
    "    if left >= right:\n",
    "        return\n",
    "    k = randint(left, right)\n",
    "\n",
    "    array[k], array[left]  = array[left], array[k]\n",
    "    m1, m2 = partition3_2(array, left, right)\n",
    "    print(m1,m2)\n",
    "    randomized_quick_sort_2(array, left, m1 - 1)\n",
    "    randomized_quick_sort_2(array, m2 + 1, right)"
   ]
  },
  {
   "cell_type": "code",
   "execution_count": 510,
   "metadata": {},
   "outputs": [
    {
     "name": "stdout",
     "output_type": "stream",
     "text": [
      "1 1\n",
      "None\n"
     ]
    }
   ],
   "source": [
    "result2 = randomized_quick_sort_2(an_array, 0, len(an_array) - 1)\n",
    "print(result2)"
   ]
  },
  {
   "cell_type": "code",
   "execution_count": null,
   "metadata": {},
   "outputs": [],
   "source": []
  }
 ],
 "metadata": {
  "kernelspec": {
   "display_name": "Python 3 (ipykernel)",
   "language": "python",
   "name": "python3"
  },
  "language_info": {
   "codemirror_mode": {
    "name": "ipython",
    "version": 3
   },
   "file_extension": ".py",
   "mimetype": "text/x-python",
   "name": "python",
   "nbconvert_exporter": "python",
   "pygments_lexer": "ipython3",
   "version": "3.9.2"
  }
 },
 "nbformat": 4,
 "nbformat_minor": 4
}
