{
 "cells": [
  {
   "cell_type": "markdown",
   "metadata": {},
   "source": [
    "## Dynamic Programming "
   ]
  },
  {
   "cell_type": "markdown",
   "metadata": {},
   "source": [
    "### 5.1 Money Change Problem\n",
    "\n",
    "#### Greedy approach"
   ]
  },
  {
   "cell_type": "code",
   "execution_count": 29,
   "metadata": {},
   "outputs": [],
   "source": [
    "def money_change(money, coins):\n",
    "    assert 0 <= money <= 10 ** 3\n",
    "    min_num_coins = 0\n",
    "    for c in coins:\n",
    "        result = divmod(money, c)\n",
    "        money = money - (result[0] * c)\n",
    "        min_num_coins += result[0]\n",
    "        if result[1] == 0:\n",
    "            return min_num_coins"
   ]
  },
  {
   "cell_type": "code",
   "execution_count": 26,
   "metadata": {},
   "outputs": [],
   "source": [
    "coins = [10, 5, 1]"
   ]
  },
  {
   "cell_type": "code",
   "execution_count": 30,
   "metadata": {},
   "outputs": [
    {
     "name": "stdout",
     "output_type": "stream",
     "text": [
      "True\n",
      "True\n",
      "True\n",
      "True\n"
     ]
    }
   ],
   "source": [
    "for (money, coins, number_of_coins) in [(1, coins, 1), (2, coins, 2), (28, coins, 6), (95, coins, 10)]:\n",
    "            print(money_change(money,coins) == number_of_coins)"
   ]
  },
  {
   "cell_type": "code",
   "execution_count": 5,
   "metadata": {},
   "outputs": [],
   "source": [
    "#### Recursive Approach"
   ]
  },
  {
   "cell_type": "code",
   "execution_count": 37,
   "metadata": {},
   "outputs": [],
   "source": [
    "from math import inf"
   ]
  },
  {
   "cell_type": "code",
   "execution_count": 43,
   "metadata": {},
   "outputs": [],
   "source": [
    "\n",
    "def money_change_rec(money, coins):\n",
    "    if money == 0:\n",
    "        return 0\n",
    "    min_num_coins = inf\n",
    "    for c in coins:\n",
    "        if money >= c:\n",
    "            num_coins = money_change_rec(money - c, coins)\n",
    "            if num_coins + 1 < min_num_coins:\n",
    "                min_num_coins = num_coins + 1\n",
    "    return min_num_coins"
   ]
  },
  {
   "cell_type": "code",
   "execution_count": null,
   "metadata": {},
   "outputs": [],
   "source": [
    "for (money, coins, number_of_coins) in [(1, coins, 1), (2, coins, 2), (28, coins, 6), (95, coins, 10)]:\n",
    "            print(money_change_rec(money,coins) == number_of_coins)\n",
    "        \n",
    "# Last one is tricksy!"
   ]
  },
  {
   "cell_type": "markdown",
   "metadata": {},
   "source": [
    "#### Dynamic Programming Approach"
   ]
  },
  {
   "cell_type": "code",
   "execution_count": 97,
   "metadata": {},
   "outputs": [],
   "source": [
    "def money_change_dp(money, coins):\n",
    "    min_num_coins = [0]\n",
    "    for m in range(1,money + 1):\n",
    "        min_num_coins.append(inf)\n",
    "        for c in coins:\n",
    "            if m >= c:\n",
    "                num_coins = min_num_coins[m-c] + 1\n",
    "                if num_coins < min_num_coins[m]:\n",
    "                    min_num_coins[m] = num_coins\n",
    "    return min_num_coins[money]\n"
   ]
  },
  {
   "cell_type": "code",
   "execution_count": 81,
   "metadata": {},
   "outputs": [
    {
     "data": {
      "text/plain": [
       "[0, 0, 0, 0, 0, 0, 0, 0, 0, 0]"
      ]
     },
     "execution_count": 81,
     "metadata": {},
     "output_type": "execute_result"
    }
   ],
   "source": [
    "d = [0] * 10\n",
    "d"
   ]
  },
  {
   "cell_type": "code",
   "execution_count": 98,
   "metadata": {},
   "outputs": [
    {
     "data": {
      "text/plain": [
       "13"
      ]
     },
     "execution_count": 98,
     "metadata": {},
     "output_type": "execute_result"
    }
   ],
   "source": [
    "money_change_dp(50,[1,3,4])"
   ]
  },
  {
   "cell_type": "code",
   "execution_count": 96,
   "metadata": {},
   "outputs": [
    {
     "name": "stdout",
     "output_type": "stream",
     "text": [
      "[0]\n",
      "1\n",
      "1\n",
      "True\n",
      "[0]\n",
      "2\n",
      "2\n",
      "True\n",
      "[0]\n",
      "28\n",
      "28\n",
      "True\n",
      "[0]\n",
      "95\n",
      "95\n",
      "True\n"
     ]
    }
   ],
   "source": [
    "for (money, coins, number_of_coins) in [(1, coins, 1), (2, coins, 2), (28, coins, 6), (95, coins, 10)]:\n",
    "            print(money_change_dp(money,coins) == number_of_coins)\n"
   ]
  },
  {
   "cell_type": "markdown",
   "metadata": {},
   "source": [
    "### 5.2 Primitive Calculator"
   ]
  },
  {
   "cell_type": "markdown",
   "metadata": {},
   "source": [
    "#### Greedy Approach"
   ]
  },
  {
   "cell_type": "code",
   "execution_count": 8,
   "metadata": {},
   "outputs": [],
   "source": [
    "def greedy_calc(n):\n",
    "    num_operations = 0\n",
    "    while n > 1:\n",
    "        num_operations += 1\n",
    "        if n % 3 == 0:\n",
    "            n = n/3\n",
    "        elif n % 2 == 0:\n",
    "            n = n/2\n",
    "        else:\n",
    "            n -= 1\n",
    "    return num_operations"
   ]
  },
  {
   "cell_type": "code",
   "execution_count": 559,
   "metadata": {},
   "outputs": [
    {
     "data": {
      "text/plain": [
       "4"
      ]
     },
     "execution_count": 559,
     "metadata": {},
     "output_type": "execute_result"
    }
   ],
   "source": [
    "greedy_calc(10)"
   ]
  },
  {
   "cell_type": "code",
   "execution_count": 563,
   "metadata": {},
   "outputs": [],
   "source": [
    "def compute_sequence(n):\n",
    "    sequence = []\n",
    "    while n >= 1:\n",
    "        sequence.append(n)\n",
    "        if n % 3 == 0:\n",
    "            n = int(n / 3)\n",
    "        elif n % 2 == 0:\n",
    "            n = int(n / 2)\n",
    "        else:\n",
    "            n = n - 1\n",
    "    return list(reversed(sequence))"
   ]
  },
  {
   "cell_type": "code",
   "execution_count": 564,
   "metadata": {},
   "outputs": [
    {
     "data": {
      "text/plain": [
       "[1, 2, 4, 5, 10]"
      ]
     },
     "execution_count": 564,
     "metadata": {},
     "output_type": "execute_result"
    }
   ],
   "source": [
    "compute_sequence(10)"
   ]
  },
  {
   "cell_type": "markdown",
   "metadata": {},
   "source": [
    "#### DP Primitive Calculator"
   ]
  },
  {
   "cell_type": "code",
   "execution_count": 653,
   "metadata": {},
   "outputs": [],
   "source": [
    "def calc(n):\n",
    "    # table - store intermediate results\n",
    "    # https://thisthread.blogspot.com/2018/02/primitive-calculator.html\n",
    "\n",
    "    table = [0] * (n + 1)\n",
    "    \n",
    "    for t in range(1, len(table)):\n",
    "        table[t] = table[t-1] + 1\n",
    "        if t % 2 == 0:\n",
    "            table[t] = min(table[t], table [t // 2] + 1 )\n",
    "        if t % 3 == 0:\n",
    "            table[t] = min(table[t], table [t // 3] + 1 )\n",
    "\n",
    "    # return (table[-1] - 1)  #is the length of the list of sequences including\n",
    "\n",
    "    print(table)\n",
    "    print(\"n: \", n)\n",
    "    sequence = [1] * table[-1]\n",
    "    for t in range(1, table[-1]):\n",
    "        sequence [-t] = n\n",
    "        \n",
    "        if table[n - 1] == table[n] - 1:\n",
    "            n -= 1\n",
    "        elif n % 2 == 0 and (table[n // 2] == table[n] - 1 ):\n",
    "            n //= 2\n",
    "        else:\n",
    "            n //= 3\n",
    "    return sequence\n",
    "    \n"
   ]
  },
  {
   "cell_type": "code",
   "execution_count": 654,
   "metadata": {},
   "outputs": [
    {
     "name": "stdout",
     "output_type": "stream",
     "text": [
      "[0, 1, 2, 2, 3, 4, 3, 4, 4, 3, 4]\n",
      "n:  10\n"
     ]
    },
    {
     "data": {
      "text/plain": [
       "[1, 3, 9, 10]"
      ]
     },
     "execution_count": 654,
     "metadata": {},
     "output_type": "execute_result"
    }
   ],
   "source": [
    "calc(10)"
   ]
  },
  {
   "cell_type": "code",
   "execution_count": 585,
   "metadata": {},
   "outputs": [],
   "source": [
    "def calc_seq(n):\n",
    "    sequence = []\n",
    "#    sequence.append = 1\n",
    "    cur_sequence = []\n",
    "#    cur_sequence[0] = 1\n",
    "    \n",
    "    #if n == 1 or n == 2 or n == 3:\n",
    "    #    sequence.append(n)\n",
    "    #    return sequence\n",
    "                    \n",
    "    while n > 1:\n",
    "        cur_sequence.append(n)\n",
    "        if n % 3 == 0 :\n",
    "            n = int(n/3)\n",
    "            cur_sequence = cur_sequence + calc_seq(n)\n",
    "            if len(cur_sequence) < len(sequence):\n",
    "                sequence = cur_sequence\n",
    "            print (cur_sequence)    \n",
    "        elif n % 2 == 0:\n",
    "            n = int(n/2)\n",
    "            cur_sequence = cur_sequence + calc_seq(n)\n",
    "            if len(cur_sequence) < len(sequence):\n",
    "                sequence = cur_sequence\n",
    "            print (cur_sequence)                \n",
    "        else :\n",
    "            cur_sequence = cur_sequence + calc_seq(n-1)\n",
    "            if len(cur_sequence) < len(sequence):\n",
    "                sequence = cur_sequence\n",
    "            print (cur_sequence)\n",
    "        n -= 1\n",
    "    return list(reversed(sequence)) \n"
   ]
  },
  {
   "cell_type": "markdown",
   "metadata": {},
   "source": [
    "### 5.3 Edit Distance"
   ]
  },
  {
   "cell_type": "code",
   "execution_count": 549,
   "metadata": {},
   "outputs": [],
   "source": [
    "# Uses python3\n",
    "def edit_distance(str1, str2):\n",
    "    m = len(str1)\n",
    "    n = len(str2)\n",
    "    \n",
    "    dist = [[0 for d in range(n + 1)] for d in range(m + 1 )]\n",
    "    \n",
    "    for i in range (m + 1 ):\n",
    "        for j in range (n + 1):\n",
    "            \n",
    "            if i == 0:\n",
    "                dist[i][j] = j\n",
    "            \n",
    "            elif j == 0:\n",
    "                dist[i][j] = i\n",
    "            \n",
    "            elif str1[i-1] == str2[j-1]:\n",
    "                dist[i][j] = dist[i-1][j-1]\n",
    "\n",
    "            else:\n",
    "                dist[i][j] = 1 + min(dist[i][j-1],\n",
    "                                    dist[i-1][j],\n",
    "                                    dist[i-1][j-1])\n",
    "                \n",
    "    return dist[m][n] "
   ]
  },
  {
   "cell_type": "code",
   "execution_count": 555,
   "metadata": {},
   "outputs": [
    {
     "name": "stdout",
     "output_type": "stream",
     "text": [
      "True\n",
      "True\n",
      "True\n",
      "True\n",
      "True\n",
      "True\n"
     ]
    }
   ],
   "source": [
    "        for first_string, second_string, answer in (\n",
    "            (\"ab\", \"ab\", 0),\n",
    "            (\"short\", \"ports\", 3),\n",
    "            (\"editing\", \"distance\", 5),\n",
    "            (\"a\" * 100, \"a\" * 100, 0),\n",
    "            (\"ab\" * 50, \"ba\" * 50, 2),\n",
    "            (\"editing\", \"distance\", 5)\n",
    "        ):\n",
    "            print(edit_distance(first_string, second_string) ==  answer)"
   ]
  },
  {
   "cell_type": "markdown",
   "metadata": {},
   "source": [
    "### 5.4 Longest Common Subsequence of Two Sequences"
   ]
  },
  {
   "cell_type": "code",
   "execution_count": 884,
   "metadata": {},
   "outputs": [],
   "source": [
    "def lcs2(a, b):\n",
    "    # assert len(a) <= 100\n",
    "    # assert len(b) <= 100\n",
    "\n",
    "    al = len(a)\n",
    "    bl = len(b)\n",
    "\n",
    "    seq_table = [[0 for _ in range(bl + 1)] for _ in range(al + 1)]\n",
    "\n",
    "    for i in range(al + 1):\n",
    "        for j in range(bl + 1):\n",
    "            if i == 0 or j == 0:\n",
    "                seq_table[i][j] = 0\n",
    "            elif a[i-1] == b[j-1]:\n",
    "                seq_table[i][j] = 1 + seq_table[i-1][j-1]\n",
    "            else:\n",
    "                seq_table[i][j] = max(seq_table[i-1][j], seq_table[i][j-1])\n",
    "\n",
    "    ind = seq_table[al][bl]\n",
    "\n",
    "    v = al \n",
    "    w = bl \n",
    "\n",
    "    # initialize the sub-sequence\n",
    "    seq = [\"\"] * (ind + 1)\n",
    "    \n",
    "    if ind > 0:\n",
    "        while v > 0 and w > 0:\n",
    "            if a[v-1] == b[w-1]:\n",
    "                seq[ind - 1] = a[v-1]\n",
    "                ind -= 1\n",
    "                v -= 1\n",
    "                w -= 1\n",
    "            elif seq_table[v-1][w] > seq_table[v][w-1]:\n",
    "                v -= 1\n",
    "            else:\n",
    "                w -= 1\n",
    "\n",
    "    # seq is the longest subsequence\n",
    "    # seq_table [al][bl] is the length of the longest subsequence\n",
    "\n",
    "    #return  seq_table [al][bl] , seq[:-1]\n",
    "    \n",
    "    return seq_table[al][bl]"
   ]
  },
  {
   "cell_type": "code",
   "execution_count": 873,
   "metadata": {},
   "outputs": [
    {
     "data": {
      "text/plain": [
       "(2, [2, 3])"
      ]
     },
     "execution_count": 873,
     "metadata": {},
     "output_type": "execute_result"
    }
   ],
   "source": [
    "lcs2([2,3], [5,2,8,7,3])"
   ]
  },
  {
   "cell_type": "code",
   "execution_count": 874,
   "metadata": {},
   "outputs": [
    {
     "data": {
      "text/plain": [
       "(1, [2])"
      ]
     },
     "execution_count": 874,
     "metadata": {},
     "output_type": "execute_result"
    }
   ],
   "source": [
    "lcs2([1,2],[2,1])"
   ]
  },
  {
   "cell_type": "code",
   "execution_count": 875,
   "metadata": {},
   "outputs": [
    {
     "data": {
      "text/plain": [
       "(2, [2, 5])"
      ]
     },
     "execution_count": 875,
     "metadata": {},
     "output_type": "execute_result"
    }
   ],
   "source": [
    "lcs2([2,7,5],[2,5])"
   ]
  },
  {
   "cell_type": "code",
   "execution_count": 876,
   "metadata": {},
   "outputs": [
    {
     "data": {
      "text/plain": [
       "(2, [2, 8])"
      ]
     },
     "execution_count": 876,
     "metadata": {},
     "output_type": "execute_result"
    }
   ],
   "source": [
    "lcs2([2,7,8,3],[5,2,8,7])"
   ]
  },
  {
   "cell_type": "code",
   "execution_count": 885,
   "metadata": {},
   "outputs": [
    {
     "name": "stdout",
     "output_type": "stream",
     "text": [
      "test case: 1 True\n",
      "test case: 2 True\n",
      "test case: 3 True\n",
      "test case: 4 True\n",
      "test case: 5 True\n",
      "test case: 6 True\n",
      "test case: 7 True\n",
      "test case: 8 True\n"
     ]
    }
   ],
   "source": [
    "count = 1\n",
    "for first_sequence, second_sequence, answer in (\n",
    "    ((1, 2), (2, 1), 1),\n",
    "    ((1, 2), (3, 4), 0),\n",
    "    ([17] * 50, [17] * 25, 25),\n",
    "    ([1] * 100, [1] * 100, 100),\n",
    "    ((2, 7, 5), (2, 5), 2),\n",
    "    ((7, ), (1, 2, 3, 4), 0),\n",
    "    ((2, 7, 8, 3), (5, 2, 8, 7), 2),\n",
    "    ((2, 3), (5, 2, 8, 7, 3), 2)\n",
    "):\n",
    "    print (\"test case:\", count, lcs2(first_sequence, second_sequence) == answer)\n",
    "    count += 1"
   ]
  },
  {
   "cell_type": "markdown",
   "metadata": {},
   "source": [
    "### 5.5 Longest Common Subsequence of Two Sequences"
   ]
  },
  {
   "cell_type": "code",
   "execution_count": 882,
   "metadata": {},
   "outputs": [],
   "source": [
    "def lcs3(a, b, c):\n",
    "\n",
    "    al = len(a)\n",
    "    bl = len(b)\n",
    "    cl = len(c)\n",
    "\n",
    "    seq_table = [ [ [0 for _ in range(cl + 1)] for _ in range(bl + 1)] for _ in range(al + 1)]\n",
    "\n",
    "    for i in range(al + 1):\n",
    "        for j in range(bl + 1):\n",
    "            for k in range (cl + 1):\n",
    "                if i == 0 or j == 0 or k == 0: \n",
    "                    seq_table[i][j][k] = 0\n",
    "                elif a[i-1] == b[j-1] and a[i-1] == c[k-1]:\n",
    "                    seq_table[i][j][k] = 1 + seq_table[i-1][j-1][k-1]\n",
    "                else:\n",
    "                    seq_table[i][j][k] = max(seq_table[i-1][j][k],\n",
    "                                         seq_table[i][j-1][k],\n",
    "                                         seq_table[i][j][k-1],\n",
    "                                        )\n",
    "    return seq_table[al][bl][cl]"
   ]
  },
  {
   "cell_type": "code",
   "execution_count": 883,
   "metadata": {},
   "outputs": [
    {
     "data": {
      "text/plain": [
       "2"
      ]
     },
     "execution_count": 883,
     "metadata": {},
     "output_type": "execute_result"
    }
   ],
   "source": [
    "a = [1, 2, 3]\n",
    "b = [2, 1, 3]\n",
    "c = [1, 3, 5]\n",
    "lcs3(a,b,c)"
   ]
  },
  {
   "cell_type": "code",
   "execution_count": 886,
   "metadata": {},
   "outputs": [
    {
     "data": {
      "text/plain": [
       "3"
      ]
     },
     "execution_count": 886,
     "metadata": {},
     "output_type": "execute_result"
    }
   ],
   "source": [
    "a = [8,3,2,1,7]\n",
    "b = [8,2,1,3,8,10,7]\n",
    "c = [6,8,3,1,4,7]\n",
    "lcs3(a,b,c)"
   ]
  },
  {
   "cell_type": "code",
   "execution_count": 888,
   "metadata": {},
   "outputs": [
    {
     "name": "stdout",
     "output_type": "stream",
     "text": [
      "test case: 0 True\n",
      "test case: 1 True\n",
      "test case: 2 True\n",
      "test case: 3 True\n",
      "test case: 4 True\n"
     ]
    }
   ],
   "source": [
    "count = 0\n",
    "\n",
    "for first_sequence, second_sequence, third_sequence, answer in (\n",
    "    ((1, 2, 3), (2, 1, 3), (1, 3, 5), 2),\n",
    "    ((8, 3, 2, 1, 7), (8, 2, 1, 3, 8, 10, 7), (6, 8, 3, 1, 4, 7), 3),\n",
    "    ([7] * 25, [6, 7] * 25, [7] * 25, 25),\n",
    "    ([7] * 25, [7] * 100, [5, 6] * 50, 0),\n",
    "    ((2, 4, 6), (3, 5, 7), (8, 10, 12), 0)\n",
    "):\n",
    "    print (\"test case:\", count, lcs3(first_sequence, second_sequence, third_sequence) == answer)\n",
    "    count += 1"
   ]
  },
  {
   "cell_type": "markdown",
   "metadata": {},
   "source": [
    "### 6.1 Maximum Amount of Gold\n",
    "\n",
    "A variation of the Knapsack problem - discrete knapsack with no repetitions \n"
   ]
  },
  {
   "cell_type": "code",
   "execution_count": 4,
   "metadata": {},
   "outputs": [],
   "source": [
    "def maximum_gold_greedy(W, w):\n",
    "    # write your code here\n",
    "    result = 0\n",
    "    for x in w:\n",
    "        if result + x <= W:\n",
    "            result = result + x\n",
    "    return result"
   ]
  },
  {
   "cell_type": "code",
   "execution_count": 5,
   "metadata": {},
   "outputs": [
    {
     "name": "stdout",
     "output_type": "stream",
     "text": [
      "Test # 1 False\n",
      "Test # 1 False\n",
      "Test # 1 False\n",
      "Test # 1 True\n"
     ]
    }
   ],
   "source": [
    "count = 1\n",
    "for capacity, weights, answer in (\n",
    "    (10, (1, 4, 8), 9),\n",
    "    (20, (5, 7, 12, 18), 19),\n",
    "    (10, (3, 5, 3, 3, 5), 10),\n",
    "    (16, (1,5,10), 16)\n",
    "):\n",
    "    print (\"Test #\", count, (maximum_gold_greedy(capacity, weights) == answer))"
   ]
  },
  {
   "cell_type": "code",
   "execution_count": 140,
   "metadata": {},
   "outputs": [],
   "source": [
    "def maximum_gold(capacity, weights):\n",
    "    \n",
    "    max_gold = [[0 for _ in range(capacity + 1)] for _ in range(len(weights) + 1)]\n",
    "    max_gold[0] = [weights[0] if weights[0] <= j else 0 for j in range (capacity + 1)]\n",
    "\n",
    "    for i in range(1, len(weights)):\n",
    "        for w in range(1, capacity + 1):\n",
    "            max_gold[i][w] = max_gold[i - 1][w]\n",
    "            if weights[i] <= w:\n",
    "                val = max_gold[i - 1][w - weights[i]] + weights[i]\n",
    "                if max_gold[i][w] < val:\n",
    "                    max_gold[i][w] = val\n",
    "    return max_gold[-2][-1]"
   ]
  },
  {
   "cell_type": "code",
   "execution_count": 146,
   "metadata": {},
   "outputs": [
    {
     "name": "stdout",
     "output_type": "stream",
     "text": [
      "Test # 1 True\n",
      "Test # 2 True\n",
      "Test # 3 True\n",
      "Test # 4 True\n"
     ]
    }
   ],
   "source": [
    "count = 1\n",
    "for capacity, weights, answer in (\n",
    "    (10, (1, 4, 8), 9),\n",
    "    (20, (5, 7, 12, 18), 19),\n",
    "    (10, (3, 5, 3, 3, 5), 10),\n",
    "    (16, (1,5,10), 16)\n",
    "):\n",
    "    print (\"Test #\", count, (maximum_gold(capacity, weights) == answer))\n",
    "    count += 1"
   ]
  },
  {
   "cell_type": "markdown",
   "metadata": {},
   "source": [
    "### 6.2 Partitioning Souvenirs"
   ]
  },
  {
   "cell_type": "code",
   "execution_count": 155,
   "metadata": {},
   "outputs": [],
   "source": [
    "def subset3_sum(subset, n, s1, s2, s3):\n",
    "    \n",
    "    # 3 empty subsets means that they are equal\n",
    "    if s1 == 0 and s2 == 0 and s3 == 0:\n",
    "        return 1\n",
    "    \n",
    "    # base case\n",
    "    if n < 0:\n",
    "        return 0\n",
    "    \n",
    "    # becomes part of subset 1\n",
    "    in_s1 = 0\n",
    "    if s1 - subset[n] >= 0:\n",
    "        in_s1 = subset3_sum(subset, n - 1, s1 - subset[n], s2, s3)\n",
    "        \n",
    "    # becomes part of subset 2\n",
    "    in_s2 = 0\n",
    "    if not in_s1 and (s2 - subset[n] >= 0):\n",
    "        in_s2 = subset3_sum(subset, n - 1, s1, s2  - subset[n], s3)\n",
    "        \n",
    "    # becomes part of subset 3\n",
    "    in_s3 = 0\n",
    "    if (not in_s1 and not in_s2) and (s3 - subset[n] >= 0):\n",
    "        in_s3 = subset3_sum(subset, n - 1, s1, s2, s3  - subset[n])\n",
    "        \n",
    "    return in_s1 or in_s2 or in_s3\n",
    "    \n",
    "\n",
    "def partition3(values):\n",
    "    \n",
    "    total = sum(values)\n",
    "    \n",
    "    # return 0 if sum of values % 3 is not 0 implying that each partition sum will not be an integer\n",
    "    # number of values should be at least 3\n",
    "    if total % 3 != 0 or len(values) < 3:\n",
    "        return 0\n",
    "    \n",
    "    sub3_total = total / 3\n",
    "    \n",
    "    \n",
    "    n = len(values) - 1\n",
    "    \n",
    "    return subset3_sum(values, n, sub3_total, sub3_total, sub3_total)"
   ]
  },
  {
   "cell_type": "code",
   "execution_count": 157,
   "metadata": {},
   "outputs": [
    {
     "name": "stdout",
     "output_type": "stream",
     "text": [
      "Test # 1 True\n",
      "Test # 2 True\n",
      "Test # 3 True\n",
      "Test # 4 True\n",
      "Test # 5 True\n"
     ]
    }
   ],
   "source": [
    "count = 1\n",
    "for values, answer in (\n",
    "    ((20, ), 0),\n",
    "    ((7, 7, 7), 1),\n",
    "    ((3, 3, 3), 1),\n",
    "    ((3, 3, 3, 3), 0),\n",
    "    ((1, 2, 3, 4, 5, 5, 7, 7, 8, 10, 12, 19, 25), 1)\n",
    "):\n",
    "    print (\"Test #\", count, partition3(values) == answer)\n",
    "    count += 1"
   ]
  },
  {
   "cell_type": "markdown",
   "metadata": {},
   "source": [
    "### 6.3 Maximum value of an arithmetic expression"
   ]
  },
  {
   "cell_type": "code",
   "execution_count": 176,
   "metadata": {},
   "outputs": [],
   "source": [
    "from math import inf\n",
    "import re\n",
    "\n",
    "\n",
    "def calculate(y, operator, z):\n",
    "    if operator == \"+\":\n",
    "        result = y + z\n",
    "    elif operator == \"-\":\n",
    "        result = y - z\n",
    "    elif operator == \"*\":\n",
    "        result = y * z\n",
    "    else:\n",
    "        result = y / z\n",
    "\n",
    "    return result\n",
    "\n",
    "\n",
    "def min_and_max(i, j, op, min_values, max_values):\n",
    "    cmin = inf\n",
    "    cmax = -inf\n",
    "    for k in range(i, j):\n",
    "        a = calculate((max_values[i][k]), op[k], max_values[k + 1][j])\n",
    "        b = calculate((max_values[i][k]), op[k], min_values[k + 1][j])\n",
    "        c = calculate((min_values[i][k]), op[k], max_values[k + 1][j])\n",
    "        d = calculate((min_values[i][k]), op[k], min_values[k + 1][j])\n",
    "        cmin = min(cmin, a, b, c, d)\n",
    "        cmax = max(cmax, a, b, c, d)\n",
    "    return cmin, cmax\n",
    "\n",
    "\n",
    "def find_maximum_value(dataset):\n",
    "    assert 1 <= len(dataset) <= 29\n",
    "\n",
    "    nums = [int(i) for i in re.findall(\"\\d\", dataset)]\n",
    "    op = re.findall(\"[-+*/]\", dataset)\n",
    "\n",
    "    n = len(nums)\n",
    "\n",
    "    max_values = [[None for _ in range(n)] for _ in range(n)]\n",
    "    min_values = [[None for _ in range(n)] for _ in range(n)]\n",
    "\n",
    "    for i in range(n):\n",
    "        min_values[i][i] = nums[i]\n",
    "        max_values[i][i] = nums[i]\n",
    "\n",
    "    for s in range(1, n):\n",
    "        for i in range(n-s):\n",
    "            j = i + s\n",
    "            min_values[i][j], max_values[i][j] = min_and_max(i, j, op, min_values, max_values)\n",
    "\n",
    "    return max_values[0][n - 1]"
   ]
  },
  {
   "cell_type": "code",
   "execution_count": 177,
   "metadata": {},
   "outputs": [
    {
     "name": "stdout",
     "output_type": "stream",
     "text": [
      "test:  1 True 5\n",
      "test:  2 True 5\n",
      "test:  3 True -1\n",
      "test:  4 True 200\n",
      "test:  5 True 14\n"
     ]
    }
   ],
   "source": [
    "count = 1\n",
    "for s, answer in (\n",
    "    (\"5\", 5),\n",
    "    (\"2+3\", 5),\n",
    "    (\"2-3\", -1),\n",
    "    (\"5-8+7*4-8+9\", 200),\n",
    "    (\"1*5+9\", 14)\n",
    "):\n",
    "    print (\"test: \", count, find_maximum_value(s) == answer, answer )\n",
    "    count += 1"
   ]
  },
  {
   "cell_type": "raw",
   "metadata": {},
   "source": []
  },
  {
   "cell_type": "code",
   "execution_count": null,
   "metadata": {},
   "outputs": [],
   "source": []
  }
 ],
 "metadata": {
  "kernelspec": {
   "display_name": "Python 3 (ipykernel)",
   "language": "python",
   "name": "python3"
  },
  "language_info": {
   "codemirror_mode": {
    "name": "ipython",
    "version": 3
   },
   "file_extension": ".py",
   "mimetype": "text/x-python",
   "name": "python",
   "nbconvert_exporter": "python",
   "pygments_lexer": "ipython3",
   "version": "3.9.2"
  }
 },
 "nbformat": 4,
 "nbformat_minor": 4
}
