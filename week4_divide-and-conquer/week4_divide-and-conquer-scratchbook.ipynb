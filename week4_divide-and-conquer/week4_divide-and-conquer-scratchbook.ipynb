{
 "cells": [
  {
   "cell_type": "markdown",
   "metadata": {},
   "source": [
    "### 4.1 Binary Search"
   ]
  },
  {
   "cell_type": "code",
   "execution_count": 207,
   "metadata": {},
   "outputs": [],
   "source": [
    "# Linear search for results comparison\n",
    "def linear_search(keys, query):\n",
    "    for i in range(len(keys)):\n",
    "        if keys[i] == query:\n",
    "            return i\n",
    "\n",
    "    return -1"
   ]
  },
  {
   "cell_type": "markdown",
   "metadata": {},
   "source": [
    "#### Recursive Implementation:"
   ]
  },
  {
   "cell_type": "code",
   "execution_count": 229,
   "metadata": {},
   "outputs": [],
   "source": [
    "\n",
    "def binary_search(keys, query):\n",
    "    assert all(keys[i] < keys[i + 1] for i in range(len(keys) - 1))\n",
    "    assert 1 <= len(keys) <= 3 * 10 ** 4\n",
    "    \n",
    "    high = len(keys) - 1\n",
    "    low = 0\n",
    "    \n",
    "    return binary_search_single(keys, low, high, query)\n",
    "\n",
    "def binary_search_single(keys, low, high, query):\n",
    "\n",
    "    if high >= low:\n",
    "        mid = low + (high - low)//2\n",
    "\n",
    "        # middle element matches query\n",
    "        if query == keys[mid]:\n",
    "            return mid\n",
    "\n",
    "        # query is smaller than middle element, so possibly present in left side before mid\n",
    "        elif query < keys[mid]:\n",
    "            return binary_search_single(keys, low, mid-1, query)\n",
    "\n",
    "        # query is larger than middle element, so possibly present in right side after mid\n",
    "        else:\n",
    "            return binary_search_single(keys, mid+1, high, query)\n",
    "\n",
    "    else:\n",
    "        # query doesn't exist in array\n",
    "        return -1"
   ]
  },
  {
   "cell_type": "markdown",
   "metadata": {},
   "source": [
    "#### Iterative implementation"
   ]
  },
  {
   "cell_type": "code",
   "execution_count": 201,
   "metadata": {},
   "outputs": [],
   "source": [
    "# Iterative version of Binary Search\n",
    "\n",
    "def binary_search_it(keys, query):\n",
    "    assert all(keys[i] < keys[i + 1] for i in range(len(keys) - 1))\n",
    "    assert 1 <= len(keys) <= 3 * 10 ** 4\n",
    "\n",
    "    high = len(keys) - 1\n",
    "    low = 0\n",
    "    \n",
    "    while low <= high:\n",
    "        mid = low + (high - low)//2\n",
    "#        mid = (high + low)//2\n",
    "        if query == keys[mid]:\n",
    "            return mid\n",
    "        elif query < keys[mid]:\n",
    "            high = mid - 1\n",
    "        else:\n",
    "            low = mid + 1\n",
    "    return -1"
   ]
  },
  {
   "cell_type": "markdown",
   "metadata": {},
   "source": [
    "#### Testing Linear Search"
   ]
  },
  {
   "cell_type": "code",
   "execution_count": 219,
   "metadata": {},
   "outputs": [
    {
     "name": "stdout",
     "output_type": "stream",
     "text": [
      "[2, 0, -1, 0, -1]\n"
     ]
    },
    {
     "data": {
      "text/plain": [
       "True"
      ]
     },
     "execution_count": 219,
     "metadata": {},
     "output_type": "execute_result"
    }
   ],
   "source": [
    "results = []\n",
    "for q in [8,1,23,1,11]:\n",
    "    results.append(linear_search([1, 5, 8, 12, 13],q))\n",
    "print(results)\n",
    "results == [2,0,-1,0,-1]"
   ]
  },
  {
   "cell_type": "markdown",
   "metadata": {},
   "source": [
    "#### Testing - Recursive"
   ]
  },
  {
   "cell_type": "code",
   "execution_count": 230,
   "metadata": {},
   "outputs": [
    {
     "name": "stdout",
     "output_type": "stream",
     "text": [
      "[2, 0, -1, 0, -1]\n"
     ]
    },
    {
     "data": {
      "text/plain": [
       "True"
      ]
     },
     "execution_count": 230,
     "metadata": {},
     "output_type": "execute_result"
    }
   ],
   "source": [
    "results = []\n",
    "for q in [8,1,23,1,11]:\n",
    "    results.append(binary_search([1, 5, 8, 12, 13],q))\n",
    "print(results)\n",
    "results == [2,0,-1,0,-1]"
   ]
  },
  {
   "cell_type": "markdown",
   "metadata": {},
   "source": [
    "#### Testing - Iterative"
   ]
  },
  {
   "cell_type": "code",
   "execution_count": 220,
   "metadata": {},
   "outputs": [
    {
     "name": "stdout",
     "output_type": "stream",
     "text": [
      "[2, 0, -1, 0, -1]\n"
     ]
    },
    {
     "data": {
      "text/plain": [
       "True"
      ]
     },
     "execution_count": 220,
     "metadata": {},
     "output_type": "execute_result"
    }
   ],
   "source": [
    "results = []\n",
    "for q in [8,1,23,1,11]:\n",
    "    results.append(binary_search_it([1, 5, 8, 12, 13],q))\n",
    "print(results)\n",
    "results == [2,0,-1,0,-1]"
   ]
  },
  {
   "cell_type": "markdown",
   "metadata": {},
   "source": [
    "### 4.2 Binary Search with Duplicates"
   ]
  },
  {
   "cell_type": "code",
   "execution_count": 332,
   "metadata": {},
   "outputs": [
    {
     "name": "stdout",
     "output_type": "stream",
     "text": [
      "[2, 0, -1, 0, -1]\n"
     ]
    },
    {
     "data": {
      "text/plain": [
       "True"
      ]
     },
     "execution_count": 332,
     "metadata": {},
     "output_type": "execute_result"
    }
   ],
   "source": [
    "## First test without duplicates\n",
    "results = []\n",
    "for q in [8,1,23,1,11]:\n",
    "    results.append(binary_search_duplicates([1, 5, 8, 12, 13],q))\n",
    "print(results)\n",
    "results == [2,0,-1,0,-1]"
   ]
  },
  {
   "cell_type": "code",
   "execution_count": 317,
   "metadata": {},
   "outputs": [],
   "source": [
    "def binary_search_leftmost(keys, n, query):\n",
    "\n",
    "    low = 0    \n",
    "    high = n\n",
    "    \n",
    "    while low < high:\n",
    "        mid = (low + high) // 2\n",
    "        if keys[mid] < query:\n",
    "            low = mid + 1\n",
    "        else:\n",
    "            high = mid \n",
    "    return low\n"
   ]
  },
  {
   "cell_type": "code",
   "execution_count": 336,
   "metadata": {},
   "outputs": [],
   "source": [
    "def binary_search(keys, query):\n",
    "    # assert all(keys[i] < keys[i + 1] for i in range(len(keys) - 1))\n",
    "    # assert 1 <= len(keys) <= 3 * 10 ** 4\n",
    "\n",
    "    high = len(keys) - 1\n",
    "    low = 0\n",
    "\n",
    "    return binary_search_single(keys, low, high, query)\n",
    "\n",
    "\n",
    "def binary_search_single(keys, low, high, query):\n",
    "    if query == keys[low]:\n",
    "        return low\n",
    "\n",
    "    if high > low:\n",
    "        mid = low + (high - low)//2\n",
    "\n",
    "        # middle element matches query\n",
    "        if query == keys[mid]:\n",
    "            return binary_search_leftmost(keys, mid, query)\n",
    "\n",
    "        # query is smaller than middle element, so possibly present in left side before mid\n",
    "        elif query < keys[mid]:\n",
    "            return binary_search_single(keys, low, mid-1, query)\n",
    "\n",
    "        # query is larger than middle element, so possibly present in right side after mid\n",
    "        else:\n",
    "            return binary_search_single(keys, mid+1, high, query)\n",
    "\n",
    "    else:\n",
    "        # query doesn't exist in array\n",
    "        return -1"
   ]
  },
  {
   "cell_type": "code",
   "execution_count": 337,
   "metadata": {},
   "outputs": [
    {
     "name": "stdout",
     "output_type": "stream",
     "text": [
      "[-1, 6, 1, -1, 4, -1]\n"
     ]
    }
   ],
   "source": [
    "## Then test with duplicates\n",
    "results = []\n",
    "for q in [0, 9, 4, 5, 7, 10]:\n",
    "    results.append(binary_search([2, 4, 4, 4, 7, 7, 9],q))\n",
    "print(results)"
   ]
  },
  {
   "cell_type": "code",
   "execution_count": 335,
   "metadata": {},
   "outputs": [
    {
     "name": "stdout",
     "output_type": "stream",
     "text": [
      "[-1, 6, 1, -1, 4, -1]\n"
     ]
    }
   ],
   "source": [
    "results = []\n",
    "for q in [0, 9, 4, 5, 7, 10]:\n",
    "    results.append(linear_search([2, 4, 4, 4, 7, 7, 9],q))\n",
    "print(results)\n",
    "#results == [2,0,-1,0,-1]"
   ]
  },
  {
   "cell_type": "markdown",
   "metadata": {},
   "source": [
    "### 4.3 Majority Element"
   ]
  },
  {
   "cell_type": "code",
   "execution_count": 357,
   "metadata": {},
   "outputs": [],
   "source": [
    "def majority_element_naive(elements):\n",
    "    assert len(elements) <= 10 ** 5\n",
    "    for e in elements:\n",
    "        if elements.count(e) > len(elements) / 2:\n",
    "            return 1\n",
    "\n",
    "    return 0"
   ]
  },
  {
   "cell_type": "code",
   "execution_count": 437,
   "metadata": {},
   "outputs": [],
   "source": [
    "def majority_element(elements):\n",
    "    # assert len(elements) <= 10 ** 5\n",
    "    \n",
    "    \n",
    "    if majority_element_value(elements) == None:\n",
    "        return 0\n",
    "    else:\n",
    "        return 1\n",
    "        \n",
    "    \n",
    "def majority_element_value(elements):\n",
    "\n",
    "    # Base cases: \n",
    "    ## if a single integer in array return None\n",
    "    if len(elements) == 0:\n",
    "        return None\n",
    "\n",
    "    ## if a single integer in array return element value\n",
    "    if len(elements) == 1:\n",
    "        return elements[0]\n",
    "    \n",
    "    mid = len(elements) // 2\n",
    "    \n",
    "    \n",
    "    left = majority_element_value(elements[0:mid])\n",
    "    right = majority_element_value(elements[mid:])\n",
    "    \n",
    "    # if they match return any of them\n",
    "    if left == right:\n",
    "        return left\n",
    "\n",
    "    # check which side contains majority element and return \n",
    "    if elements.count(left) > mid:\n",
    "        return left\n",
    "\n",
    "    if elements.count(right) > mid:\n",
    "        return right\n",
    "    \n",
    "    return None\n",
    "    "
   ]
  },
  {
   "cell_type": "code",
   "execution_count": 442,
   "metadata": {},
   "outputs": [],
   "source": [
    "def majority_element_bm(elements):\n",
    "    if majority_element_value_bm(elements) == None:\n",
    "        return 0\n",
    "    else:\n",
    "        return 1\n",
    "    \n",
    "def majority_element_value_bm(elements):\n",
    "    # set counter to 0\n",
    "    count = 0\n",
    "    for e in elements:\n",
    "        if count == 0:\n",
    "            candidate = e\n",
    "        if e == candidate:\n",
    "            count += 1\n",
    "        else:\n",
    "            count -= 1\n",
    "    if elements and elements.count(candidate) > len(elements) // 2:\n",
    "        return candidate\n",
    "    return None\n"
   ]
  },
  {
   "cell_type": "code",
   "execution_count": 444,
   "metadata": {},
   "outputs": [
    {
     "name": "stdout",
     "output_type": "stream",
     "text": [
      "naive 1\n",
      "D and C 1\n",
      "bm 1\n"
     ]
    }
   ],
   "source": [
    "result = majority_element_naive([1,2,3,1,1])\n",
    "print(\"naive\", result)\n",
    "result = majority_element([1,2,3,1,1])\n",
    "print(\"D and C\", result)\n",
    "result = majority_element_bm([1,2,3,1,1])\n",
    "print(\"bm\", result)"
   ]
  },
  {
   "cell_type": "markdown",
   "metadata": {},
   "source": [
    "### 4.4 Improving Quick Sort"
   ]
  },
  {
   "cell_type": "code",
   "execution_count": 504,
   "metadata": {},
   "outputs": [],
   "source": [
    "from random import randint\n",
    "\n",
    "\n",
    "def partition3(array, left, right):\n",
    "    \n",
    "    m1 = left\n",
    "    index = left\n",
    "    m2 = right\n",
    "    \n",
    "    pivot = array[left]\n",
    "    \n",
    "    \n",
    "    while index <= m2:\n",
    "        if array[index] < pivot:\n",
    "            # push item to the left\n",
    "            array[m1], array[index] = array[index], array[m1]\n",
    "            m1 += 1\n",
    "            index += 1\n",
    "        elif array[index] > pivot:\n",
    "            # push item to the right, beyond pivot\n",
    "            array[index], array[m2] = array[m2], array[index]\n",
    "            m2 -= 1\n",
    "        else:\n",
    "            index += 1\n",
    "            \n",
    "    return m1, m2\n",
    "\n",
    "\n",
    "def randomized_quick_sort(array, left, right):\n",
    "    if left >= right:\n",
    "        return\n",
    "    k = randint(left, right)\n",
    "\n",
    "    array[k], array[left]  = array[left], array[k]\n",
    "    m1, m2 = partition3(array, left, right)\n",
    "    print(m1,m2)\n",
    "    randomized_quick_sort(array, left, m1 - 1)\n",
    "    randomized_quick_sort(array, m2 + 1, right)"
   ]
  },
  {
   "cell_type": "code",
   "execution_count": 505,
   "metadata": {},
   "outputs": [],
   "source": [
    "an_array = [4,3,2]"
   ]
  },
  {
   "cell_type": "code",
   "execution_count": 511,
   "metadata": {},
   "outputs": [
    {
     "name": "stdout",
     "output_type": "stream",
     "text": [
      "1 1\n",
      "None\n"
     ]
    }
   ],
   "source": [
    "result = randomized_quick_sort(an_array, 0, len(an_array) - 1)\n",
    "print(result)"
   ]
  },
  {
   "cell_type": "code",
   "execution_count": 482,
   "metadata": {},
   "outputs": [
    {
     "name": "stdout",
     "output_type": "stream",
     "text": [
      "None\n"
     ]
    }
   ],
   "source": [
    "print (result)"
   ]
  },
  {
   "cell_type": "code",
   "execution_count": 507,
   "metadata": {},
   "outputs": [],
   "source": [
    "def partition3_2(array, left, right):\n",
    "    x = array[left]\n",
    "    m1 = left\n",
    "    m2 = right\n",
    "    for i in range(left + 1, right + 1):\n",
    "        if array[i] < x:\n",
    "            m1 += 1\n",
    "            array[i], array[m1] = array[m1], array[i]\n",
    "        elif array[i] > x:\n",
    "            m2 -= 1\n",
    "            array[i], array[m2] = array[m2], array[i]\n",
    "\n",
    "\n",
    "    return m1, m2\n",
    "\n",
    "def randomized_quick_sort_2(array, left, right):\n",
    "    if left >= right:\n",
    "        return\n",
    "    k = randint(left, right)\n",
    "\n",
    "    array[k], array[left]  = array[left], array[k]\n",
    "    m1, m2 = partition3_2(array, left, right)\n",
    "    print(m1,m2)\n",
    "    randomized_quick_sort_2(array, left, m1 - 1)\n",
    "    randomized_quick_sort_2(array, m2 + 1, right)"
   ]
  },
  {
   "cell_type": "code",
   "execution_count": 510,
   "metadata": {},
   "outputs": [
    {
     "name": "stdout",
     "output_type": "stream",
     "text": [
      "1 1\n",
      "None\n"
     ]
    }
   ],
   "source": [
    "result2 = randomized_quick_sort_2(an_array, 0, len(an_array) - 1)\n",
    "print(result2)"
   ]
  },
  {
   "cell_type": "markdown",
   "metadata": {},
   "source": [
    "### 4.5 Number of Inversions"
   ]
  },
  {
   "cell_type": "code",
   "execution_count": 1,
   "metadata": {},
   "outputs": [],
   "source": [
    "from itertools import combinations\n",
    "\n",
    "\n",
    "def compute_inversions_naive(a):\n",
    "    number_of_inversions = 0\n",
    "    for i, j in combinations(range(len(a)), 2):\n",
    "        if a[i] > a[j]:\n",
    "            number_of_inversions += 1\n",
    "    return number_of_inversions"
   ]
  },
  {
   "cell_type": "code",
   "execution_count": 108,
   "metadata": {},
   "outputs": [],
   "source": [
    "\n",
    "def compute_inversions(a):\n",
    "    inv, a = sort_count(a)\n",
    "    return inv\n",
    "\n",
    "\n",
    "def sort_count(a):\n",
    "    if len(a) <= 1:\n",
    "        return 0, a\n",
    "\n",
    "    mid = len(a)//2\n",
    "    inv_b, left = sort_count(a[0:mid])\n",
    "    inv_c, right = sort_count(a[mid:])\n",
    "    inv_bc, a_merged = count_cross_merge(left, right)\n",
    "\n",
    "    inversions = inv_b + inv_c + inv_bc\n",
    "    return inversions, a_merged\n",
    "\n",
    "\n",
    "def count_cross_merge(left, right):\n",
    "    merged = []\n",
    "    i = j = inv = 0\n",
    "    while i < len(left) and j < len(right):\n",
    "        if left[i] > right[j]:\n",
    "            merged.append(right[j])\n",
    "            inv += len(left) - i\n",
    "            j += 1\n",
    "        else:\n",
    "            merged.append(left[i])\n",
    "            i += 1\n",
    "    if i < len(left):\n",
    "        merged.extend(left[i:])\n",
    "    else:\n",
    "        merged.extend(right[j:])\n",
    "    return inv, merged"
   ]
  },
  {
   "cell_type": "code",
   "execution_count": 110,
   "metadata": {},
   "outputs": [
    {
     "data": {
      "text/plain": [
       "True"
      ]
     },
     "execution_count": 110,
     "metadata": {},
     "output_type": "execute_result"
    }
   ],
   "source": [
    "compute_inversions([1,3,4,8,2,4,10,6,5]) == compute_inversions_naive([1,3,4,8,2,4,10,6,5])"
   ]
  },
  {
   "cell_type": "markdown",
   "metadata": {},
   "source": [
    "### 4.6 Organizing a Lottery"
   ]
  },
  {
   "cell_type": "code",
   "execution_count": 20,
   "metadata": {},
   "outputs": [],
   "source": [
    "def naive_count_segments(starts, ends, points):\n",
    "    cnt = [0] * len(points)\n",
    "    for i in range(len(points)):\n",
    "        for j in range(len(starts)):\n",
    "            if starts[j] <= points[i] <= ends[j]:\n",
    "                cnt[i] += 1\n",
    "    return cnt\n"
   ]
  },
  {
   "cell_type": "code",
   "execution_count": 44,
   "metadata": {},
   "outputs": [],
   "source": [
    "def fast_count_segments(starts, ends, points):\n",
    "    cnt = {} \n",
    "    c = 0\n",
    "\n",
    "    # Really tried to do dac but couldn't figure it out and ran out of itme\n",
    "    # Solution via https://github.com/huyvohcmc/coursera-dsa/blob/master/algorithmic-toolbox/3-divideandconquer-starter-files/points_and_segments.py\n",
    "    #\n",
    "    # Comments my own to aid my understanding\n",
    "    # This feels a bit like a dynamic approach    \n",
    "    #\n",
    "    #\n",
    "    # Example: \n",
    "    #  start = [0, 0, -5], end = [3, 2, 1] and points = [3, 1, 0]))\n",
    "    #\n",
    "    # 1) create an list of tuples from start + end + points marking each point as (l)eft of (p)oint or to its (r)ight. Result:\n",
    "    #          [(0, 'l'), (0, 'l'), (-5, 'l'), (3, 'p'), (1, 'p'), (0, 'p'), (3, 'r'), (2, 'r'), (1, 'r')]\n",
    "    #         \n",
    "    # \n",
    "    \n",
    "    line = [(s, 'l') for s in starts]\n",
    "    line += [(p, 'p') for p in points]\n",
    "    line += [(e, 'r') for e in ends]\n",
    "\n",
    "    # 2) sort list in place: Result:\n",
    "    #          [(-5, 'l'), (0, 'l'), (0, 'l'), (0, 'p'), (1, 'p'), (1, 'r'), (2, 'r'), (3, 'p'), (3, 'r')]\n",
    "\n",
    "    line.sort()\n",
    "\n",
    "    # 3) go through list and progressively apply (c)ost: (l)eft: +1, (r)ight: -1, point: insert in current (c)ost in  dict cnt location x[0] where x is current point :\n",
    "    #           [(-5, 'l'), (0, 'l'),  (0, 'l'),  (0, 'p'),        (1, 'p'),        (1, 'r'),    (2, 'r'),    (3, 'p'),     (3, 'r')]\n",
    "    #           c=0, +1     c=1, +1,   c=2, +1,   c=3, cnt[0]=c,  c=3, cnt[1]=c,    c=3, -1,     c=2, -1,     c=1, cnt[3],  c=1, -1           c = 0\n",
    "    #    \n",
    "\n",
    "    \n",
    "    for x in line:\n",
    "        if x[1] == 'l':\n",
    "            c += 1\n",
    "        elif x[1] == 'r':\n",
    "            c -= 1\n",
    "        else:\n",
    "            cnt[x[0]] = c\n",
    "\n",
    "    # 4) cnt now contains:  {0: 3, 1: 3, 3: 1} where the keys are the points, and the values are the number of segments\n",
    "    #    return and convert to list and return the list of values ordered by initial index of points\n",
    "    # \n",
    "            \n",
    "    return [cnt[p] for p in points]\n",
    "    "
   ]
  },
  {
   "cell_type": "code",
   "execution_count": 45,
   "metadata": {},
   "outputs": [
    {
     "name": "stdout",
     "output_type": "stream",
     "text": [
      "[0, 2, 3]\n",
      "[0, 2, 3]\n"
     ]
    }
   ],
   "source": [
    "print(fast_count_segments([-5, -4, -2], [0, 2, 5], [-10, -3, 0]))\n",
    "print(naive_count_segments([-5, -4, -2], [0, 2, 5], [-10, -3, 0]))"
   ]
  },
  {
   "cell_type": "code",
   "execution_count": 46,
   "metadata": {
    "tags": []
   },
   "outputs": [
    {
     "name": "stdout",
     "output_type": "stream",
     "text": [
      "Test: 1 True\n",
      "Test: 2 True\n",
      "Test: 3 True\n",
      "Test: 4 True\n",
      "Test: 5 True\n",
      "Test: 6 True\n",
      "Test: 7 True\n",
      "Test: 8 True\n"
     ]
    }
   ],
   "source": [
    "count = 1\n",
    "for starts, ends, points in [\n",
    "    ([0, 7], [5, 10], [1, 6, 11]),\n",
    "    ([0, -3, 7], [5, 2, 10], [1, 6]),\n",
    "    ([-5, -4, -2], [0, 2, 5], [-10, -3, 0]),\n",
    "    ([-10], [10], [-100, 100, 0]),\n",
    "    ([-10], [10], [-100, 0, 100]),\n",
    "    ([-10], [10], [0, -100, 100]),\n",
    "    ([-3, -2, 0], [0, 1, 5], [6, -6, 1]),\n",
    "    ([-4, -2, -5],[5, 0, 4],[8, -1, -10])\n",
    "    \n",
    "]:\n",
    "    \n",
    "    fcs_result = fast_count_segments(list(starts), list(ends), list(points))\n",
    "    ncs_result = naive_count_segments(starts, ends, points)\n",
    "    print (\"Test:\", count, fcs_result == ncs_result)\n",
    "    count +=1\n",
    "\n",
    "count = 1\n",
    "#for starts, ends, points in [\n",
    "#    ([0, 7], [5, 10], [1, 6, 11]),\n",
    "#    ([0, -3, 7], [5, 2, 10], [1, 6]),\n",
    "#    ([-5, -4, -2], [0, 2, 5], [-10, -3, 0]),\n",
    "#    ([-10], [10], [-100, 100, 0]),\n",
    "#    ([-10], [10], [-100, 0, 100]),\n",
    "#    ([-10], [10], [0, -100, 100]),\n",
    "#    ([-3, -2, 0], [0, 1, 5], [6, -6, 1]),\n",
    "#    ([-4, -2, -5],[5, 0, 4],[8, -1, -10])\n",
    "#]:\n",
    "#    print (\"\\n\")\n",
    "#    print (\"Test:\", count, fcs_result == ncs_result)\n",
    "#    print (starts, ends, points)\n",
    "#    print (\"Fast count:\", fcs_result)\n",
    "#    print (\"Naive count:\", ncs_result)\n",
    "#    print (\"\\n\")\n",
    "#    count += 1"
   ]
  },
  {
   "cell_type": "markdown",
   "metadata": {},
   "source": [
    "### 4.7 Closest Points"
   ]
  },
  {
   "cell_type": "code",
   "execution_count": 299,
   "metadata": {},
   "outputs": [],
   "source": [
    "from collections import namedtuple\n",
    "from itertools import combinations\n",
    "from math import sqrt\n",
    "\n",
    "Point = namedtuple('Point', 'x y')"
   ]
  },
  {
   "cell_type": "code",
   "execution_count": 324,
   "metadata": {},
   "outputs": [],
   "source": [
    "# Naive\n",
    "\n",
    "def minimum_distance_naive(points):\n",
    "    min_distance_squared = float(\"inf\")\n",
    "\n",
    "    for p, q in combinations(points, 2):\n",
    "        min_distance_squared = min(min_distance_squared,\n",
    "                                   distance_squared(p, q))\n",
    "\n",
    "    return sqrt(min_distance_squared)\n",
    "\n",
    "def distance_squared(first_point, second_point):\n",
    "    return (first_point.x - second_point.x) ** 2 + (first_point.y - second_point.y) ** 2"
   ]
  },
  {
   "cell_type": "code",
   "execution_count": 333,
   "metadata": {},
   "outputs": [],
   "source": [
    "# dac\n",
    "# adapted from https://thisthread.blogspot.com/2018/02/the-closest-pair-of-points.html\n",
    "\n",
    "def minimum_distance(points):\n",
    "    points.sort()\n",
    "    return get_closest_distance(points)\n",
    "    \n",
    "\n",
    "def get_closest_distance(points):\n",
    "    size = len(points)\n",
    "    \n",
    "    if size < 10:\n",
    "        return minimum_distance_naive(points)\n",
    "    \n",
    "    left_side = points[:size // 2]\n",
    "    right_side = points[size // 2:]\n",
    "    \n",
    "    left_distance = get_closest_distance(left_side)\n",
    "    right_distance = get_closest_distance(right_side)\n",
    "    \n",
    "    min_distance = min(left_distance, right_distance)\n",
    "    \n",
    "    if min_distance == 0.0:\n",
    "        return min_distance\n",
    "    \n",
    "    median = (left_side[-1][0] + right_side[0][0]) / 2\n",
    "    \n",
    "    sigmas = []\n",
    "    \n",
    "    for s in range(len(left_side)):\n",
    "        if abs(left_side[s][0] - median) < min_distance:\n",
    "            sigmas.append(left_side[s])\n",
    "    for s in range(len(right_side)):\n",
    "        if abs(right_side[s][0] - median) < min_distance:\n",
    "            sigmas.append(right_side[s])\n",
    "            \n",
    "    sigmas.sort(key=lambda y: y[1])\n",
    "    \n",
    "    for s in range(len(sigmas) - 1):\n",
    "        for t in range (s + 1, min(s + 6, len(sigmas))):\n",
    "            if abs(sigmas[s][1] - sigmas[t][1] < min_distance):\n",
    "                min_distance = min(min_distance, sqrt(distance_squared(sigmas[s], sigmas[t])))\n",
    "    \n",
    "    return min_distance\n",
    "    \n",
    "    "
   ]
  },
  {
   "cell_type": "code",
   "execution_count": 335,
   "metadata": {},
   "outputs": [
    {
     "name": "stdout",
     "output_type": "stream",
     "text": [
      "Naive: 1.000000000\n",
      "DAC: 1.000000000\n"
     ]
    }
   ],
   "source": [
    "# Inputs\n",
    "input_points  = [Point(2, 0), Point(1, 1), Point(1, 0)]\n",
    "\n",
    "print(\"Naive:\", \"{0:.9f}\".format(minimum_distance_naive(input_points)))\n",
    "print(\"DAC:\", \"{0:.9f}\".format(minimum_distance(input_points)))"
   ]
  },
  {
   "cell_type": "code",
   "execution_count": 334,
   "metadata": {},
   "outputs": [
    {
     "name": "stdout",
     "output_type": "stream",
     "text": [
      "Naive: 1.414213562\n",
      "DAC: 1.414213562\n"
     ]
    }
   ],
   "source": [
    "# Expected output is sqrt (2) = 1.414213562\n",
    "#\n",
    "input_points = [Point(4,4), Point(-2, -2), Point(-3,-4), Point(-1, 3), \n",
    "                Point(2, 3), Point(-4, 0), Point(1, 1), Point(-1, -1), \n",
    "                Point(3, -1), Point(-4, 2), Point(-2, 4)]\n",
    "print(\"Naive:\", \"{0:.9f}\".format(minimum_distance_naive(input_points)))\n",
    "print(\"DAC:\", \"{0:.9f}\".format(minimum_distance(input_points)))"
   ]
  },
  {
   "cell_type": "code",
   "execution_count": null,
   "metadata": {
    "tags": []
   },
   "outputs": [],
   "source": []
  }
 ],
 "metadata": {
  "kernelspec": {
   "display_name": "Python 3 (ipykernel)",
   "language": "python",
   "name": "python3"
  },
  "language_info": {
   "codemirror_mode": {
    "name": "ipython",
    "version": 3
   },
   "file_extension": ".py",
   "mimetype": "text/x-python",
   "name": "python",
   "nbconvert_exporter": "python",
   "pygments_lexer": "ipython3",
   "version": "3.9.2"
  }
 },
 "nbformat": 4,
 "nbformat_minor": 4
}
