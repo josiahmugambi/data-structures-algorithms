{
 "cells": [
  {
   "cell_type": "code",
   "execution_count": 3,
   "metadata": {},
   "outputs": [],
   "source": [
    "import pandas as pd"
   ]
  },
  {
   "cell_type": "code",
   "execution_count": 176,
   "metadata": {},
   "outputs": [],
   "source": [
    "def fibonacci_number(n):\n",
    "    assert 0 <= n <= 65\n",
    "    if n <= 1:\n",
    "        return n\n",
    "    f_list = list(range(0, n+1))\n",
    "    f_list[0] = 0\n",
    "    f_list[1] = 1\n",
    "    for i in range(2, n+1):\n",
    "        f_list[i] = f_list[i-1] + f_list[i-2]\n",
    "    return f_list[n]"
   ]
  },
  {
   "cell_type": "code",
   "execution_count": 2,
   "metadata": {},
   "outputs": [],
   "source": [
    "def last_digit_of_fibonacci_number(n):\n",
    "    assert 0 <= n <= 10 ** 7\n",
    "    if n <= 1:\n",
    "        return n\n",
    "    f_list = list(range(0, n+1))\n",
    "    f_list[0] = 0\n",
    "    f_list[1] = 1\n",
    "\n",
    "    for i in range(2, n+1):\n",
    "        f_list[i] = f_list[i-1] % 10 + f_list[i-2] % 10\n",
    "    return f_list[n] % 10"
   ]
  },
  {
   "cell_type": "code",
   "execution_count": 53,
   "metadata": {},
   "outputs": [],
   "source": [
    "def last_digit_of_the_sum_of_fibonacci_numbers_naive(n):\n",
    "    assert 0 <= n <= 10 ** 18\n",
    "\n",
    "    if n <= 1:\n",
    "        return n\n",
    "\n",
    "    fibonacci_numbers = [0] * (n + 1)\n",
    "    fibonacci_numbers[0] = 0\n",
    "    fibonacci_numbers[1] = 1\n",
    "    for i in range(2, n + 1):\n",
    "        fibonacci_numbers[i] = fibonacci_numbers[i - 2] + fibonacci_numbers[i - 1]\n",
    "\n",
    "    return sum(fibonacci_numbers) % 10"
   ]
  },
  {
   "cell_type": "code",
   "execution_count": null,
   "metadata": {},
   "outputs": [],
   "source": [
    "def last_digit_of_the_sum_of_fibonacci_numbers_naive(n):\n",
    "    assert 0 <= n <= 10 ** 18\n",
    "\n",
    "    if n <= 1:\n",
    "        return n\n",
    "\n",
    "    fibonacci_numbers = [0] * (n + 1)\n",
    "    fibonacci_numbers[0] = 0\n",
    "    fibonacci_numbers[1] = 1\n",
    "    for i in range(2, n + 1):\n",
    "        fibonacci_numbers[i] = fibonacci_numbers[i - 2] + fibonacci_numbers[i - 1]\n",
    "\n",
    "    return sum(fibonacci_numbers) % 10"
   ]
  },
  {
   "cell_type": "raw",
   "metadata": {},
   "source": [
    "def last_digit_of_the_sum_of_fibonacci_numbers(n):\n",
    "    assert 0 <= n <= 10 ** 18\n",
    "\n",
    "    if n <= 1:\n",
    "        return n\n",
    "    f_list = list(range(0, n+1))\n",
    "    f_list[0] = 0\n",
    "    f_list[1] = 1\n",
    "\n",
    "    for i in range(2, n+1):\n",
    "        \n",
    "    return sum(f_list) % 10"
   ]
  },
  {
   "cell_type": "code",
   "execution_count": 238,
   "metadata": {},
   "outputs": [],
   "source": [
    "def last_digit_of_the_sum_of_fibonacci_numbers_new(from_index,to_index):\n",
    "    if to_index <= 1:\n",
    "        return to_index\n",
    "    from_index_sum_last = last_digit_of_the_sum_of_fibonacci_numbers(from_index - 1)\n",
    "    to_index_sum_last = last_digit_of_the_sum_of_fibonacci_numbers(to_index)\n",
    "    from_index_sum = sum_of_fibonacci_numbers_naive(from_index)\n",
    "    to_index_sum = sum_of_fibonacci_numbers_naive(to_index)\n",
    "    print(\"from sum:\", from_index_sum)\n",
    "    print(\"to sum:\", to_index_sum)\n",
    "    print(\"from sum last:\", from_index_sum_last)\n",
    "    print(\"to sum last:\", to_index_sum_last)\n",
    "    \n",
    "    return (to_index_sum_last - from_index_sum_last) % 10"
   ]
  },
  {
   "cell_type": "code",
   "execution_count": null,
   "metadata": {},
   "outputs": [],
   "source": []
  },
  {
   "cell_type": "code",
   "execution_count": 244,
   "metadata": {},
   "outputs": [],
   "source": [
    "def last_digit_of_the_sum_of_fibonacci_numbers_again(from_index, to_index):\n",
    "    assert 0 <= from_index <= to_index <= 10 ** 18\n",
    "\n",
    "    if to_index <= 1:\n",
    "        return to_index\n",
    "    if from_index == 0:\n",
    "        from_index_sum_last = from_index\n",
    "    else:\n",
    "        from_index_sum_last = last_digit_of_the_sum_of_fibonacci_numbers(from_index - 1)\n",
    "    to_index_sum_last = last_digit_of_the_sum_of_fibonacci_numbers(to_index)\n",
    "\n",
    "    return (to_index_sum_last - from_index_sum_last) % 10"
   ]
  },
  {
   "cell_type": "code",
   "execution_count": 239,
   "metadata": {},
   "outputs": [
    {
     "name": "stdout",
     "output_type": "stream",
     "text": [
      "from sum: 4\n",
      "to sum: 12\n",
      "from sum last: 2\n",
      "to sum last: 2\n"
     ]
    },
    {
     "data": {
      "text/plain": [
       "0"
      ]
     },
     "execution_count": 239,
     "metadata": {},
     "output_type": "execute_result"
    }
   ],
   "source": [
    "last_digit_of_the_sum_of_fibonacci_numbers_new(3,5)"
   ]
  },
  {
   "cell_type": "code",
   "execution_count": 85,
   "metadata": {},
   "outputs": [],
   "source": [
    "def sum_of_fibonacci_numbers_naive(n):\n",
    "    if n <= 1:\n",
    "        return n\n",
    "\n",
    "    fibonacci_numbers = [0] * (n + 1)\n",
    "    fibonacci_numbers[0] = 0\n",
    "    fibonacci_numbers[1] = 1\n",
    "    for i in range(2, n + 1):\n",
    "        fibonacci_numbers[i] = fibonacci_numbers[i - 2] + fibonacci_numbers[i - 1]  \n",
    "    return sum(fibonacci_numbers)"
   ]
  },
  {
   "cell_type": "code",
   "execution_count": null,
   "metadata": {},
   "outputs": [],
   "source": []
  },
  {
   "cell_type": "code",
   "execution_count": 149,
   "metadata": {},
   "outputs": [],
   "source": [
    "def p_period_length(m):\n",
    "    previous, current = 0, 1\n",
    "    for i in range(0, m**2):\n",
    "        previous, current = current, (previous + current) % m\n",
    "        if previous == 0 and current == 1:\n",
    "            return i + 1"
   ]
  },
  {
   "cell_type": "code",
   "execution_count": 148,
   "metadata": {},
   "outputs": [],
   "source": [
    "def fibonacci_number_again(n, m):\n",
    "    assert 0 <= n <= 10 ** 18 and 2 <= m <= 10 ** 3\n",
    "    p_period = p_period_length(m)\n",
    "    n = n % p_period\n",
    "    if n <= 1:\n",
    "        return n\n",
    "    previous, current = 0, 1\n",
    "    for _ in range(n - 1):\n",
    "        previous, current = current, (previous + current)\n",
    "    return current % m"
   ]
  },
  {
   "cell_type": "code",
   "execution_count": 254,
   "metadata": {},
   "outputs": [],
   "source": [
    "def generate_fibonacci(n):\n",
    "    fn = []\n",
    "    lasts = []\n",
    "    last_sums = []\n",
    "    sums = []\n",
    "    last_sums = []\n",
    "    sums_squares = []\n",
    "    last_sums_squares = []\n",
    "    for i in range (0,n+1):\n",
    "        fn.append(fibonacci_number(i))\n",
    "        lasts.append(last_digit_of_fibonacci_number(i))\n",
    "        sums.append(sum_of_fibonacci_numbers_naive(i))\n",
    "        last_sums.append(last_digit_of_the_sum_of_fibonacci_numbers_again(0,i) )\n",
    "        sums_squares.append(sum_of_squares_of_fibonacci_numbers_naive(i))\n",
    "        last_sums_squares.append(last_digit_of_the_sum_of_squares_of_fibonacci_numbers_naive(i))\n",
    "        \n",
    "    return fn, lasts, sums, last_sums, sums_squares, last_sums_squares"
   ]
  },
  {
   "cell_type": "code",
   "execution_count": 255,
   "metadata": {},
   "outputs": [],
   "source": [
    "numbers, lasts, sums, last_sums, sums_squares, last_sums_squares = generate_fibonacci(10)"
   ]
  },
  {
   "cell_type": "code",
   "execution_count": 256,
   "metadata": {},
   "outputs": [
    {
     "data": {
      "text/html": [
       "<div>\n",
       "<style scoped>\n",
       "    .dataframe tbody tr th:only-of-type {\n",
       "        vertical-align: middle;\n",
       "    }\n",
       "\n",
       "    .dataframe tbody tr th {\n",
       "        vertical-align: top;\n",
       "    }\n",
       "\n",
       "    .dataframe thead th {\n",
       "        text-align: right;\n",
       "    }\n",
       "</style>\n",
       "<table border=\"1\" class=\"dataframe\">\n",
       "  <thead>\n",
       "    <tr style=\"text-align: right;\">\n",
       "      <th></th>\n",
       "      <th>Fib</th>\n",
       "      <th>last digit of fib</th>\n",
       "      <th>sum of fib</th>\n",
       "      <th>last digit of sum</th>\n",
       "      <th>sum of squares</th>\n",
       "      <th>last digit of sum of squares</th>\n",
       "    </tr>\n",
       "  </thead>\n",
       "  <tbody>\n",
       "    <tr>\n",
       "      <th>0</th>\n",
       "      <td>0</td>\n",
       "      <td>0</td>\n",
       "      <td>0</td>\n",
       "      <td>0</td>\n",
       "      <td>0</td>\n",
       "      <td>0</td>\n",
       "    </tr>\n",
       "    <tr>\n",
       "      <th>1</th>\n",
       "      <td>1</td>\n",
       "      <td>1</td>\n",
       "      <td>1</td>\n",
       "      <td>1</td>\n",
       "      <td>1</td>\n",
       "      <td>1</td>\n",
       "    </tr>\n",
       "    <tr>\n",
       "      <th>2</th>\n",
       "      <td>1</td>\n",
       "      <td>1</td>\n",
       "      <td>2</td>\n",
       "      <td>2</td>\n",
       "      <td>2</td>\n",
       "      <td>2</td>\n",
       "    </tr>\n",
       "    <tr>\n",
       "      <th>3</th>\n",
       "      <td>2</td>\n",
       "      <td>2</td>\n",
       "      <td>4</td>\n",
       "      <td>4</td>\n",
       "      <td>6</td>\n",
       "      <td>6</td>\n",
       "    </tr>\n",
       "    <tr>\n",
       "      <th>4</th>\n",
       "      <td>3</td>\n",
       "      <td>3</td>\n",
       "      <td>7</td>\n",
       "      <td>7</td>\n",
       "      <td>15</td>\n",
       "      <td>5</td>\n",
       "    </tr>\n",
       "    <tr>\n",
       "      <th>5</th>\n",
       "      <td>5</td>\n",
       "      <td>5</td>\n",
       "      <td>12</td>\n",
       "      <td>2</td>\n",
       "      <td>40</td>\n",
       "      <td>0</td>\n",
       "    </tr>\n",
       "    <tr>\n",
       "      <th>6</th>\n",
       "      <td>8</td>\n",
       "      <td>8</td>\n",
       "      <td>20</td>\n",
       "      <td>0</td>\n",
       "      <td>104</td>\n",
       "      <td>4</td>\n",
       "    </tr>\n",
       "    <tr>\n",
       "      <th>7</th>\n",
       "      <td>13</td>\n",
       "      <td>3</td>\n",
       "      <td>33</td>\n",
       "      <td>3</td>\n",
       "      <td>273</td>\n",
       "      <td>3</td>\n",
       "    </tr>\n",
       "    <tr>\n",
       "      <th>8</th>\n",
       "      <td>21</td>\n",
       "      <td>1</td>\n",
       "      <td>54</td>\n",
       "      <td>4</td>\n",
       "      <td>714</td>\n",
       "      <td>4</td>\n",
       "    </tr>\n",
       "    <tr>\n",
       "      <th>9</th>\n",
       "      <td>34</td>\n",
       "      <td>4</td>\n",
       "      <td>88</td>\n",
       "      <td>8</td>\n",
       "      <td>1870</td>\n",
       "      <td>0</td>\n",
       "    </tr>\n",
       "    <tr>\n",
       "      <th>10</th>\n",
       "      <td>55</td>\n",
       "      <td>5</td>\n",
       "      <td>143</td>\n",
       "      <td>3</td>\n",
       "      <td>4895</td>\n",
       "      <td>5</td>\n",
       "    </tr>\n",
       "  </tbody>\n",
       "</table>\n",
       "</div>"
      ],
      "text/plain": [
       "    Fib  last digit of fib  sum of fib  last digit of sum  sum of squares  \\\n",
       "0     0                  0           0                  0               0   \n",
       "1     1                  1           1                  1               1   \n",
       "2     1                  1           2                  2               2   \n",
       "3     2                  2           4                  4               6   \n",
       "4     3                  3           7                  7              15   \n",
       "5     5                  5          12                  2              40   \n",
       "6     8                  8          20                  0             104   \n",
       "7    13                  3          33                  3             273   \n",
       "8    21                  1          54                  4             714   \n",
       "9    34                  4          88                  8            1870   \n",
       "10   55                  5         143                  3            4895   \n",
       "\n",
       "    last digit of sum of squares  \n",
       "0                              0  \n",
       "1                              1  \n",
       "2                              2  \n",
       "3                              6  \n",
       "4                              5  \n",
       "5                              0  \n",
       "6                              4  \n",
       "7                              3  \n",
       "8                              4  \n",
       "9                              0  \n",
       "10                             5  "
      ]
     },
     "metadata": {},
     "output_type": "display_data"
    }
   ],
   "source": [
    "df = pd.DataFrame()\n",
    "df['Fib'] = numbers\n",
    "df['last digit of fib'] = lasts\n",
    "df['sum of fib'] = sums\n",
    "df['last digit of sum'] = last_sums\n",
    "df['sum of squares'] = sums_squares\n",
    "df['last digit of sum of squares'] = last_sums_squares\n",
    "\n",
    "with pd.option_context('display.max_rows', None, 'display.max_columns', None):\n",
    "    display(df)"
   ]
  },
  {
   "cell_type": "code",
   "execution_count": 240,
   "metadata": {},
   "outputs": [
    {
     "name": "stdout",
     "output_type": "stream",
     "text": [
      "from sum: 4\n",
      "to sum: 12\n",
      "from sum last: 2\n",
      "to sum last: 2\n"
     ]
    },
    {
     "data": {
      "text/plain": [
       "0"
      ]
     },
     "execution_count": 240,
     "metadata": {},
     "output_type": "execute_result"
    }
   ],
   "source": [
    "last_digit_of_the_sum_of_fibonacci_numbers_new(3,5)"
   ]
  },
  {
   "cell_type": "code",
   "execution_count": 241,
   "metadata": {},
   "outputs": [],
   "source": [
    "def last_digit_of_the_sum_of_squares_of_fibonacci_numbers_naive(n):\n",
    "    assert 0 <= n <= 10 ** 18\n",
    "\n",
    "    if n <= 1:\n",
    "        return n\n",
    "\n",
    "    fibonacci_numbers = [0] * (n + 1)\n",
    "    fibonacci_numbers[0] = 0\n",
    "    fibonacci_numbers[1] = 1\n",
    "    for i in range(2, n + 1):\n",
    "        fibonacci_numbers[i] = fibonacci_numbers[i - 2] + fibonacci_numbers[i - 1]\n",
    "\n",
    "    return sum([f ** 2 for f in fibonacci_numbers]) % 10"
   ]
  },
  {
   "cell_type": "code",
   "execution_count": 248,
   "metadata": {},
   "outputs": [],
   "source": [
    "def sum_of_squares_of_fibonacci_numbers_naive(n):\n",
    "    assert 0 <= n <= 10 ** 18\n",
    "\n",
    "    if n <= 1:\n",
    "        return n\n",
    "\n",
    "    fibonacci_numbers = [0] * (n + 1)\n",
    "    fibonacci_numbers[0] = 0\n",
    "    fibonacci_numbers[1] = 1\n",
    "    for i in range(2, n + 1):\n",
    "        fibonacci_numbers[i] = fibonacci_numbers[i - 2] + fibonacci_numbers[i - 1]\n",
    "\n",
    "    return sum([f ** 2 for f in fibonacci_numbers])"
   ]
  },
  {
   "cell_type": "code",
   "execution_count": 257,
   "metadata": {},
   "outputs": [],
   "source": [
    "%matplotlib inline\n",
    "import matplotlib.pyplot as plt\n",
    "import numpy as np"
   ]
  },
  {
   "cell_type": "code",
   "execution_count": 332,
   "metadata": {},
   "outputs": [
    {
     "data": {
      "image/png": "[encoded data removed]",
      "text/plain": [
       "<Figure size 432x288 with 1 Axes>"
      ]
     },
     "metadata": {
      "needs_background": "light"
     },
     "output_type": "display_data"
    }
   ],
   "source": [
    "n = np.linspace(1, 500)\n",
    "#plt.plot(n, 3 ** n, label=\"3^n\")\n",
    "plt.plot(n, n * np.log2(n), label=\"nlog2n\")\n",
    "#plt.plot(n, 2 * np.log2(n), label=\"log4n\")\n",
    "#plt.plot(n, n, label=\"n\")\n",
    "#plt.plot(n, n ** 2.231, label=\"5log2n\")\n",
    "plt.plot(n, n ** 2, label=\"n^2\")\n",
    "#plt.plot(n, n ** 0.5, label=\"n^0.5\")\n",
    "#plt.plot(n, 4 ** n, label=\"4^n\")\n",
    "plt.legend(loc='upper left')\n",
    "plt.show()"
   ]
  },
  {
   "cell_type": "code",
   "execution_count": 268,
   "metadata": {},
   "outputs": [
    {
     "data": {
      "image/png": "[encoded data removed]",
      "text/plain": [
       "<Figure size 432x288 with 1 Axes>"
      ]
     },
     "metadata": {
      "needs_background": "light"
     },
     "output_type": "display_data"
    }
   ],
   "source": [
    "n = np.linspace(1, 100)\n",
    "\n",
    "\n",
    "plt.legend(loc='upper left')\n",
    "plt.show()"
   ]
  },
  {
   "cell_type": "code",
   "execution_count": null,
   "metadata": {},
   "outputs": [],
   "source": []
  }
 ],
 "metadata": {
  "kernelspec": {
   "display_name": "Python 3 (ipykernel)",
   "language": "python",
   "name": "python3"
  },
  "language_info": {
   "codemirror_mode": {
    "name": "ipython",
    "version": 3
   },
   "file_extension": ".py",
   "mimetype": "text/x-python",
   "name": "python",
   "nbconvert_exporter": "python",
   "pygments_lexer": "ipython3",
   "version": "3.9.2"
  }
 },
 "nbformat": 4,
 "nbformat_minor": 4
}
