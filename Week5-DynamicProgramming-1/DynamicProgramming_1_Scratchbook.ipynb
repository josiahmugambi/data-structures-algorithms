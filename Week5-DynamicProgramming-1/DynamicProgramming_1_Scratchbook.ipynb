{
 "cells": [
  {
   "cell_type": "markdown",
   "metadata": {},
   "source": [
    "## Dynamic Programming 1"
   ]
  },
  {
   "cell_type": "markdown",
   "metadata": {},
   "source": [
    "### Money Change Problem\n",
    "\n",
    "#### Greedy approach"
   ]
  },
  {
   "cell_type": "code",
   "execution_count": 29,
   "metadata": {},
   "outputs": [],
   "source": [
    "def money_change(money, coins):\n",
    "    assert 0 <= money <= 10 ** 3\n",
    "    min_num_coins = 0\n",
    "    for c in coins:\n",
    "        result = divmod(money, c)\n",
    "        money = money - (result[0] * c)\n",
    "        min_num_coins += result[0]\n",
    "        if result[1] == 0:\n",
    "            return min_num_coins"
   ]
  },
  {
   "cell_type": "code",
   "execution_count": 26,
   "metadata": {},
   "outputs": [],
   "source": [
    "coins = [10, 5, 1]"
   ]
  },
  {
   "cell_type": "code",
   "execution_count": 30,
   "metadata": {},
   "outputs": [
    {
     "name": "stdout",
     "output_type": "stream",
     "text": [
      "True\n",
      "True\n",
      "True\n",
      "True\n"
     ]
    }
   ],
   "source": [
    "for (money, coins, number_of_coins) in [(1, coins, 1), (2, coins, 2), (28, coins, 6), (95, coins, 10)]:\n",
    "            print(money_change(money,coins) == number_of_coins)"
   ]
  },
  {
   "cell_type": "code",
   "execution_count": 5,
   "metadata": {},
   "outputs": [],
   "source": [
    "#### Recursive Approach"
   ]
  },
  {
   "cell_type": "code",
   "execution_count": 37,
   "metadata": {},
   "outputs": [],
   "source": [
    "from math import inf"
   ]
  },
  {
   "cell_type": "code",
   "execution_count": 43,
   "metadata": {},
   "outputs": [],
   "source": [
    "\n",
    "def money_change_rec(money, coins):\n",
    "    if money == 0:\n",
    "        return 0\n",
    "    min_num_coins = inf\n",
    "    for c in coins:\n",
    "        if money >= c:\n",
    "            num_coins = money_change_rec(money - c, coins)\n",
    "            if num_coins + 1 < min_num_coins:\n",
    "                min_num_coins = num_coins + 1\n",
    "    return min_num_coins"
   ]
  },
  {
   "cell_type": "code",
   "execution_count": null,
   "metadata": {},
   "outputs": [],
   "source": [
    "for (money, coins, number_of_coins) in [(1, coins, 1), (2, coins, 2), (28, coins, 6), (95, coins, 10)]:\n",
    "            print(money_change_rec(money,coins) == number_of_coins)\n",
    "        \n",
    "# Last one is tricksy!"
   ]
  },
  {
   "cell_type": "markdown",
   "metadata": {},
   "source": [
    "#### Dynamic Programming"
   ]
  },
  {
   "cell_type": "code",
   "execution_count": 97,
   "metadata": {},
   "outputs": [],
   "source": [
    "def money_change_dp(money, coins):\n",
    "    min_num_coins = [0]\n",
    "    for m in range(1,money + 1):\n",
    "        min_num_coins.append(inf)\n",
    "        for c in coins:\n",
    "            if m >= c:\n",
    "                num_coins = min_num_coins[m-c] + 1\n",
    "                if num_coins < min_num_coins[m]:\n",
    "                    min_num_coins[m] = num_coins\n",
    "    return min_num_coins[money]\n"
   ]
  },
  {
   "cell_type": "code",
   "execution_count": 81,
   "metadata": {},
   "outputs": [
    {
     "data": {
      "text/plain": [
       "[0, 0, 0, 0, 0, 0, 0, 0, 0, 0]"
      ]
     },
     "execution_count": 81,
     "metadata": {},
     "output_type": "execute_result"
    }
   ],
   "source": [
    "d = [0] * 10\n",
    "d"
   ]
  },
  {
   "cell_type": "code",
   "execution_count": 98,
   "metadata": {},
   "outputs": [
    {
     "data": {
      "text/plain": [
       "13"
      ]
     },
     "execution_count": 98,
     "metadata": {},
     "output_type": "execute_result"
    }
   ],
   "source": [
    "money_change_dp(50,[1,3,4])"
   ]
  },
  {
   "cell_type": "code",
   "execution_count": 96,
   "metadata": {},
   "outputs": [
    {
     "name": "stdout",
     "output_type": "stream",
     "text": [
      "[0]\n",
      "1\n",
      "1\n",
      "True\n",
      "[0]\n",
      "2\n",
      "2\n",
      "True\n",
      "[0]\n",
      "28\n",
      "28\n",
      "True\n",
      "[0]\n",
      "95\n",
      "95\n",
      "True\n"
     ]
    }
   ],
   "source": [
    "for (money, coins, number_of_coins) in [(1, coins, 1), (2, coins, 2), (28, coins, 6), (95, coins, 10)]:\n",
    "            print(money_change_dp(money,coins) == number_of_coins)\n"
   ]
  },
  {
   "cell_type": "code",
   "execution_count": null,
   "metadata": {},
   "outputs": [],
   "source": []
  }
 ],
 "metadata": {
  "kernelspec": {
   "display_name": "Python 3 (ipykernel)",
   "language": "python",
   "name": "python3"
  },
  "language_info": {
   "codemirror_mode": {
    "name": "ipython",
    "version": 3
   },
   "file_extension": ".py",
   "mimetype": "text/x-python",
   "name": "python",
   "nbconvert_exporter": "python",
   "pygments_lexer": "ipython3",
   "version": "3.9.2"
  }
 },
 "nbformat": 4,
 "nbformat_minor": 4
}
