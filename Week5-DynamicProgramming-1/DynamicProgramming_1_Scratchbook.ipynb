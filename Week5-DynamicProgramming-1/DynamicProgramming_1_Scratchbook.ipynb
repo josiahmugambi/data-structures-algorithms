{
 "cells": [
  {
   "cell_type": "markdown",
   "metadata": {},
   "source": [
    "## Dynamic Programming 1"
   ]
  },
  {
   "cell_type": "markdown",
   "metadata": {},
   "source": [
    "### Money Change Problem\n",
    "\n",
    "#### Greedy approach"
   ]
  },
  {
   "cell_type": "code",
   "execution_count": 29,
   "metadata": {},
   "outputs": [],
   "source": [
    "def money_change(money, coins):\n",
    "    assert 0 <= money <= 10 ** 3\n",
    "    min_num_coins = 0\n",
    "    for c in coins:\n",
    "        result = divmod(money, c)\n",
    "        money = money - (result[0] * c)\n",
    "        min_num_coins += result[0]\n",
    "        if result[1] == 0:\n",
    "            return min_num_coins"
   ]
  },
  {
   "cell_type": "code",
   "execution_count": 26,
   "metadata": {},
   "outputs": [],
   "source": [
    "coins = [10, 5, 1]"
   ]
  },
  {
   "cell_type": "code",
   "execution_count": 30,
   "metadata": {},
   "outputs": [
    {
     "name": "stdout",
     "output_type": "stream",
     "text": [
      "True\n",
      "True\n",
      "True\n",
      "True\n"
     ]
    }
   ],
   "source": [
    "for (money, coins, number_of_coins) in [(1, coins, 1), (2, coins, 2), (28, coins, 6), (95, coins, 10)]:\n",
    "            print(money_change(money,coins) == number_of_coins)"
   ]
  },
  {
   "cell_type": "code",
   "execution_count": 5,
   "metadata": {},
   "outputs": [],
   "source": [
    "#### Recursive Approach"
   ]
  },
  {
   "cell_type": "code",
   "execution_count": 37,
   "metadata": {},
   "outputs": [],
   "source": [
    "from math import inf"
   ]
  },
  {
   "cell_type": "code",
   "execution_count": 43,
   "metadata": {},
   "outputs": [],
   "source": [
    "\n",
    "def money_change_rec(money, coins):\n",
    "    if money == 0:\n",
    "        return 0\n",
    "    min_num_coins = inf\n",
    "    for c in coins:\n",
    "        if money >= c:\n",
    "            num_coins = money_change_rec(money - c, coins)\n",
    "            if num_coins + 1 < min_num_coins:\n",
    "                min_num_coins = num_coins + 1\n",
    "    return min_num_coins"
   ]
  },
  {
   "cell_type": "code",
   "execution_count": null,
   "metadata": {},
   "outputs": [],
   "source": [
    "for (money, coins, number_of_coins) in [(1, coins, 1), (2, coins, 2), (28, coins, 6), (95, coins, 10)]:\n",
    "            print(money_change_rec(money,coins) == number_of_coins)\n",
    "        \n",
    "# Last one is tricksy!"
   ]
  },
  {
   "cell_type": "markdown",
   "metadata": {},
   "source": [
    "#### Dynamic Programming Approach"
   ]
  },
  {
   "cell_type": "code",
   "execution_count": 97,
   "metadata": {},
   "outputs": [],
   "source": [
    "def money_change_dp(money, coins):\n",
    "    min_num_coins = [0]\n",
    "    for m in range(1,money + 1):\n",
    "        min_num_coins.append(inf)\n",
    "        for c in coins:\n",
    "            if m >= c:\n",
    "                num_coins = min_num_coins[m-c] + 1\n",
    "                if num_coins < min_num_coins[m]:\n",
    "                    min_num_coins[m] = num_coins\n",
    "    return min_num_coins[money]\n"
   ]
  },
  {
   "cell_type": "code",
   "execution_count": 81,
   "metadata": {},
   "outputs": [
    {
     "data": {
      "text/plain": [
       "[0, 0, 0, 0, 0, 0, 0, 0, 0, 0]"
      ]
     },
     "execution_count": 81,
     "metadata": {},
     "output_type": "execute_result"
    }
   ],
   "source": [
    "d = [0] * 10\n",
    "d"
   ]
  },
  {
   "cell_type": "code",
   "execution_count": 98,
   "metadata": {},
   "outputs": [
    {
     "data": {
      "text/plain": [
       "13"
      ]
     },
     "execution_count": 98,
     "metadata": {},
     "output_type": "execute_result"
    }
   ],
   "source": [
    "money_change_dp(50,[1,3,4])"
   ]
  },
  {
   "cell_type": "code",
   "execution_count": 96,
   "metadata": {},
   "outputs": [
    {
     "name": "stdout",
     "output_type": "stream",
     "text": [
      "[0]\n",
      "1\n",
      "1\n",
      "True\n",
      "[0]\n",
      "2\n",
      "2\n",
      "True\n",
      "[0]\n",
      "28\n",
      "28\n",
      "True\n",
      "[0]\n",
      "95\n",
      "95\n",
      "True\n"
     ]
    }
   ],
   "source": [
    "for (money, coins, number_of_coins) in [(1, coins, 1), (2, coins, 2), (28, coins, 6), (95, coins, 10)]:\n",
    "            print(money_change_dp(money,coins) == number_of_coins)\n"
   ]
  },
  {
   "cell_type": "markdown",
   "metadata": {},
   "source": [
    "### Primitive Calculator"
   ]
  },
  {
   "cell_type": "markdown",
   "metadata": {},
   "source": [
    "#### Greedy Approach"
   ]
  },
  {
   "cell_type": "code",
   "execution_count": 8,
   "metadata": {},
   "outputs": [],
   "source": [
    "def greedy_calc(n):\n",
    "    num_operations = 0\n",
    "    while n > 1:\n",
    "        num_operations += 1\n",
    "        if n % 3 == 0:\n",
    "            n = n/3\n",
    "        elif n % 2 == 0:\n",
    "            n = n/2\n",
    "        else:\n",
    "            n -= 1\n",
    "    return num_operations"
   ]
  },
  {
   "cell_type": "code",
   "execution_count": 237,
   "metadata": {},
   "outputs": [],
   "source": [
    "from math import inf\n",
    "\n",
    "def calc(n):\n",
    "    num_operations = n\n",
    "    cur_operations = 0\n",
    "    while n > 1:\n",
    "        cur_operations += 1\n",
    "        if n % 3 == 0:\n",
    "            n = int(n/3)\n",
    "            cur_operations = cur_operations + calc(n)\n",
    "            if cur_operations < num_operations:\n",
    "                num_operations = cur_operations \n",
    "        if n % 2 == 0:\n",
    "            n = int(n/2)\n",
    "            cur_operations = cur_operations + calc(n )\n",
    "            if cur_operations < num_operations:\n",
    "                num_operations = cur_operations \n",
    "        if n - 1 > 1 :\n",
    "            cur_operations = cur_operations + calc(n - 1  )\n",
    "            if cur_operations < num_operations:\n",
    "                num_operations = cur_operations \n",
    "        n -= 1\n",
    "    return num_operations "
   ]
  },
  {
   "cell_type": "code",
   "execution_count": null,
   "metadata": {},
   "outputs": [],
   "source": [
    "from math import inf\n",
    "\n",
    "def calc_seq(n):\n",
    "    sequence = [0] * (n+1)\n",
    "    sequence[0] = 1\n",
    "    \n",
    "    for s in sequence(1:n):\n",
    "        \n",
    "    \n",
    "    while n > 1:\n",
    "        cur_operations += 1\n",
    "        if n % 3 == 0 :\n",
    "            n = int(n/3)\n",
    "            cur_operations = cur_operations + calc(n )\n",
    "            if cur_operations < num_operations:\n",
    "                num_operations = cur_operations \n",
    "        if n % 2 == 0:\n",
    "            n = int(n/2)\n",
    "            cur_operations = cur_operations + calc(n )\n",
    "            if cur_operations < num_operations:\n",
    "                num_operations = cur_operations \n",
    "        if n - 1 > 1 :\n",
    "            cur_operations = cur_operations + calc(n - 1  )\n",
    "            if cur_operations < num_operations:\n",
    "                num_operations = cur_operations \n",
    "        n -= 1\n",
    "    return num_operations "
   ]
  },
  {
   "cell_type": "code",
   "execution_count": 244,
   "metadata": {},
   "outputs": [
    {
     "data": {
      "text/plain": [
       "6"
      ]
     },
     "execution_count": 244,
     "metadata": {},
     "output_type": "execute_result"
    }
   ],
   "source": [
    "calc(100)"
   ]
  },
  {
   "cell_type": "code",
   "execution_count": 60,
   "metadata": {},
   "outputs": [],
   "source": [
    "def compute_sequence(n):\n",
    "    sequence = []\n",
    "    while n >= 1:\n",
    "        sequence.append(n)\n",
    "        if n % 3 == 0:\n",
    "            n = n / 3\n",
    "        elif n % 2 == 0:\n",
    "            n = n / 2\n",
    "        else:\n",
    "            n = n - 1\n",
    "    return list(reversed(sequence))"
   ]
  },
  {
   "cell_type": "code",
   "execution_count": 250,
   "metadata": {},
   "outputs": [],
   "source": [
    "def compute_opt_sequence(n):\n",
    "    sequence = []\n",
    "    cur_sequence = []\n",
    "    while n >= 1:\n",
    "        sequence.append(n)\n",
    "        if n % 3 == 0:\n",
    "            n = n / 3\n",
    "            cur_sequence = cur_sequence + compute_opt_sequence (n)\n",
    "            if len(cur_sequence) < len(sequence):\n",
    "                print (\"ngwe3\")\n",
    "                sequence = cur_sequence\n",
    "        elif n % 2 == 0:\n",
    "            n = n / 2\n",
    "            cur_sequence = cur_sequence + compute_opt_sequence (n)\n",
    "            if len(cur_sequence) < len(sequence):\n",
    "                print (\"ngwe2\")\n",
    "                sequence = cur_sequence\n",
    "        n = n - 1\n",
    "        cur_sequence = cur_sequence + compute_opt_sequence (n)\n",
    "        else len(cur_sequence) < len(sequence):\n",
    "            print (\"ngwe1\")\n",
    "            sequence = cur_sequence\n",
    "    return list(reversed(sequence))"
   ]
  },
  {
   "cell_type": "code",
   "execution_count": 251,
   "metadata": {},
   "outputs": [
    {
     "name": "stdout",
     "output_type": "stream",
     "text": [
      "ngwe1\n",
      "ngwe2\n",
      "ngwe2\n",
      "ngwe1\n",
      "ngwe1\n",
      "ngwe1\n",
      "ngwe1\n",
      "ngwe2\n",
      "ngwe1\n",
      "ngwe1\n",
      "ngwe1\n",
      "ngwe2\n",
      "ngwe2\n",
      "ngwe1\n",
      "ngwe1\n",
      "ngwe1\n",
      "ngwe2\n",
      "ngwe2\n",
      "ngwe1\n",
      "ngwe1\n"
     ]
    },
    {
     "data": {
      "text/plain": [
       "[4.0]"
      ]
     },
     "execution_count": 251,
     "metadata": {},
     "output_type": "execute_result"
    }
   ],
   "source": [
    "compute_opt_sequence(10)"
   ]
  },
  {
   "cell_type": "code",
   "execution_count": 14,
   "metadata": {},
   "outputs": [
    {
     "data": {
      "text/plain": [
       "7"
      ]
     },
     "execution_count": 14,
     "metadata": {},
     "output_type": "execute_result"
    }
   ],
   "source": [
    "greedy_calc(100)"
   ]
  },
  {
   "cell_type": "code",
   "execution_count": 61,
   "metadata": {},
   "outputs": [
    {
     "name": "stdout",
     "output_type": "stream",
     "text": [
      "[1, 2, 4, 5, 10]\n"
     ]
    }
   ],
   "source": [
    "print(compute_sequence(10))"
   ]
  },
  {
   "cell_type": "code",
   "execution_count": 105,
   "metadata": {},
   "outputs": [],
   "source": [
    "def compute_sequence(n):\n",
    "\n",
    "    current_sequence = []    \n",
    "    # optimal_sequence = []\n",
    "    if n <= 1:\n",
    "        current_sequence.append(n)\n",
    "    \n",
    "    while n > 1:\n",
    "        if n % 3 == 0:\n",
    "            #current_sequence.append( compute_sequence(n / 3))\n",
    "            print(n/3)\n",
    "            current_sequence.append(n)\n",
    "        if n % 2 == 0:\n",
    "            print(n/2)\n",
    "            #current_sequence.append( compute_sequence(n / 2))\n",
    "        print (n-1)\n",
    "            #current_sequence.append( compute_sequence(n - 1))\n",
    "        n -= 1\n",
    "    \n",
    "    return n, s1, s2, s3"
   ]
  },
  {
   "cell_type": "code",
   "execution_count": 90,
   "metadata": {},
   "outputs": [],
   "source": [
    "a = []"
   ]
  },
  {
   "cell_type": "code",
   "execution_count": 92,
   "metadata": {},
   "outputs": [
    {
     "name": "stdout",
     "output_type": "stream",
     "text": [
      "[2, 2]\n"
     ]
    }
   ],
   "source": [
    "a.append(2)\n",
    "print (a)"
   ]
  },
  {
   "cell_type": "code",
   "execution_count": null,
   "metadata": {},
   "outputs": [],
   "source": [
    "def route(n):\n",
    "    s1 = []\n",
    "    s2 = []\n",
    "    s3 = []\n",
    "    \n",
    "    return list(reversed(sequence))"
   ]
  },
  {
   "cell_type": "code",
   "execution_count": 107,
   "metadata": {},
   "outputs": [
    {
     "name": "stdout",
     "output_type": "stream",
     "text": [
      "1.0\n",
      "2\n",
      "1.0\n",
      "1\n"
     ]
    },
    {
     "data": {
      "text/plain": [
       "[]"
      ]
     },
     "execution_count": 107,
     "metadata": {},
     "output_type": "execute_result"
    }
   ],
   "source": [
    "compute_sequence(3)"
   ]
  },
  {
   "cell_type": "code",
   "execution_count": 38,
   "metadata": {},
   "outputs": [
    {
     "data": {
      "text/plain": [
       "1"
      ]
     },
     "execution_count": 38,
     "metadata": {},
     "output_type": "execute_result"
    }
   ],
   "source": [
    "H = []\n",
    "s1 = s2 = s3 = 0\n",
    "    \n",
    "        if n % 3 == 0:\n",
    "            n = n // 3\n",
    "        elif n % 2 == 0:\n",
    "            n = n // 2\n",
    "        else:\n",
    "            n = n - 1\n",
    "\n",
    "if n % 2 == 0:\n",
    "    s2 = n / 2\n",
    "    \n",
    "if n % 3 == 0:\n",
    "    s3 = n / 2\n"
   ]
  },
  {
   "cell_type": "code",
   "execution_count": 114,
   "metadata": {},
   "outputs": [],
   "source": [
    "def create_sequences(n):\n",
    "#    sequence = []\n",
    "    s1 = s2 = s3 = []\n",
    "    c = n\n",
    "    while n >= 1:\n",
    "        if n % 3 == 0:\n",
    "            s3.append( int(n / 3))\n",
    "        elif n % 2 == 0:\n",
    "            s2.append(int(n / 2))\n",
    "        else:\n",
    "            s1.append (n - 1)\n",
    "#        sequence.append([n,int(s1),int(s2),int(s3)])\n",
    "        n -= 1\n",
    "\n",
    "    return s1,s2,s3\n"
   ]
  },
  {
   "cell_type": "code",
   "execution_count": 115,
   "metadata": {},
   "outputs": [
    {
     "data": {
      "text/plain": [
       "([4, 2, 1, 1, 0], [4, 2, 1, 1, 0], [4, 2, 1, 1, 0])"
      ]
     },
     "execution_count": 115,
     "metadata": {},
     "output_type": "execute_result"
    }
   ],
   "source": [
    "create_sequences(5)"
   ]
  },
  {
   "cell_type": "markdown",
   "metadata": {},
   "source": [
    "### Edit Distance"
   ]
  },
  {
   "cell_type": "code",
   "execution_count": 549,
   "metadata": {},
   "outputs": [],
   "source": [
    "# Uses python3\n",
    "\n",
    "\n",
    "def edit_distance(str1, str2):\n",
    "    m = len(str1)\n",
    "    n = len(str2)\n",
    "    \n",
    "    dist = [[0 for d in range(n + 1)] for d in range(m + 1 )]\n",
    "    \n",
    "    for i in range (m + 1 ):\n",
    "        for j in range (n + 1):\n",
    "            \n",
    "            if i == 0:\n",
    "                dist[i][j] = j\n",
    "            \n",
    "            elif j == 0:\n",
    "                dist[i][j] = i\n",
    "            \n",
    "            elif str1[i-1] == str2[j-1]:\n",
    "                dist[i][j] = dist[i-1][j-1]\n",
    "\n",
    "            else:\n",
    "                dist[i][j] = 1 + min(dist[i][j-1],\n",
    "                                    dist[i-1][j],\n",
    "                                    dist[i-1][j-1])\n",
    "                \n",
    "    return dist[m][n] \n",
    "\n",
    "\n",
    "    "
   ]
  },
  {
   "cell_type": "code",
   "execution_count": 553,
   "metadata": {},
   "outputs": [],
   "source": [
    "def edit_distance2(s, t):\n",
    "    m = len(s)\n",
    "    n = len(t)\n",
    "    distance = [[0 for _ in range(n + 1)] for _ in range(m + 1)]\n",
    "\n",
    "    for i in range(m + 1):\n",
    "        for j in range(n + 1):\n",
    "            insertion = distance[i][j-1] + 1\n",
    "            deletion = distance[i-1][j] + 1\n",
    "            match = distance[i-1][j-1]\n",
    "            mismatch = distance[i-1][j-1] + 1\n",
    "            if i == 0:\n",
    "                distance[i][j] = j\n",
    "            elif j == 0:\n",
    "                distance[i][j] = i\n",
    "            elif s[i] == t[j]:\n",
    "                distance[i][j] = min(insertion, deletion, match)\n",
    "            else:\n",
    "                distance[i][j] = min(insertion, deletion, mismatch)\n",
    "\n",
    "    return distance[m][n]"
   ]
  },
  {
   "cell_type": "code",
   "execution_count": 554,
   "metadata": {},
   "outputs": [
    {
     "ename": "IndexError",
     "evalue": "string index out of range",
     "output_type": "error",
     "traceback": [
      "\u001b[0;31m---------------------------------------------------------------------------\u001b[0m",
      "\u001b[0;31mIndexError\u001b[0m                                Traceback (most recent call last)",
      "\u001b[0;32m/var/folders/d9/cr96dwt53pvbj8jy5ynxf4yh0000gn/T/ipykernel_3466/454515957.py\u001b[0m in \u001b[0;36m<module>\u001b[0;34m\u001b[0m\n\u001b[0;32m----> 1\u001b[0;31m \u001b[0medit_distance2\u001b[0m\u001b[0;34m(\u001b[0m\u001b[0;34m\"shorts\"\u001b[0m\u001b[0;34m,\u001b[0m\u001b[0;34m\"ports\"\u001b[0m\u001b[0;34m)\u001b[0m\u001b[0;34m\u001b[0m\u001b[0;34m\u001b[0m\u001b[0m\n\u001b[0m",
      "\u001b[0;32m/var/folders/d9/cr96dwt53pvbj8jy5ynxf4yh0000gn/T/ipykernel_3466/442049518.py\u001b[0m in \u001b[0;36medit_distance2\u001b[0;34m(s, t)\u001b[0m\n\u001b[1;32m     14\u001b[0m             \u001b[0;32melif\u001b[0m \u001b[0mj\u001b[0m \u001b[0;34m==\u001b[0m \u001b[0;36m0\u001b[0m\u001b[0;34m:\u001b[0m\u001b[0;34m\u001b[0m\u001b[0;34m\u001b[0m\u001b[0m\n\u001b[1;32m     15\u001b[0m                 \u001b[0mdistance\u001b[0m\u001b[0;34m[\u001b[0m\u001b[0mi\u001b[0m\u001b[0;34m]\u001b[0m\u001b[0;34m[\u001b[0m\u001b[0mj\u001b[0m\u001b[0;34m]\u001b[0m \u001b[0;34m=\u001b[0m \u001b[0mi\u001b[0m\u001b[0;34m\u001b[0m\u001b[0;34m\u001b[0m\u001b[0m\n\u001b[0;32m---> 16\u001b[0;31m             \u001b[0;32melif\u001b[0m \u001b[0ms\u001b[0m\u001b[0;34m[\u001b[0m\u001b[0mi\u001b[0m\u001b[0;34m]\u001b[0m \u001b[0;34m==\u001b[0m \u001b[0mt\u001b[0m\u001b[0;34m[\u001b[0m\u001b[0mj\u001b[0m\u001b[0;34m]\u001b[0m\u001b[0;34m:\u001b[0m\u001b[0;34m\u001b[0m\u001b[0;34m\u001b[0m\u001b[0m\n\u001b[0m\u001b[1;32m     17\u001b[0m                 \u001b[0mdistance\u001b[0m\u001b[0;34m[\u001b[0m\u001b[0mi\u001b[0m\u001b[0;34m]\u001b[0m\u001b[0;34m[\u001b[0m\u001b[0mj\u001b[0m\u001b[0;34m]\u001b[0m \u001b[0;34m=\u001b[0m \u001b[0mmin\u001b[0m\u001b[0;34m(\u001b[0m\u001b[0minsertion\u001b[0m\u001b[0;34m,\u001b[0m \u001b[0mdeletion\u001b[0m\u001b[0;34m,\u001b[0m \u001b[0mmatch\u001b[0m\u001b[0;34m)\u001b[0m\u001b[0;34m\u001b[0m\u001b[0;34m\u001b[0m\u001b[0m\n\u001b[1;32m     18\u001b[0m             \u001b[0;32melse\u001b[0m\u001b[0;34m:\u001b[0m\u001b[0;34m\u001b[0m\u001b[0;34m\u001b[0m\u001b[0m\n",
      "\u001b[0;31mIndexError\u001b[0m: string index out of range"
     ]
    }
   ],
   "source": [
    "edit_distance2(\"shorts\",\"ports\")"
   ]
  },
  {
   "cell_type": "code",
   "execution_count": 551,
   "metadata": {},
   "outputs": [
    {
     "data": {
      "text/plain": [
       "0"
      ]
     },
     "execution_count": 551,
     "metadata": {},
     "output_type": "execute_result"
    }
   ],
   "source": [
    "edit_distance(\"ab\",\"ab\")"
   ]
  },
  {
   "cell_type": "code",
   "execution_count": 552,
   "metadata": {},
   "outputs": [
    {
     "data": {
      "text/plain": [
       "5"
      ]
     },
     "execution_count": 552,
     "metadata": {},
     "output_type": "execute_result"
    }
   ],
   "source": [
    "edit_distance(\"editing\", \"distance\")"
   ]
  },
  {
   "cell_type": "code",
   "execution_count": null,
   "metadata": {},
   "outputs": [],
   "source": []
  },
  {
   "cell_type": "code",
   "execution_count": null,
   "metadata": {},
   "outputs": [],
   "source": [
    "        for first_string, second_string, answer in (\n",
    "            (\"ab\", \"ab\", 0),\n",
    "            (\"short\", \"ports\", 3),\n",
    "            (\"editing\", \"distance\", 5),\n",
    "            (\"a\" * 100, \"a\" * 100, 0),\n",
    "            (\"ab\" * 50, \"ba\" * 50, 2),\n",
    "            (\"editing\", \"distance\", 5)\n",
    "        ):\n",
    "            print(editDistDP(first_string, second_string) ==  answer)"
   ]
  },
  {
   "cell_type": "code",
   "execution_count": 255,
   "metadata": {},
   "outputs": [],
   "source": [
    "i = 5\n",
    "j = 6"
   ]
  },
  {
   "cell_type": "code",
   "execution_count": 291,
   "metadata": {},
   "outputs": [],
   "source": [
    "d = [[0 for _ in range(j)] for _ in range(i)]"
   ]
  },
  {
   "cell_type": "code",
   "execution_count": 277,
   "metadata": {},
   "outputs": [],
   "source": [
    "d1 = [0]*i"
   ]
  },
  {
   "cell_type": "code",
   "execution_count": 278,
   "metadata": {},
   "outputs": [],
   "source": [
    "d2 = [1]*j"
   ]
  },
  {
   "cell_type": "code",
   "execution_count": 294,
   "metadata": {},
   "outputs": [
    {
     "data": {
      "text/plain": [
       "0"
      ]
     },
     "execution_count": 294,
     "metadata": {},
     "output_type": "execute_result"
    }
   ],
   "source": [
    "d[i - 1][j - 1] "
   ]
  },
  {
   "cell_type": "code",
   "execution_count": 340,
   "metadata": {},
   "outputs": [],
   "source": [
    "s = \"short\"\n",
    "t = \"ports\"\n"
   ]
  },
  {
   "cell_type": "code",
   "execution_count": 264,
   "metadata": {},
   "outputs": [
    {
     "data": {
      "text/plain": [
       "6"
      ]
     },
     "execution_count": 264,
     "metadata": {},
     "output_type": "execute_result"
    }
   ],
   "source": [
    "len(A)"
   ]
  },
  {
   "cell_type": "code",
   "execution_count": 266,
   "metadata": {},
   "outputs": [
    {
     "data": {
      "text/plain": [
       "'h'"
      ]
     },
     "execution_count": 266,
     "metadata": {},
     "output_type": "execute_result"
    }
   ],
   "source": [
    "A[len(A) - 1]"
   ]
  },
  {
   "cell_type": "code",
   "execution_count": 532,
   "metadata": {},
   "outputs": [],
   "source": [
    "def editDistDP(str1, str2):\n",
    "    \n",
    "    m = len(str1)\n",
    "    n = len(str2)\n",
    "    # Create a table to store results of subproblems\n",
    "    dp = [[0 for x in range(n + 1)] for x in range(m + 1)]\n",
    " \n",
    "    # Fill d[][] in bottom up manner\n",
    "    for i in range(m + 1):\n",
    "        for j in range(n + 1):\n",
    " \n",
    "            # If first string is empty, only option is to\n",
    "            # insert all characters of second string\n",
    "            if i == 0:\n",
    "                dp[i][j] = j    # Min. operations = j\n",
    " \n",
    "            # If second string is empty, only option is to\n",
    "            # remove all characters of second string\n",
    "            elif j == 0:\n",
    "                dp[i][j] = i    # Min. operations = i\n",
    " \n",
    "            # If last characters are same, ignore last char\n",
    "            # and recur for remaining string\n",
    "            elif str1[i-1] == str2[j-1]:\n",
    "                dp[i][j] = dp[i-1][j-1]\n",
    "\n",
    "            # If last character are different, consider all\n",
    "            # possibilities and find minimum\n",
    "            else:\n",
    "                dp[i][j] = 1 + min(dp[i][j-1],        # Insert\n",
    "                                   dp[i-1][j],        # Remove\n",
    "                                   dp[i-1][j-1])    # Replace\n",
    "                \n",
    "    return dp[m][n]\n",
    " \n",
    " \n",
    "# Driver code\n"
   ]
  },
  {
   "cell_type": "code",
   "execution_count": 536,
   "metadata": {},
   "outputs": [
    {
     "data": {
      "text/plain": [
       "5"
      ]
     },
     "execution_count": 536,
     "metadata": {},
     "output_type": "execute_result"
    }
   ],
   "source": [
    "editDistDP(str1,str2)"
   ]
  },
  {
   "cell_type": "code",
   "execution_count": 537,
   "metadata": {},
   "outputs": [
    {
     "data": {
      "text/plain": [
       "4"
      ]
     },
     "execution_count": 537,
     "metadata": {},
     "output_type": "execute_result"
    }
   ],
   "source": [
    "edit_distance(str1,str2)"
   ]
  },
  {
   "cell_type": "code",
   "execution_count": 535,
   "metadata": {},
   "outputs": [],
   "source": [
    "str1 = \"editing\"\n",
    "str2 = \"distance\""
   ]
  },
  {
   "cell_type": "code",
   "execution_count": 508,
   "metadata": {},
   "outputs": [],
   "source": [
    "str1 = \"sunday\"\n",
    "str2 = \"saturday\""
   ]
  },
  {
   "cell_type": "code",
   "execution_count": 516,
   "metadata": {},
   "outputs": [],
   "source": [
    "str1 = \"abad\"\n",
    "str2 = \"acda\""
   ]
  },
  {
   "cell_type": "code",
   "execution_count": null,
   "metadata": {},
   "outputs": [],
   "source": []
  }
 ],
 "metadata": {
  "kernelspec": {
   "display_name": "Python 3 (ipykernel)",
   "language": "python",
   "name": "python3"
  },
  "language_info": {
   "codemirror_mode": {
    "name": "ipython",
    "version": 3
   },
   "file_extension": ".py",
   "mimetype": "text/x-python",
   "name": "python",
   "nbconvert_exporter": "python",
   "pygments_lexer": "ipython3",
   "version": "3.9.2"
  }
 },
 "nbformat": 4,
 "nbformat_minor": 4
}
