{
 "cells": [
  {
   "cell_type": "code",
   "execution_count": 31,
   "metadata": {},
   "outputs": [],
   "source": [
    "capacity = 9\n",
    "weights = [4,3,5]\n",
    "prices = [5000,200,10]"
   ]
  },
  {
   "cell_type": "code",
   "execution_count": 75,
   "metadata": {},
   "outputs": [],
   "source": [
    "def maximum_loot_value(capacity, weights, prices):\n",
    "    assert 0 <= capacity <= 2 * 10 ** 6\n",
    "    assert len(weights) == len(prices)\n",
    "    assert 1 <= len(weights) <= 10 ** 3\n",
    "    assert all(0 < w <= 2 * 10 ** 6 for w in weights)\n",
    "    assert all(0 <= p <= 2 * 10 ** 6 for p in prices)\n",
    "\n",
    "    # sort spices by most value descending.\n",
    "    # Output is a sorted catalogue with list of tuples of weights: unit price)\n",
    "    unit_prices = [p / w for w, p in zip(weights, prices)]\n",
    "    catalogue = sorted(zip(weights, unit_prices), key=lambda x: x[1], reverse=True)\n",
    "    \n",
    "    # sorted list of weights:\n",
    "    weights = [x[0] for x in catalogue]\n",
    "    unit_prices = [x[1] for x in catalogue]\n",
    "    \n",
    "    loot_value = 0\n",
    "    available = [0] * len(weights)\n",
    "    for i in range(len(weights)):\n",
    "        if capacity == 0:\n",
    "            return loot_value\n",
    "        a = min(weights[i],capacity)\n",
    "       # print (\"a: \", a)\n",
    "        print (\"capacity: \", capacity)\n",
    "        print (\"unit_price: \", unit_prices[i])\n",
    "        print (\"weight: \", weights[i])\n",
    "        loot_value += (a * (unit_prices[i]))\n",
    "        weights[i] -= a\n",
    "        available[i] += a\n",
    "        capacity -= a\n",
    "    print (\"loot_value: \", loot_value)\n",
    "    return (loot_value)"
   ]
  },
  {
   "cell_type": "code",
   "execution_count": 54,
   "metadata": {},
   "outputs": [],
   "source": [
    "    unit_prices = [p / w for w, p in zip(weights, prices)]\n",
    "    catalogue = sorted(zip(weights, unit_prices), key=lambda x: x[1], reverse=True)\n"
   ]
  },
  {
   "cell_type": "code",
   "execution_count": 56,
   "metadata": {},
   "outputs": [
    {
     "name": "stdout",
     "output_type": "stream",
     "text": [
      "[1250.0, 66.66666666666667, 2.0]\n",
      "[(4, 1250.0), (3, 66.66666666666667), (5, 2.0)]\n"
     ]
    }
   ],
   "source": [
    "print(unit_prices)\n",
    "print(catalogue)"
   ]
  },
  {
   "cell_type": "code",
   "execution_count": 57,
   "metadata": {},
   "outputs": [],
   "source": [
    "    weights = [x[0] for x in catalogue]\n",
    "    unit_prices = [x[1] for x in catalogue]\n"
   ]
  },
  {
   "cell_type": "code",
   "execution_count": 64,
   "metadata": {},
   "outputs": [
    {
     "name": "stdout",
     "output_type": "stream",
     "text": [
      "[4, 3, 5]\n",
      "[1250.0, 66.66666666666667, 2.0]\n",
      "9\n"
     ]
    }
   ],
   "source": [
    "print(weights)\n",
    "print(unit_prices)\n",
    "print(capacity)"
   ]
  },
  {
   "cell_type": "code",
   "execution_count": 77,
   "metadata": {},
   "outputs": [
    {
     "name": "stdout",
     "output_type": "stream",
     "text": [
      "capacity:  9\n",
      "unit_price:  1250.0\n",
      "weight:  4\n",
      "capacity:  5\n",
      "unit_price:  66.66666666666667\n",
      "weight:  3\n",
      "capacity:  2\n",
      "unit_price:  2.0\n",
      "weight:  5\n",
      "loot_value:  5204.0\n"
     ]
    }
   ],
   "source": [
    "result = maximum_loot_value(capacity,weights,prices)"
   ]
  },
  {
   "cell_type": "code",
   "execution_count": 2,
   "metadata": {},
   "outputs": [],
   "source": [
    "unit_prices = [p / w for w, p in zip(weights, prices)]"
   ]
  },
  {
   "cell_type": "code",
   "execution_count": 7,
   "metadata": {},
   "outputs": [
    {
     "name": "stdout",
     "output_type": "stream",
     "text": [
      "[1250.0, 66.66666666666667, 2.0]\n",
      "[4, 3, 5]\n",
      "[5000, 200, 10]\n"
     ]
    }
   ],
   "source": [
    "print(unit_prices)\n",
    "print(weights)\n",
    "print(prices)"
   ]
  },
  {
   "cell_type": "code",
   "execution_count": 24,
   "metadata": {},
   "outputs": [],
   "source": [
    "w_up = sorted(zip(weights,unit_prices), key=lambda x: x[1], reverse=True)"
   ]
  },
  {
   "cell_type": "code",
   "execution_count": 33,
   "metadata": {},
   "outputs": [
    {
     "name": "stdout",
     "output_type": "stream",
     "text": [
      "[(4, 1250.0), (3, 66.66666666666667), (5, 2.0)]\n"
     ]
    }
   ],
   "source": [
    "print(w_up)"
   ]
  },
  {
   "cell_type": "code",
   "execution_count": 49,
   "metadata": {},
   "outputs": [],
   "source": [
    "W = [x[0] for x in w_up]"
   ]
  },
  {
   "cell_type": "code",
   "execution_count": 50,
   "metadata": {},
   "outputs": [
    {
     "data": {
      "text/plain": [
       "[4, 3, 5]"
      ]
     },
     "execution_count": 50,
     "metadata": {},
     "output_type": "execute_result"
    }
   ],
   "source": [
    "W\n"
   ]
  },
  {
   "cell_type": "code",
   "execution_count": 10,
   "metadata": {},
   "outputs": [],
   "source": [
    "a = max(unit_prices)"
   ]
  },
  {
   "cell_type": "code",
   "execution_count": 19,
   "metadata": {},
   "outputs": [],
   "source": [
    "ind = unit_prices.index(max(unit_prices))"
   ]
  },
  {
   "cell_type": "code",
   "execution_count": 13,
   "metadata": {},
   "outputs": [
    {
     "data": {
      "text/plain": [
       "False"
      ]
     },
     "execution_count": 13,
     "metadata": {},
     "output_type": "execute_result"
    }
   ],
   "source": [
    "weights[0] == 0"
   ]
  },
  {
   "cell_type": "code",
   "execution_count": 20,
   "metadata": {},
   "outputs": [
    {
     "data": {
      "text/plain": [
       "0"
      ]
     },
     "execution_count": 20,
     "metadata": {},
     "output_type": "execute_result"
    }
   ],
   "source": [
    "ind"
   ]
  },
  {
   "cell_type": "code",
   "execution_count": null,
   "metadata": {},
   "outputs": [],
   "source": []
  }
 ],
 "metadata": {
  "kernelspec": {
   "display_name": "Python 3 (ipykernel)",
   "language": "python",
   "name": "python3"
  },
  "language_info": {
   "codemirror_mode": {
    "name": "ipython",
    "version": 3
   },
   "file_extension": ".py",
   "mimetype": "text/x-python",
   "name": "python",
   "nbconvert_exporter": "python",
   "pygments_lexer": "ipython3",
   "version": "3.9.2"
  }
 },
 "nbformat": 4,
 "nbformat_minor": 4
}
