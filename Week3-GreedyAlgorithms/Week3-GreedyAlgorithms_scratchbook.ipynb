{
 "cells": [
  {
   "cell_type": "code",
   "execution_count": 31,
   "metadata": {},
   "outputs": [],
   "source": [
    "capacity = 9\n",
    "weights = [4,3,5]\n",
    "prices = [5000,200,10]"
   ]
  },
  {
   "cell_type": "code",
   "execution_count": 75,
   "metadata": {},
   "outputs": [],
   "source": [
    "def maximum_loot_value(capacity, weights, prices):\n",
    "    assert 0 <= capacity <= 2 * 10 ** 6\n",
    "    assert len(weights) == len(prices)\n",
    "    assert 1 <= len(weights) <= 10 ** 3\n",
    "    assert all(0 < w <= 2 * 10 ** 6 for w in weights)\n",
    "    assert all(0 <= p <= 2 * 10 ** 6 for p in prices)\n",
    "\n",
    "    # sort spices by most value descending.\n",
    "    # Output is a sorted catalogue with list of tuples of weights: unit price)\n",
    "    unit_prices = [p / w for w, p in zip(weights, prices)]\n",
    "    catalogue = sorted(zip(weights, unit_prices), key=lambda x: x[1], reverse=True)\n",
    "    \n",
    "    # sorted list of weights:\n",
    "    weights = [x[0] for x in catalogue]\n",
    "    unit_prices = [x[1] for x in catalogue]\n",
    "    \n",
    "    loot_value = 0\n",
    "    available = [0] * len(weights)\n",
    "    for i in range(len(weights)):\n",
    "        if capacity == 0:\n",
    "            return loot_value\n",
    "        a = min(weights[i],capacity)\n",
    "       # print (\"a: \", a)\n",
    "        print (\"capacity: \", capacity)\n",
    "        print (\"unit_price: \", unit_prices[i])\n",
    "        print (\"weight: \", weights[i])\n",
    "        loot_value += (a * (unit_prices[i]))\n",
    "        weights[i] -= a\n",
    "        available[i] += a\n",
    "        capacity -= a\n",
    "    print (\"loot_value: \", loot_value)\n",
    "    return (loot_value)"
   ]
  },
  {
   "cell_type": "code",
   "execution_count": 54,
   "metadata": {},
   "outputs": [],
   "source": [
    "    unit_prices = [p / w for w, p in zip(weights, prices)]\n",
    "    catalogue = sorted(zip(weights, unit_prices), key=lambda x: x[1], reverse=True)\n"
   ]
  },
  {
   "cell_type": "code",
   "execution_count": 56,
   "metadata": {},
   "outputs": [
    {
     "name": "stdout",
     "output_type": "stream",
     "text": [
      "[1250.0, 66.66666666666667, 2.0]\n",
      "[(4, 1250.0), (3, 66.66666666666667), (5, 2.0)]\n"
     ]
    }
   ],
   "source": [
    "print(unit_prices)\n",
    "print(catalogue)"
   ]
  },
  {
   "cell_type": "code",
   "execution_count": 57,
   "metadata": {},
   "outputs": [],
   "source": [
    "    weights = [x[0] for x in catalogue]\n",
    "    unit_prices = [x[1] for x in catalogue]\n"
   ]
  },
  {
   "cell_type": "code",
   "execution_count": 64,
   "metadata": {},
   "outputs": [
    {
     "name": "stdout",
     "output_type": "stream",
     "text": [
      "[4, 3, 5]\n",
      "[1250.0, 66.66666666666667, 2.0]\n",
      "9\n"
     ]
    }
   ],
   "source": [
    "print(weights)\n",
    "print(unit_prices)\n",
    "print(capacity)"
   ]
  },
  {
   "cell_type": "code",
   "execution_count": 77,
   "metadata": {},
   "outputs": [
    {
     "name": "stdout",
     "output_type": "stream",
     "text": [
      "capacity:  9\n",
      "unit_price:  1250.0\n",
      "weight:  4\n",
      "capacity:  5\n",
      "unit_price:  66.66666666666667\n",
      "weight:  3\n",
      "capacity:  2\n",
      "unit_price:  2.0\n",
      "weight:  5\n",
      "loot_value:  5204.0\n"
     ]
    }
   ],
   "source": [
    "result = maximum_loot_value(capacity,weights,prices)"
   ]
  },
  {
   "cell_type": "code",
   "execution_count": 2,
   "metadata": {},
   "outputs": [],
   "source": [
    "unit_prices = [p / w for w, p in zip(weights, prices)]"
   ]
  },
  {
   "cell_type": "code",
   "execution_count": 7,
   "metadata": {},
   "outputs": [
    {
     "name": "stdout",
     "output_type": "stream",
     "text": [
      "[1250.0, 66.66666666666667, 2.0]\n",
      "[4, 3, 5]\n",
      "[5000, 200, 10]\n"
     ]
    }
   ],
   "source": [
    "print(unit_prices)\n",
    "print(weights)\n",
    "print(prices)"
   ]
  },
  {
   "cell_type": "code",
   "execution_count": 24,
   "metadata": {},
   "outputs": [],
   "source": [
    "w_up = sorted(zip(weights,unit_prices), key=lambda x: x[1], reverse=True)"
   ]
  },
  {
   "cell_type": "code",
   "execution_count": 33,
   "metadata": {},
   "outputs": [
    {
     "name": "stdout",
     "output_type": "stream",
     "text": [
      "[(4, 1250.0), (3, 66.66666666666667), (5, 2.0)]\n"
     ]
    }
   ],
   "source": [
    "print(w_up)"
   ]
  },
  {
   "cell_type": "code",
   "execution_count": 49,
   "metadata": {},
   "outputs": [],
   "source": [
    "W = [x[0] for x in w_up]"
   ]
  },
  {
   "cell_type": "code",
   "execution_count": 50,
   "metadata": {},
   "outputs": [
    {
     "data": {
      "text/plain": [
       "[4, 3, 5]"
      ]
     },
     "execution_count": 50,
     "metadata": {},
     "output_type": "execute_result"
    }
   ],
   "source": [
    "W\n"
   ]
  },
  {
   "cell_type": "code",
   "execution_count": 10,
   "metadata": {},
   "outputs": [],
   "source": [
    "a = max(unit_prices)"
   ]
  },
  {
   "cell_type": "code",
   "execution_count": 19,
   "metadata": {},
   "outputs": [],
   "source": [
    "ind = unit_prices.index(max(unit_prices))"
   ]
  },
  {
   "cell_type": "code",
   "execution_count": 13,
   "metadata": {},
   "outputs": [
    {
     "data": {
      "text/plain": [
       "False"
      ]
     },
     "execution_count": 13,
     "metadata": {},
     "output_type": "execute_result"
    }
   ],
   "source": [
    "weights[0] == 0"
   ]
  },
  {
   "cell_type": "code",
   "execution_count": 20,
   "metadata": {},
   "outputs": [
    {
     "data": {
      "text/plain": [
       "0"
      ]
     },
     "execution_count": 20,
     "metadata": {},
     "output_type": "execute_result"
    }
   ],
   "source": [
    "ind"
   ]
  },
  {
   "cell_type": "code",
   "execution_count": 360,
   "metadata": {},
   "outputs": [],
   "source": [
    "def compute_min_number_of_refills(d, m, stops):\n",
    "    assert 1 <= d <= 10 ** 5\n",
    "    assert 1 <= m <= 400\n",
    "    assert 1 <= len(stops) <= 300\n",
    "    assert 0 < stops[0] and all(stops[i] < stops[i + 1] for i in range(len(stops) - 1)) and stops[-1] < d\n",
    "\n",
    "    num_refills = 0\n",
    "    current_refill = 0\n",
    "    n = len(stops) \n",
    "    print (\"n: \", n)\n",
    "    allstops = [0] + stops.copy() + [d]\n",
    "    print (\"all stops: \", allstops)\n",
    "    print (\"# of all stops: \", len(allstops))\n",
    "    while current_refill <= n  :\n",
    "        last_refill = current_refill\n",
    "        while ((current_refill  <= n ) and ((allstops[current_refill + 1] - allstops[last_refill]) <= m)):\n",
    "                current_refill += 1 \n",
    "        if current_refill == last_refill:\n",
    "            return -1        \n",
    "        if current_refill <= n:\n",
    "            num_refills += 1\n",
    "    return num_refills"
   ]
  },
  {
   "cell_type": "code",
   "execution_count": 364,
   "metadata": {},
   "outputs": [
    {
     "name": "stdout",
     "output_type": "stream",
     "text": [
      "n:  2\n",
      "all stops:  [0, 100, 150, 200]\n",
      "# of all stops:  4\n",
      "min refills - case 1:  0\n"
     ]
    }
   ],
   "source": [
    "d1 = 200\n",
    "m1 = 250\n",
    "stops1 = [100, 150]\n",
    "n1 = compute_min_number_of_refills(d1,m1,stops1)\n",
    "print(\"min refills - case 1: \", n1)\n",
    "assert (n==0)"
   ]
  },
  {
   "cell_type": "code",
   "execution_count": 363,
   "metadata": {},
   "outputs": [
    {
     "name": "stdout",
     "output_type": "stream",
     "text": [
      "n:  4\n",
      "all stops:  [0, 1, 2, 5, 9, 10]\n",
      "# of all stops:  6\n",
      "min refills - case 2:  -1\n"
     ]
    }
   ],
   "source": [
    "d2 = 10 \n",
    "m2 = 3\n",
    "stops2 = [1, 2, 5, 9]\n",
    "n2 = compute_min_number_of_refills(d2,m2,stops2)\n",
    "print(\"min refills - case 2: \", n2)\n",
    "assert (n2 == -1)"
   ]
  },
  {
   "cell_type": "code",
   "execution_count": 362,
   "metadata": {},
   "outputs": [
    {
     "name": "stdout",
     "output_type": "stream",
     "text": [
      "n:  4\n",
      "all stops:  [0, 200, 375, 550, 750, 950]\n",
      "# of all stops:  6\n",
      "min refills - case 3:  2\n"
     ]
    }
   ],
   "source": [
    "d3 = 950 \n",
    "m3 = 400\n",
    "stops3 = [200, 375, 550, 750]\n",
    "n3 = compute_min_number_of_refills(d3,m3,stops3)\n",
    "print(\"min refills - case 3: \", n3)\n",
    "assert (n3 == 2)"
   ]
  },
  {
   "cell_type": "markdown",
   "metadata": {},
   "source": [
    "### Maximum Dot Product"
   ]
  },
  {
   "cell_type": "code",
   "execution_count": 374,
   "metadata": {},
   "outputs": [],
   "source": [
    "from itertools import permutations\n",
    "import unittest"
   ]
  },
  {
   "cell_type": "code",
   "execution_count": 366,
   "metadata": {},
   "outputs": [],
   "source": [
    "def max_dot_product_naive(first_sequence, second_sequence):\n",
    "    assert len(first_sequence) == len(second_sequence)\n",
    "    assert len(first_sequence) <= 10 ** 3\n",
    "    assert all(0 <= f <= 10 ** 5 for f in first_sequence)\n",
    "    assert all(0 <= s <= 10 ** 5 for s in second_sequence)\n",
    "\n",
    "    max_product = 0\n",
    "    for permutation in permutations(second_sequence):\n",
    "        dot_product = sum(first_sequence[i] * permutation[i] for i in range(len(first_sequence)))\n",
    "        max_product = max(max_product, dot_product)\n",
    "\n",
    "    return max_product"
   ]
  },
  {
   "cell_type": "code",
   "execution_count": 387,
   "metadata": {},
   "outputs": [],
   "source": [
    "\n",
    "def max_dot_product(first_sequence, second_sequence):\n",
    "    assert len(first_sequence) == len(second_sequence)\n",
    "    assert len(first_sequence) <= 10 ** 3\n",
    "    assert all(0 <= f <= 10 ** 5 for f in first_sequence)\n",
    "    assert all(0 <= s <= 10 ** 5 for s in second_sequence)\n",
    "\n",
    "    first_sequence.sort(reverse=True)\n",
    "    second_sequence.sort(reverse=True)\n",
    "    max_product = 0\n",
    "    \n",
    "    for i in range(len(first_sequence)):\n",
    "        max_product += first_sequence[i] * second_sequence[i]\n",
    "            \n",
    "    return max_product"
   ]
  },
  {
   "cell_type": "code",
   "execution_count": 389,
   "metadata": {},
   "outputs": [
    {
     "name": "stdout",
     "output_type": "stream",
     "text": [
      "first_sequence [1]\n",
      "second_sequence [2]\n",
      "result - naive:  2\n",
      "result:  2\n",
      "=========\n",
      "first_sequence [2]\n",
      "second_sequence [1]\n",
      "result - naive:  2\n",
      "result:  2\n",
      "=========\n",
      "first_sequence [1]\n",
      "second_sequence [1]\n",
      "result - naive:  1\n",
      "result:  1\n",
      "=========\n",
      "first_sequence [1, 2]\n",
      "second_sequence [5, 10]\n",
      "result - naive:  25\n",
      "result:  25\n",
      "=========\n",
      "first_sequence [2, 1]\n",
      "second_sequence [5, 10]\n",
      "result - naive:  25\n",
      "result:  25\n",
      "=========\n",
      "first_sequence [1, 2, 3, 4, 5]\n",
      "second_sequence [5, 4, 3, 2, 1]\n",
      "result - naive:  55\n",
      "result:  55\n",
      "=========\n",
      "first_sequence [17, 12, 20]\n",
      "second_sequence [19, 2, 3]\n",
      "result - naive:  455\n",
      "result:  455\n",
      "=========\n"
     ]
    }
   ],
   "source": [
    "for (f, s) in [\n",
    "        ([1], [2]),\n",
    "        ([2], [1]),\n",
    "        ([1], [1]),\n",
    "        ([1, 2], [5, 10]),\n",
    "        ([2, 1], [5, 10]),\n",
    "        ([1, 2, 3, 4, 5], [5, 4, 3, 2, 1]),\n",
    "        ([17, 12, 20], [19, 2, 3])\n",
    "\n",
    "    ]:\n",
    "    print(\"first_sequence\", f)\n",
    "    print(\"second_sequence\", s)\n",
    "    result_naive = max_dot_product_naive(f, s)\n",
    "    result = max_dot_product(f, s)\n",
    "    print(\"result - naive: \", result_naive)\n",
    "    print(\"result: \", result)\n",
    "    print(\"=========\")\n"
   ]
  },
  {
   "cell_type": "code",
   "execution_count": null,
   "metadata": {},
   "outputs": [],
   "source": []
  }
 ],
 "metadata": {
  "kernelspec": {
   "display_name": "Python 3 (ipykernel)",
   "language": "python",
   "name": "python3"
  },
  "language_info": {
   "codemirror_mode": {
    "name": "ipython",
    "version": 3
   },
   "file_extension": ".py",
   "mimetype": "text/x-python",
   "name": "python",
   "nbconvert_exporter": "python",
   "pygments_lexer": "ipython3",
   "version": "3.9.2"
  }
 },
 "nbformat": 4,
 "nbformat_minor": 4
}
