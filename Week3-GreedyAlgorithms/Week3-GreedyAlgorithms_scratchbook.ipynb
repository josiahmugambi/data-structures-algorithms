{
 "cells": [
  {
   "cell_type": "code",
   "execution_count": 31,
   "metadata": {},
   "outputs": [],
   "source": [
    "capacity = 9\n",
    "weights = [4,3,5]\n",
    "prices = [5000,200,10]"
   ]
  },
  {
   "cell_type": "code",
   "execution_count": 75,
   "metadata": {},
   "outputs": [],
   "source": [
    "def maximum_loot_value(capacity, weights, prices):\n",
    "    assert 0 <= capacity <= 2 * 10 ** 6\n",
    "    assert len(weights) == len(prices)\n",
    "    assert 1 <= len(weights) <= 10 ** 3\n",
    "    assert all(0 < w <= 2 * 10 ** 6 for w in weights)\n",
    "    assert all(0 <= p <= 2 * 10 ** 6 for p in prices)\n",
    "\n",
    "    # sort spices by most value descending.\n",
    "    # Output is a sorted catalogue with list of tuples of weights: unit price)\n",
    "    unit_prices = [p / w for w, p in zip(weights, prices)]\n",
    "    catalogue = sorted(zip(weights, unit_prices), key=lambda x: x[1], reverse=True)\n",
    "    \n",
    "    # sorted list of weights:\n",
    "    weights = [x[0] for x in catalogue]\n",
    "    unit_prices = [x[1] for x in catalogue]\n",
    "    \n",
    "    loot_value = 0\n",
    "    available = [0] * len(weights)\n",
    "    for i in range(len(weights)):\n",
    "        if capacity == 0:\n",
    "            return loot_value\n",
    "        a = min(weights[i],capacity)\n",
    "       # print (\"a: \", a)\n",
    "        print (\"capacity: \", capacity)\n",
    "        print (\"unit_price: \", unit_prices[i])\n",
    "        print (\"weight: \", weights[i])\n",
    "        loot_value += (a * (unit_prices[i]))\n",
    "        weights[i] -= a\n",
    "        available[i] += a\n",
    "        capacity -= a\n",
    "    print (\"loot_value: \", loot_value)\n",
    "    return (loot_value)"
   ]
  },
  {
   "cell_type": "code",
   "execution_count": 54,
   "metadata": {},
   "outputs": [],
   "source": [
    "    unit_prices = [p / w for w, p in zip(weights, prices)]\n",
    "    catalogue = sorted(zip(weights, unit_prices), key=lambda x: x[1], reverse=True)\n"
   ]
  },
  {
   "cell_type": "code",
   "execution_count": 56,
   "metadata": {},
   "outputs": [
    {
     "name": "stdout",
     "output_type": "stream",
     "text": [
      "[1250.0, 66.66666666666667, 2.0]\n",
      "[(4, 1250.0), (3, 66.66666666666667), (5, 2.0)]\n"
     ]
    }
   ],
   "source": [
    "print(unit_prices)\n",
    "print(catalogue)"
   ]
  },
  {
   "cell_type": "code",
   "execution_count": 57,
   "metadata": {},
   "outputs": [],
   "source": [
    "    weights = [x[0] for x in catalogue]\n",
    "    unit_prices = [x[1] for x in catalogue]\n"
   ]
  },
  {
   "cell_type": "code",
   "execution_count": 64,
   "metadata": {},
   "outputs": [
    {
     "name": "stdout",
     "output_type": "stream",
     "text": [
      "[4, 3, 5]\n",
      "[1250.0, 66.66666666666667, 2.0]\n",
      "9\n"
     ]
    }
   ],
   "source": [
    "print(weights)\n",
    "print(unit_prices)\n",
    "print(capacity)"
   ]
  },
  {
   "cell_type": "code",
   "execution_count": 77,
   "metadata": {},
   "outputs": [
    {
     "name": "stdout",
     "output_type": "stream",
     "text": [
      "capacity:  9\n",
      "unit_price:  1250.0\n",
      "weight:  4\n",
      "capacity:  5\n",
      "unit_price:  66.66666666666667\n",
      "weight:  3\n",
      "capacity:  2\n",
      "unit_price:  2.0\n",
      "weight:  5\n",
      "loot_value:  5204.0\n"
     ]
    }
   ],
   "source": [
    "result = maximum_loot_value(capacity,weights,prices)"
   ]
  },
  {
   "cell_type": "code",
   "execution_count": 2,
   "metadata": {},
   "outputs": [],
   "source": [
    "unit_prices = [p / w for w, p in zip(weights, prices)]"
   ]
  },
  {
   "cell_type": "code",
   "execution_count": 7,
   "metadata": {},
   "outputs": [
    {
     "name": "stdout",
     "output_type": "stream",
     "text": [
      "[1250.0, 66.66666666666667, 2.0]\n",
      "[4, 3, 5]\n",
      "[5000, 200, 10]\n"
     ]
    }
   ],
   "source": [
    "print(unit_prices)\n",
    "print(weights)\n",
    "print(prices)"
   ]
  },
  {
   "cell_type": "code",
   "execution_count": 24,
   "metadata": {},
   "outputs": [],
   "source": [
    "w_up = sorted(zip(weights,unit_prices), key=lambda x: x[1], reverse=True)"
   ]
  },
  {
   "cell_type": "code",
   "execution_count": 33,
   "metadata": {},
   "outputs": [
    {
     "name": "stdout",
     "output_type": "stream",
     "text": [
      "[(4, 1250.0), (3, 66.66666666666667), (5, 2.0)]\n"
     ]
    }
   ],
   "source": [
    "print(w_up)"
   ]
  },
  {
   "cell_type": "code",
   "execution_count": 49,
   "metadata": {},
   "outputs": [],
   "source": [
    "W = [x[0] for x in w_up]"
   ]
  },
  {
   "cell_type": "code",
   "execution_count": 50,
   "metadata": {},
   "outputs": [
    {
     "data": {
      "text/plain": [
       "[4, 3, 5]"
      ]
     },
     "execution_count": 50,
     "metadata": {},
     "output_type": "execute_result"
    }
   ],
   "source": [
    "W\n"
   ]
  },
  {
   "cell_type": "code",
   "execution_count": 10,
   "metadata": {},
   "outputs": [],
   "source": [
    "a = max(unit_prices)"
   ]
  },
  {
   "cell_type": "code",
   "execution_count": 19,
   "metadata": {},
   "outputs": [],
   "source": [
    "ind = unit_prices.index(max(unit_prices))"
   ]
  },
  {
   "cell_type": "code",
   "execution_count": 13,
   "metadata": {},
   "outputs": [
    {
     "data": {
      "text/plain": [
       "False"
      ]
     },
     "execution_count": 13,
     "metadata": {},
     "output_type": "execute_result"
    }
   ],
   "source": [
    "weights[0] == 0"
   ]
  },
  {
   "cell_type": "code",
   "execution_count": 20,
   "metadata": {},
   "outputs": [
    {
     "data": {
      "text/plain": [
       "0"
      ]
     },
     "execution_count": 20,
     "metadata": {},
     "output_type": "execute_result"
    }
   ],
   "source": [
    "ind"
   ]
  },
  {
   "cell_type": "code",
   "execution_count": 108,
   "metadata": {},
   "outputs": [],
   "source": [
    "def compute_min_number_of_refills(d, m, stops):\n",
    "    assert 1 <= d <= 10 ** 5\n",
    "    assert 1 <= m <= 400\n",
    "    assert 1 <= len(stops) <= 300\n",
    "    assert 0 < stops[0] and all(stops[i] < stops[i + 1] for i in range(len(stops) - 1)) and stops[-1] < d\n",
    "\n",
    "    num_refills = 0\n",
    "    current_refill = 0\n",
    "    n = len(stops)\n",
    "    while current_refill <= n:\n",
    "        last_refill = current_refill\n",
    "        print (\"current refill: \", current_refill)\n",
    "        print (\"last refill\", last_refill)\n",
    "        print (\"n\", n)\n",
    "        print (\" stop to fuel:\" , stops[current_refill + 1])\n",
    "        print (\"last stop:\", stops[last_refill])\n",
    "        print (\"d \", d)\n",
    "        print (\"dist\" , stops[current_refill + 1] - stops[last_refill])\n",
    "        while ( (current_refill <= n) and ((stops[current_refill + 1] - stops[last_refill]) <= d)):\n",
    "                current_refill += 1\n",
    "        if current_refill == last_refill:\n",
    "            return -1        \n",
    "        if current_refill <= n:\n",
    "            num_refills += 1\n",
    "    return num_refills"
   ]
  },
  {
   "cell_type": "code",
   "execution_count": 92,
   "metadata": {},
   "outputs": [],
   "source": [
    "d = 200\n",
    "m = 250\n",
    "stops = [100, 150]"
   ]
  },
  {
   "cell_type": "code",
   "execution_count": 109,
   "metadata": {},
   "outputs": [
    {
     "name": "stdout",
     "output_type": "stream",
     "text": [
      "current refill:  0\n",
      "last refill 0\n",
      "n 2\n",
      " stop to fuel: 150\n",
      "last stop: 100\n",
      "d  200\n",
      "dist 50\n"
     ]
    },
    {
     "ename": "IndexError",
     "evalue": "list index out of range",
     "output_type": "error",
     "traceback": [
      "\u001b[0;31m---------------------------------------------------------------------------\u001b[0m",
      "\u001b[0;31mIndexError\u001b[0m                                Traceback (most recent call last)",
      "\u001b[0;32m/var/folders/d9/cr96dwt53pvbj8jy5ynxf4yh0000gn/T/ipykernel_62612/6413417.py\u001b[0m in \u001b[0;36m<module>\u001b[0;34m\u001b[0m\n\u001b[0;32m----> 1\u001b[0;31m \u001b[0mn\u001b[0m \u001b[0;34m=\u001b[0m \u001b[0mcompute_min_number_of_refills\u001b[0m\u001b[0;34m(\u001b[0m\u001b[0md\u001b[0m\u001b[0;34m,\u001b[0m\u001b[0mm\u001b[0m\u001b[0;34m,\u001b[0m\u001b[0mstops\u001b[0m\u001b[0;34m)\u001b[0m\u001b[0;34m\u001b[0m\u001b[0;34m\u001b[0m\u001b[0m\n\u001b[0m",
      "\u001b[0;32m/var/folders/d9/cr96dwt53pvbj8jy5ynxf4yh0000gn/T/ipykernel_62612/833557872.py\u001b[0m in \u001b[0;36mcompute_min_number_of_refills\u001b[0;34m(d, m, stops)\u001b[0m\n\u001b[1;32m     17\u001b[0m         \u001b[0mprint\u001b[0m \u001b[0;34m(\u001b[0m\u001b[0;34m\"d \"\u001b[0m\u001b[0;34m,\u001b[0m \u001b[0md\u001b[0m\u001b[0;34m)\u001b[0m\u001b[0;34m\u001b[0m\u001b[0;34m\u001b[0m\u001b[0m\n\u001b[1;32m     18\u001b[0m         \u001b[0mprint\u001b[0m \u001b[0;34m(\u001b[0m\u001b[0;34m\"dist\"\u001b[0m \u001b[0;34m,\u001b[0m \u001b[0mstops\u001b[0m\u001b[0;34m[\u001b[0m\u001b[0mcurrent_refill\u001b[0m \u001b[0;34m+\u001b[0m \u001b[0;36m1\u001b[0m\u001b[0;34m]\u001b[0m \u001b[0;34m-\u001b[0m \u001b[0mstops\u001b[0m\u001b[0;34m[\u001b[0m\u001b[0mlast_refill\u001b[0m\u001b[0;34m]\u001b[0m\u001b[0;34m)\u001b[0m\u001b[0;34m\u001b[0m\u001b[0;34m\u001b[0m\u001b[0m\n\u001b[0;32m---> 19\u001b[0;31m         \u001b[0;32mwhile\u001b[0m \u001b[0;34m(\u001b[0m \u001b[0;34m(\u001b[0m\u001b[0mcurrent_refill\u001b[0m \u001b[0;34m<=\u001b[0m \u001b[0mn\u001b[0m\u001b[0;34m)\u001b[0m \u001b[0;32mand\u001b[0m \u001b[0;34m(\u001b[0m\u001b[0;34m(\u001b[0m\u001b[0mstops\u001b[0m\u001b[0;34m[\u001b[0m\u001b[0mcurrent_refill\u001b[0m \u001b[0;34m+\u001b[0m \u001b[0;36m1\u001b[0m\u001b[0;34m]\u001b[0m \u001b[0;34m-\u001b[0m \u001b[0mstops\u001b[0m\u001b[0;34m[\u001b[0m\u001b[0mlast_refill\u001b[0m\u001b[0;34m]\u001b[0m\u001b[0;34m)\u001b[0m \u001b[0;34m<=\u001b[0m \u001b[0md\u001b[0m\u001b[0;34m)\u001b[0m\u001b[0;34m)\u001b[0m\u001b[0;34m:\u001b[0m\u001b[0;34m\u001b[0m\u001b[0;34m\u001b[0m\u001b[0m\n\u001b[0m\u001b[1;32m     20\u001b[0m                 \u001b[0mcurrent_refill\u001b[0m \u001b[0;34m+=\u001b[0m \u001b[0;36m1\u001b[0m\u001b[0;34m\u001b[0m\u001b[0;34m\u001b[0m\u001b[0m\n\u001b[1;32m     21\u001b[0m         \u001b[0;32mif\u001b[0m \u001b[0mcurrent_refill\u001b[0m \u001b[0;34m==\u001b[0m \u001b[0mlast_refill\u001b[0m\u001b[0;34m:\u001b[0m\u001b[0;34m\u001b[0m\u001b[0;34m\u001b[0m\u001b[0m\n",
      "\u001b[0;31mIndexError\u001b[0m: list index out of range"
     ]
    }
   ],
   "source": [
    "n = compute_min_number_of_refills(d,m,stops)"
   ]
  },
  {
   "cell_type": "code",
   "execution_count": null,
   "metadata": {},
   "outputs": [],
   "source": []
  }
 ],
 "metadata": {
  "kernelspec": {
   "display_name": "Python 3 (ipykernel)",
   "language": "python",
   "name": "python3"
  },
  "language_info": {
   "codemirror_mode": {
    "name": "ipython",
    "version": 3
   },
   "file_extension": ".py",
   "mimetype": "text/x-python",
   "name": "python",
   "nbconvert_exporter": "python",
   "pygments_lexer": "ipython3",
   "version": "3.9.2"
  }
 },
 "nbformat": 4,
 "nbformat_minor": 4
}
