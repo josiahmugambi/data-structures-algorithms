{
 "cells": [
  {
   "cell_type": "markdown",
   "metadata": {},
   "source": [
    "### 3.2 Maximum Value of the Loot (Fractional Knapsack)"
   ]
  },
  {
   "cell_type": "code",
   "execution_count": 31,
   "metadata": {},
   "outputs": [],
   "source": [
    "capacity = 9\n",
    "weights = [4,3,5]\n",
    "prices = [5000,200,10]"
   ]
  },
  {
   "cell_type": "code",
   "execution_count": 111,
   "metadata": {},
   "outputs": [],
   "source": [
    "def maximum_loot_value(capacity, weights, prices):\n",
    "    assert 0 <= capacity <= 2 * 10 ** 6\n",
    "    assert len(weights) == len(prices)\n",
    "    assert 1 <= len(weights) <= 10 ** 3\n",
    "    assert all(0 < w <= 2 * 10 ** 6 for w in weights)\n",
    "    assert all(0 <= p <= 2 * 10 ** 6 for p in prices)\n",
    "\n",
    "    # sort spices by most value descending.\n",
    "    # Output is a sorted catalogue with list of tuples of weights: unit price)\n",
    "    unit_prices = [p / w for w, p in zip(weights, prices)]\n",
    "    catalogue = sorted(zip(weights, unit_prices), key=lambda x: x[1], reverse=True)\n",
    "    \n",
    "    # sorted list of weights:\n",
    "    weights = [x[0] for x in catalogue]\n",
    "    unit_prices = [x[1] for x in catalogue]\n",
    "    \n",
    "    loot_value = 0\n",
    "    available = [0] * len(weights)\n",
    "    for i in range(len(weights)):\n",
    "        if capacity == 0:\n",
    "            return loot_value\n",
    "        a = min(weights[i],capacity)\n",
    "        loot_value += (a * (unit_prices[i]))\n",
    "        weights[i] -= a\n",
    "        available[i] += a\n",
    "        capacity -= a\n",
    "    return (loot_value)"
   ]
  },
  {
   "cell_type": "code",
   "execution_count": 112,
   "metadata": {},
   "outputs": [
    {
     "name": "stdout",
     "output_type": "stream",
     "text": [
      "Test: 1 True\n",
      "Test: 2 True\n"
     ]
    }
   ],
   "source": [
    "count = 1\n",
    "for (capacity, weights, prices, answer) in [\n",
    "    (50, [20, 50, 30], [60, 100, 120], 180.0),\n",
    "    (10, [30], [500], 500/3),\n",
    "]:\n",
    "    print(\"Test:\", count, round(maximum_loot_value(capacity, weights, prices),4) == round(answer,4))\n",
    "    count += 1\n"
   ]
  },
  {
   "cell_type": "markdown",
   "metadata": {},
   "source": [
    "### 3.3 Car Fueling"
   ]
  },
  {
   "cell_type": "code",
   "execution_count": 104,
   "metadata": {},
   "outputs": [],
   "source": [
    "def compute_min_number_of_refills(d, m, stops):\n",
    "    assert 1 <= d <= 10 ** 5\n",
    "    assert 1 <= m <= 400\n",
    "    assert 1 <= len(stops) <= 300\n",
    "    assert 0 < stops[0] and all(stops[i] < stops[i + 1] for i in range(len(stops) - 1)) and stops[-1] < d\n",
    "\n",
    "    num_refills = 0\n",
    "    current_refill = 0\n",
    "    n = len(stops) \n",
    "    allstops = [0] + stops.copy() + [d]\n",
    "    while current_refill <= n  :\n",
    "        last_refill = current_refill\n",
    "        while ((current_refill  <= n ) and ((allstops[current_refill + 1] - allstops[last_refill]) <= m)):\n",
    "                current_refill += 1 \n",
    "        if current_refill == last_refill:\n",
    "            return -1        \n",
    "        if current_refill <= n:\n",
    "            num_refills += 1\n",
    "    return num_refills"
   ]
  },
  {
   "cell_type": "code",
   "execution_count": 105,
   "metadata": {},
   "outputs": [
    {
     "name": "stdout",
     "output_type": "stream",
     "text": [
      "Test: 1 True\n",
      "Test: 2 True\n",
      "Test: 3 True\n"
     ]
    }
   ],
   "source": [
    "count = 1\n",
    "for (d, m, stops, answer) in [\n",
    "    (950, 400, [200, 375, 550, 750], 2),\n",
    "    (10, 3, [1, 2, 5, 9], -1),\n",
    "    (200, 250, [100, 150], 0)\n",
    "]:\n",
    "    print (\"Test:\", count, compute_min_number_of_refills(d, m, stops) == answer)\n",
    "    count += 1"
   ]
  },
  {
   "cell_type": "markdown",
   "metadata": {},
   "source": [
    "### 3.4 Maximum Dot Product"
   ]
  },
  {
   "cell_type": "code",
   "execution_count": 96,
   "metadata": {},
   "outputs": [],
   "source": [
    "from itertools import permutations\n",
    "import unittest"
   ]
  },
  {
   "cell_type": "code",
   "execution_count": 97,
   "metadata": {},
   "outputs": [],
   "source": [
    "def max_dot_product_naive(first_sequence, second_sequence):\n",
    "    assert len(first_sequence) == len(second_sequence)\n",
    "    assert len(first_sequence) <= 10 ** 3\n",
    "    assert all(0 <= f <= 10 ** 5 for f in first_sequence)\n",
    "    assert all(0 <= s <= 10 ** 5 for s in second_sequence)\n",
    "\n",
    "    max_product = 0\n",
    "    for permutation in permutations(second_sequence):\n",
    "        dot_product = sum(first_sequence[i] * permutation[i] for i in range(len(first_sequence)))\n",
    "        max_product = max(max_product, dot_product)\n",
    "\n",
    "    return max_product"
   ]
  },
  {
   "cell_type": "code",
   "execution_count": 98,
   "metadata": {},
   "outputs": [],
   "source": [
    "\n",
    "def max_dot_product(first_sequence, second_sequence):\n",
    "    assert len(first_sequence) == len(second_sequence)\n",
    "    assert len(first_sequence) <= 10 ** 3\n",
    "    assert all(0 <= f <= 10 ** 5 for f in first_sequence)\n",
    "    assert all(0 <= s <= 10 ** 5 for s in second_sequence)\n",
    "\n",
    "    first_sequence.sort(reverse=True)\n",
    "    second_sequence.sort(reverse=True)\n",
    "    max_product = 0\n",
    "    \n",
    "    for i in range(len(first_sequence)):\n",
    "        max_product += first_sequence[i] * second_sequence[i]\n",
    "            \n",
    "    return max_product"
   ]
  },
  {
   "cell_type": "code",
   "execution_count": 100,
   "metadata": {},
   "outputs": [
    {
     "name": "stdout",
     "output_type": "stream",
     "text": [
      "test: 1 True\n",
      "test: 2 True\n",
      "test: 3 True\n",
      "test: 4 True\n",
      "test: 5 True\n",
      "test: 6 True\n",
      "test: 7 True\n"
     ]
    }
   ],
   "source": [
    "count = 1\n",
    "for (f, s) in [\n",
    "        ([1], [2]),\n",
    "        ([2], [1]),\n",
    "        ([1], [1]),\n",
    "        ([1, 2], [5, 10]),\n",
    "        ([2, 1], [5, 10]),\n",
    "        ([1, 2, 3, 4, 5], [5, 4, 3, 2, 1]),\n",
    "        ([17, 12, 20], [19, 2, 3])\n",
    "\n",
    "    ]:\n",
    "    print(\"test:\", count, max_dot_product_naive(f, s) == max_dot_product(f, s))\n",
    "    count += 1"
   ]
  },
  {
   "cell_type": "markdown",
   "metadata": {},
   "source": [
    "### 3.5 Collecting Signatures"
   ]
  },
  {
   "cell_type": "code",
   "execution_count": 2,
   "metadata": {},
   "outputs": [],
   "source": [
    "from collections import namedtuple"
   ]
  },
  {
   "cell_type": "code",
   "execution_count": 413,
   "metadata": {},
   "outputs": [],
   "source": [
    "from operator import itemgetter"
   ]
  },
  {
   "cell_type": "code",
   "execution_count": 5,
   "metadata": {},
   "outputs": [],
   "source": [
    "Segment = namedtuple('Segment', 'start end')"
   ]
  },
  {
   "cell_type": "code",
   "execution_count": 94,
   "metadata": {},
   "outputs": [],
   "source": [
    "def sign_again(segments):\n",
    "    points = []\n",
    "    segments.sort(key=lambda x: x[1])\n",
    "    \n",
    "    p = segments[0][1]\n",
    "    points.append(p)\n",
    "    \n",
    "    for s in segments:\n",
    "        if s.start > p:\n",
    "            points.append(s.end)\n",
    "            p = s.end\n",
    "    return points\n"
   ]
  },
  {
   "cell_type": "code",
   "execution_count": 93,
   "metadata": {},
   "outputs": [
    {
     "name": "stdout",
     "output_type": "stream",
     "text": [
      "[Segment(start=1, end=5), Segment(start=4, end=7), Segment(start=8, end=9), Segment(start=10, end=12)]\n",
      "3\n",
      "3\n",
      "[3, 6]\n"
     ]
    }
   ],
   "source": [
    "print(segment3)\n",
    "print(sign_again(segment2))"
   ]
  },
  {
   "cell_type": "code",
   "execution_count": 76,
   "metadata": {},
   "outputs": [],
   "source": [
    "def sign(segments):\n",
    "    segments.sort(key=lambda x: x[1])\n",
    "    \n",
    "    n = len(segments)\n",
    "    points = []\n",
    "    \n",
    "    index = 0\n",
    "    \n",
    "    while index < n:\n",
    "        start, end = segments[index][0], segments[index][1]\n",
    "        current = end\n",
    "        index += 1\n",
    "        while index < n and segments[index][0] <= end:\n",
    "            if segments[index][1] < current:\n",
    "                current = segments[index][1]\n",
    "            index += 1\n",
    "        points.append(current)\n",
    "\n",
    "    return (points)\n",
    "    "
   ]
  },
  {
   "cell_type": "code",
   "execution_count": 65,
   "metadata": {},
   "outputs": [],
   "source": [
    "segment1 = [Segment(1, 3), Segment(2, 5), Segment(3, 6)]\n",
    "segment2 = [Segment(4, 7), Segment(1, 3), Segment(2, 5), Segment(5, 6)]\n",
    "segment3 = [Segment(1, 5), Segment(4, 7), Segment(8, 9), Segment(10, 12)]"
   ]
  },
  {
   "cell_type": "code",
   "execution_count": 77,
   "metadata": {},
   "outputs": [
    {
     "name": "stdout",
     "output_type": "stream",
     "text": [
      "test: 1 True\n",
      "test: 2 True\n",
      "test: 3 True\n"
     ]
    }
   ],
   "source": [
    "count = 1\n",
    "for (segments, answer) in [\n",
    "        ([Segment(1, 3), Segment(2, 5), Segment(3, 6)], 1),\n",
    "        ([Segment(4, 7), Segment(1, 3), Segment(2, 5), Segment(5, 6)], 2),\n",
    "        ([Segment(1, 5), Segment(4, 7), Segment(8, 9), Segment(10, 12)], 3)\n",
    "        ]:\n",
    "    print (\"test:\", count, len(sign(segments)) == answer )\n",
    "    count += 1\n"
   ]
  },
  {
   "cell_type": "markdown",
   "metadata": {},
   "source": [
    "### 3.6 Maximum Number of Prizes"
   ]
  },
  {
   "cell_type": "code",
   "execution_count": 165,
   "metadata": {},
   "outputs": [],
   "source": [
    "def compute_optimal_summands(n):\n",
    "    assert 1 <= n <= 10 ** 9\n",
    "    summands = [1]\n",
    "\n",
    "    if n < 3:\n",
    "        summands[0] = n\n",
    "      #  return summands\n",
    "    \n",
    "    t = n - summands[0]\n",
    "    i = 0\n",
    "        \n",
    "    while summands[i] < t:\n",
    "        summands.append(summands[i] + 1)\n",
    "        t -= (summands[i] + 1)\n",
    "        i += 1\n",
    "\n",
    "    if summands[-1] >= t:\n",
    "        summands[-1] += t\n",
    "\n",
    "    return summands\n"
   ]
  },
  {
   "cell_type": "code",
   "execution_count": 167,
   "metadata": {},
   "outputs": [
    {
     "name": "stdout",
     "output_type": "stream",
     "text": [
      "[1, 2, 3, 4, 5, 6, 7, 8, 9, 10, 11, 12, 22]\n",
      "[1, 2, 3, 4, 10]\n",
      "20\n"
     ]
    }
   ],
   "source": [
    "#print(compute_optimal_summands(6))\n",
    "#print(compute_optimal_summands(8))\n",
    "print(compute_optimal_summands(100))\n",
    "#print(compute_optimal_summands(10))\n",
    "print(compute_optimal_summands(20))\n",
    "\n",
    "print(sum(compute_optimal_summands(20)))"
   ]
  },
  {
   "cell_type": "markdown",
   "metadata": {},
   "source": [
    "### 3.7 Largest Number"
   ]
  },
  {
   "cell_type": "code",
   "execution_count": 19,
   "metadata": {},
   "outputs": [],
   "source": [
    "from itertools import permutations\n",
    "def largest_number_naive(numbers):\n",
    "    numbers = list(map(str, numbers))\n",
    "\n",
    "    largest = 0\n",
    "    for permutation in permutations(numbers):\n",
    "        largest = max(largest, int(\"\".join(permutation)))\n",
    "\n",
    "    return largest"
   ]
  },
  {
   "cell_type": "code",
   "execution_count": 15,
   "metadata": {},
   "outputs": [],
   "source": [
    "def largest_number(numbers):\n",
    "    return 1\n"
   ]
  },
  {
   "cell_type": "code",
   "execution_count": null,
   "metadata": {},
   "outputs": [],
   "source": [
    "def largest_number_single_digit(numbers):\n",
    "    "
   ]
  },
  {
   "cell_type": "code",
   "execution_count": 16,
   "metadata": {},
   "outputs": [],
   "source": [
    "a = [2, 21]\n",
    "b = [2, 12]\n",
    "c = [2, 21, 23, 211, 213, 231, 232]"
   ]
  },
  {
   "cell_type": "code",
   "execution_count": 446,
   "metadata": {},
   "outputs": [],
   "source": [
    "c1 = c.copy()"
   ]
  },
  {
   "cell_type": "code",
   "execution_count": 448,
   "metadata": {},
   "outputs": [
    {
     "data": {
      "text/plain": [
       "[2, 21, 23, 211, 213, 231, 232]"
      ]
     },
     "execution_count": 448,
     "metadata": {},
     "output_type": "execute_result"
    }
   ],
   "source": [
    "c1"
   ]
  },
  {
   "cell_type": "code",
   "execution_count": 458,
   "metadata": {},
   "outputs": [
    {
     "data": {
      "text/plain": [
       "23232231221321211"
      ]
     },
     "execution_count": 458,
     "metadata": {},
     "output_type": "execute_result"
    }
   ],
   "source": [
    "largest_number_naive(c)"
   ]
  },
  {
   "cell_type": "code",
   "execution_count": 20,
   "metadata": {},
   "outputs": [
    {
     "name": "stdout",
     "output_type": "stream",
     "text": [
      "test: 1 True\n",
      "test: 2 False\n",
      "test: 3 False\n",
      "test: 4 False\n",
      "test: 5 False\n",
      "test: 6 False\n",
      "test: 7 False\n"
     ]
    }
   ],
   "source": [
    "count = 1\n",
    "for numbers in [\n",
    "    [1],\n",
    "    [1, 2],\n",
    "    [24, 25],\n",
    "    [1, 12],\n",
    "    [2, 12],\n",
    "    [2, 21],\n",
    "    [2, 21, 23, 211, 213, 231, 232]\n",
    "]:\n",
    "    print (\"test:\", count, largest_number(numbers) == largest_number_naive(numbers))\n",
    "    count += 1\n"
   ]
  },
  {
   "cell_type": "code",
   "execution_count": null,
   "metadata": {},
   "outputs": [],
   "source": []
  }
 ],
 "metadata": {
  "kernelspec": {
   "display_name": "Python 3 (ipykernel)",
   "language": "python",
   "name": "python3"
  },
  "language_info": {
   "codemirror_mode": {
    "name": "ipython",
    "version": 3
   },
   "file_extension": ".py",
   "mimetype": "text/x-python",
   "name": "python",
   "nbconvert_exporter": "python",
   "pygments_lexer": "ipython3",
   "version": "3.9.2"
  }
 },
 "nbformat": 4,
 "nbformat_minor": 4
}
