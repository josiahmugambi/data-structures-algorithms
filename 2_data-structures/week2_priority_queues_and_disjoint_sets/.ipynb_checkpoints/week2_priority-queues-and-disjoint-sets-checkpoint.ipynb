{
 "cells": [
  {
   "cell_type": "markdown",
   "metadata": {},
   "source": [
    "### 1. Build Heap"
   ]
  },
  {
   "cell_type": "code",
   "execution_count": 1,
   "metadata": {
    "tags": []
   },
   "outputs": [],
   "source": [
    "def build_heap_naive(data):\n",
    "    \"\"\"Build a heap from ``data`` inplace.\n",
    "\n",
    "    Returns a sequence of swaps performed by the algorithm.\n",
    "    \"\"\"\n",
    "    # The following naive implementation just sorts the given sequence\n",
    "    # using selection sort algorithm and saves the resulting sequence\n",
    "    # of swaps. This turns the given array into a heap, but in the worst\n",
    "    # case gives a quadratic number of swaps.\n",
    "    #\n",
    "    # TODO: replace by a more efficient implementation\n",
    "    swaps = []\n",
    "    for i in range(len(data)):\n",
    "        for j in range(i + 1, len(data)):\n",
    "            if data[i] > data[j]:\n",
    "                swaps.append((i, j))\n",
    "                data[i], data[j] = data[j], data[i]\n",
    "    return swaps\n",
    "\n",
    "\n",
    "def main():\n",
    "    n = int(input())\n",
    "    data = list(map(int, input().split()))\n",
    "    assert len(data) == n\n",
    "\n",
    "    swaps = build_heap_naive(data)\n",
    "\n",
    "    print(len(swaps))\n",
    "    for i, j in swaps:\n",
    "        print(i, j)"
   ]
  },
  {
   "cell_type": "code",
   "execution_count": 7,
   "metadata": {
    "tags": []
   },
   "outputs": [],
   "source": [
    "swaps = []\n",
    "data = []\n",
    "size = 0\n",
    "\n",
    "def left_child(i):\n",
    "#    return 2*i - 1\n",
    "    return 2*i + 1\n",
    "def right_child(i):\n",
    "#    return 2*i \n",
    "    return 2*i + 2\n",
    "\n",
    "def sift_down(i):\n",
    "    global size\n",
    "    global data\n",
    "    global swaps\n",
    "    \n",
    "    min_index = i \n",
    "    l = left_child(i) \n",
    "\n",
    "    if l <= size and data[l] < data[min_index]:\n",
    "        min_index = l \n",
    "\n",
    "    r = right_child(i)     \n",
    "\n",
    "    if r <= size and data[r] < data[min_index]:\n",
    "        min_index = r \n",
    "\n",
    "\n",
    "        \n",
    "    if i != min_index:\n",
    "        swaps.append([i, min_index])\n",
    "        data[i], data[min_index] = data[min_index], data[i]\n",
    "        sift_down(min_index)\n",
    "\n",
    "\n",
    "def build_heap(data):\n",
    "    global size\n",
    "    for i in range ( size //2, -1, -1):\n",
    "        sift_down(i)\n",
    "    \n",
    "    return swaps\n",
    "\n",
    "        "
   ]
  },
  {
   "cell_type": "code",
   "execution_count": 12,
   "metadata": {
    "tags": []
   },
   "outputs": [
    {
     "name": "stdout",
     "output_type": "stream",
     "text": [
      "[1, 2, 3, 4, 5]\n"
     ]
    }
   ],
   "source": [
    "data = [1, 2, 3, 4, 5]\n",
    "#data = [5,4,3,2,1]\n",
    "size = len(data) - 1\n",
    "swaps = []\n",
    "answer = build_heap(data)\n",
    "\n",
    "for i, j in swaps:\n",
    "    print(i, j)\n",
    "print (data)"
   ]
  },
  {
   "cell_type": "code",
   "execution_count": null,
   "metadata": {
    "tags": []
   },
   "outputs": [],
   "source": [
    "d = [5,4,3,2,1]\n",
    "swaps_naive = build_heap_naive(d)\n",
    "print(d)\n",
    "print(swaps_naive)"
   ]
  },
  {
   "cell_type": "code",
   "execution_count": null,
   "metadata": {
    "tags": []
   },
   "outputs": [],
   "source": [
    "d = [5,4,3,2,1]\n",
    "swaps = build_heap(d)\n",
    "print(d)\n",
    "print(swaps)"
   ]
  },
  {
   "cell_type": "code",
   "execution_count": 1,
   "metadata": {},
   "outputs": [],
   "source": [
    "# Implemented as a class\n",
    "\n",
    "class BuildHeap:\n",
    "    def __init__(self, data, size):\n",
    "        self._swaps = []\n",
    "        self._data = data\n",
    "        self._size = size\n",
    "    \n",
    "    def left_child(self, i):\n",
    "        return 2*i + 1\n",
    "    \n",
    "    def right_child(self, i):\n",
    "        return 2*i + 2\n",
    "    \n",
    "    def parent(self, i):\n",
    "        return (i - 1)//2\n",
    "    \n",
    "    def answer(self):\n",
    "        print(len(self._swaps))\n",
    "        for i, j in self._swaps:\n",
    "            print (i, j)\n",
    "    \n",
    "    def sift_down(self, i):\n",
    "        min_index = i \n",
    "        l = self.left_child(i) \n",
    "        \n",
    "        if l <= self._size and self._data[l] < self._data[min_index]:\n",
    "            min_index = l \n",
    "\n",
    "        r = self.right_child(i)     \n",
    "\n",
    "        if r <= self._size and self._data[r] < self._data[min_index]:\n",
    "            min_index = r \n",
    "        \n",
    "        if i != min_index:\n",
    "            self._swaps.append([i, min_index])\n",
    "            self._data[i], self._data[min_index] = self._data[min_index], self._data[i]\n",
    "            self.sift_down(min_index)\n",
    "\n",
    "    def build_heap(self):\n",
    "        for i in range ( self._size //2, -1, -1):\n",
    "            self.sift_down(i)\n",
    "        #return swaps"
   ]
  },
  {
   "cell_type": "code",
   "execution_count": 2,
   "metadata": {
    "tags": []
   },
   "outputs": [
    {
     "name": "stdout",
     "output_type": "stream",
     "text": [
      "3\n",
      "1 4\n",
      "0 1\n",
      "1 3\n"
     ]
    }
   ],
   "source": [
    "mydata = [5, 4, 3, 2, 1]\n",
    "mysize = len(mydata) - 1\n",
    "myheap = BuildHeap(mydata, mysize)\n",
    "myheap.build_heap()\n",
    "myheap.answer()"
   ]
  },
  {
   "cell_type": "markdown",
   "metadata": {},
   "source": [
    "### 2. Parallel Processing"
   ]
  },
  {
   "cell_type": "code",
   "execution_count": 33,
   "metadata": {},
   "outputs": [],
   "source": [
    "from collections import namedtuple\n",
    "\n",
    "AssignedJob = namedtuple(\"AssignedJob\", [\"worker\", \"started_at\"])\n"
   ]
  },
  {
   "cell_type": "code",
   "execution_count": 34,
   "metadata": {},
   "outputs": [],
   "source": [
    "def assign_jobs_naive(n_workers, jobs):\n",
    "    # TODO: replace this code with a faster algorithm.\n",
    "    result = []\n",
    "    next_free_time = [0] * n_workers\n",
    "    for job in jobs:\n",
    "        next_worker = min(range(n_workers), key=lambda w: next_free_time[w])\n",
    "        result.append(AssignedJob(next_worker, next_free_time[next_worker]))\n",
    "        next_free_time[next_worker] += job\n",
    "\n",
    "    return result"
   ]
  },
  {
   "cell_type": "code",
   "execution_count": 9,
   "metadata": {
    "tags": []
   },
   "outputs": [
    {
     "name": "stdout",
     "output_type": "stream",
     "text": [
      "0 0\n",
      "1 0\n",
      "0 1\n",
      "1 2\n",
      "0 4\n"
     ]
    }
   ],
   "source": [
    "# Example 1\n",
    "n_workers, n_jobs = (2,5)\n",
    "jobs = [1,2,3,4,5]\n",
    "\n",
    "assert len(jobs) == n_jobs\n",
    "\n",
    "assigned_jobs = assign_jobs_naive(n_workers, jobs)\n",
    "\n",
    "for job in assigned_jobs:\n",
    "    print(job.worker, job.started_at)\n"
   ]
  },
  {
   "cell_type": "code",
   "execution_count": null,
   "metadata": {
    "tags": []
   },
   "outputs": [],
   "source": [
    "# Example 2\n",
    "\n",
    "n_workers, n_jobs = (4,20)\n",
    "jobs = [1,1,1,1,1,1,1,1,1,1,1,1,1,1,1,1,1,1,1,1]\n",
    "\n",
    "assert len(jobs) == n_jobs\n",
    "\n",
    "assigned_jobs = assign_jobs_naive(n_workers, jobs)\n",
    "\n",
    "for job in assigned_jobs:\n",
    "    print(job.worker, job.started_at)"
   ]
  },
  {
   "cell_type": "code",
   "execution_count": null,
   "metadata": {},
   "outputs": [],
   "source": [
    "n_workers, n_jobs = (2,5)\n",
    "jobs = [1,2,3,4,5]\n",
    "\n",
    "def assign_jobs(n_workers, jobs):\n",
    "    result = []\n",
    "    next_free_time = [0] * n_workers\n",
    "    array_worker = [0] * n_workers\n",
    "    \n",
    "    "
   ]
  },
  {
   "cell_type": "code",
   "execution_count": 15,
   "metadata": {},
   "outputs": [],
   "source": [
    "from collections import namedtuple\n",
    "\n"
   ]
  },
  {
   "cell_type": "code",
   "execution_count": 85,
   "metadata": {},
   "outputs": [],
   "source": [
    "class ParallelProcessing:\n",
    "        \n",
    "    def read_data(self):\n",
    "        #self.n_workers, m_jobs = (4,20)\n",
    "        #self.job_durations = [1,1,1,1,1,1,1,1,1,1,1,1,1,1,1,1,1,1,1,1]\n",
    "        self.n_workers, m_jobs = map(int, input().split())\n",
    "        self.job_durations = list(map(int, input().split()))\n",
    "        assert m_jobs == len(self.job_durations)\n",
    "    \n",
    "    def left_child(self, i):\n",
    "  #      return 2*i + 1\n",
    "        return 2*i\n",
    "    \n",
    "    def right_child(self, i):\n",
    "#        return 2*i + 2\n",
    "        return 2*i + 1\n",
    "    \n",
    "    def parent(self, i):\n",
    "        return (i - 1) //2\n",
    "    \n",
    "   # def answer(self):\n",
    "   #     for j in range(len(self.job_times))\n",
    "   #         print(self.)\n",
    "   #     print(len(self._swaps))\n",
    "   #     for i, j in self._swaps:\n",
    "   #         print (i, j)\n",
    "            \n",
    "    #def heap_data(self):\n",
    "     #   print (\"data:\", self._data)\n",
    "     #   print (\"size:\", self._size)\n",
    "      #  print (\"swaps:\")\n",
    "       # self.answer()\n",
    "        \n",
    "  #  def sift_up(self, i):\n",
    "  #      while i > 0 and self._data[self.parent(i)] > self._data[i]:\n",
    "  #          self._data[self.parent(i)], self._data[i] = self._data[i], self._data[self.parent(i)]\n",
    "  #         i = self.parent(i)\n",
    "        \n",
    "    def sift_down(self, i):\n",
    "        size = len(self.nodes) - 1\n",
    "        min_index = i \n",
    "        l = self.left_child(i) \n",
    "        r = self.right_child(i)  \n",
    "        \n",
    "        if l <= size:\n",
    "            if self.nodes[l][1] < self.nodes[min_index][1]:\n",
    "                min_index = l\n",
    "            elif self.nodes[l][1] == self.nodes[min_index][1] and self.nodes[l][0] < self.nodes[min_index][0]:\n",
    "                min_index = l\n",
    "                \n",
    "        if r <= size:\n",
    "            if self.nodes[r][1] < self.nodes[min_index][1]:\n",
    "                min_index = r\n",
    "            elif self.nodes[r][1] == self.nodes[min_index][1] and self.nodes[r][0] < self.nodes[min_index][0]:\n",
    "                min_index = r \n",
    "        \n",
    "        if i != min_index:\n",
    "            self.nodes[i], self.nodes[min_index] = self.nodes[min_index], self.nodes[i]\n",
    "            self.sift_down(min_index)\n",
    "\n",
    "    \n",
    "  #  def extract_min(self):\n",
    "  #      result = self._data[0]\n",
    "  #      self._data[0] = self._data[self._size - 1]\n",
    "  #      self._size -= 1\n",
    "  #      self.sift_down(0)\n",
    "  #      return result\n",
    "    \n",
    "  #  def change_priority(self, i, p):\n",
    "  #      oldp = self._data[i]\n",
    "  #      self._data[i] = p\n",
    "  #      if p < oldp:\n",
    "  #          self.sift_up(i)\n",
    "  #      else:\n",
    "  #          self.sift_down(i)\n",
    "    \n",
    "   # def insert_p(self,p):\n",
    "\n",
    "        \n",
    "    def assign_jobs(self):\n",
    "        self.assigned_worker = [None] * len(self.job_durations)\n",
    "        self.start_time = [None] * len(self.job_durations)\n",
    "        \n",
    "  #      self.assigned_job = namedtuple(\"AssignedJob\", [\"worker\", \"started_at\"])\n",
    "        self.nodes = [None] + [[x,0] for x in range(self.n_workers)]\n",
    "      \n",
    "        for d in range (len(self.job_durations)):\n",
    "            self.assigned_worker[d] = self.nodes[1][0]\n",
    "            self.start_time[d] = self.nodes[1][1]\n",
    "            print(self.nodes)\n",
    "            self.nodes[1][1] += self.job_durations[d]\n",
    "\n",
    "            self.sift_down(1)\n",
    "\n",
    "        \n",
    "    def print_result(self):\n",
    "        for j in range(len(self.job_durations)):\n",
    "            print(self.assigned_worker[j], self.start_time[j])"
   ]
  },
  {
   "cell_type": "code",
   "execution_count": 44,
   "metadata": {},
   "outputs": [],
   "source": []
  },
  {
   "cell_type": "code",
   "execution_count": 86,
   "metadata": {},
   "outputs": [
    {
     "name": "stdin",
     "output_type": "stream",
     "text": [
      " 2 5\n",
      " 1 2 3 4 5\n"
     ]
    },
    {
     "name": "stdout",
     "output_type": "stream",
     "text": [
      "[None, [0, 0], [1, 0]]\n",
      "[None, [1, 0], [0, 1]]\n",
      "[None, [0, 1], [1, 2]]\n",
      "[None, [1, 2], [0, 4]]\n",
      "[None, [0, 4], [1, 6]]\n",
      "0 0\n",
      "1 0\n",
      "0 1\n",
      "1 2\n",
      "0 4\n"
     ]
    }
   ],
   "source": [
    "pp3 = ParallelProcessing()\n",
    "pp3.read_data()\n",
    "pp3.assign_jobs()\n",
    "pp3.print_result()"
   ]
  },
  {
   "cell_type": "code",
   "execution_count": 35,
   "metadata": {},
   "outputs": [
    {
     "name": "stdout",
     "output_type": "stream",
     "text": [
      "0 0\n",
      "1 0\n",
      "0 1\n",
      "1 2\n",
      "0 4\n"
     ]
    }
   ],
   "source": [
    "# Example 1\n",
    "n_workers, n_jobs = (2,5)\n",
    "jobs = [1,2,3,4,5]\n",
    "\n",
    "assert len(jobs) == n_jobs\n",
    "\n",
    "assigned_jobs = assign_jobs_naive(n_workers, jobs)\n",
    "\n",
    "for job in assigned_jobs:\n",
    "    print(job.worker, job.started_at)"
   ]
  },
  {
   "cell_type": "code",
   "execution_count": 64,
   "metadata": {},
   "outputs": [
    {
     "name": "stdout",
     "output_type": "stream",
     "text": [
      "0 0\n",
      "1 0\n",
      "2 0\n",
      "3 0\n",
      "0 1\n",
      "1 1\n",
      "2 1\n",
      "3 1\n",
      "0 2\n",
      "1 2\n",
      "2 2\n",
      "3 2\n",
      "0 3\n",
      "1 3\n",
      "2 3\n",
      "3 3\n",
      "0 4\n",
      "1 4\n",
      "2 4\n",
      "3 4\n"
     ]
    }
   ],
   "source": [
    "# Example 2\n",
    "\n",
    "n_workers, n_jobs = (4,20)\n",
    "jobs = [1,1,1,1,1,1,1,1,1,1,1,1,1,1,1,1,1,1,1,1]\n",
    "\n",
    "assert len(jobs) == n_jobs\n",
    "\n",
    "assigned_jobs = assign_jobs_naive(n_workers, jobs)\n",
    "\n",
    "for job in assigned_jobs:\n",
    "    print(job.worker, job.started_at)"
   ]
  },
  {
   "cell_type": "code",
   "execution_count": null,
   "metadata": {},
   "outputs": [],
   "source": []
  }
 ],
 "metadata": {
  "kernelspec": {
   "display_name": "Python 3 (ipykernel)",
   "language": "python",
   "name": "python3"
  },
  "language_info": {
   "codemirror_mode": {
    "name": "ipython",
    "version": 3
   },
   "file_extension": ".py",
   "mimetype": "text/x-python",
   "name": "python",
   "nbconvert_exporter": "python",
   "pygments_lexer": "ipython3",
   "version": "3.9.2"
  }
 },
 "nbformat": 4,
 "nbformat_minor": 4
}
