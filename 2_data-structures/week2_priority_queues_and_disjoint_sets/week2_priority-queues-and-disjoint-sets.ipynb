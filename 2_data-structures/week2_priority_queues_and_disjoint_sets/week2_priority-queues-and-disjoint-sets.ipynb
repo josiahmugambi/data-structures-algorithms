{
 "cells": [
  {
   "cell_type": "code",
   "execution_count": null,
   "metadata": {
    "tags": []
   },
   "outputs": [],
   "source": [
    "def build_heap_naive(data):\n",
    "    \"\"\"Build a heap from ``data`` inplace.\n",
    "\n",
    "    Returns a sequence of swaps performed by the algorithm.\n",
    "    \"\"\"\n",
    "    # The following naive implementation just sorts the given sequence\n",
    "    # using selection sort algorithm and saves the resulting sequence\n",
    "    # of swaps. This turns the given array into a heap, but in the worst\n",
    "    # case gives a quadratic number of swaps.\n",
    "    #\n",
    "    # TODO: replace by a more efficient implementation\n",
    "    swaps = []\n",
    "    for i in range(len(data)):\n",
    "        for j in range(i + 1, len(data)):\n",
    "            if data[i] > data[j]:\n",
    "                swaps.append((i, j))\n",
    "                data[i], data[j] = data[j], data[i]\n",
    "    return swaps\n",
    "\n",
    "\n",
    "def main():\n",
    "    n = int(input())\n",
    "    data = list(map(int, input().split()))\n",
    "    assert len(data) == n\n",
    "\n",
    "    swaps = build_heap_naive(data)\n",
    "\n",
    "    print(len(swaps))\n",
    "    for i, j in swaps:\n",
    "        print(i, j)"
   ]
  },
  {
   "cell_type": "code",
   "execution_count": 44,
   "metadata": {},
   "outputs": [],
   "source": [
    "swaps = []\n",
    "data = []\n",
    "size = 0\n",
    "\n",
    "def left_child(i):\n",
    "    return 2*i - 1\n",
    " \n",
    "def right_child(i):\n",
    "    return 2*i \n",
    "\n",
    "def sift_down(i):\n",
    "    global size\n",
    "    global data\n",
    "    global swaps\n",
    "    \n",
    "    min_index = i \n",
    "    print (\"-------------------\")\n",
    "    print (\"min:index\", min_index)\n",
    "    l = left_child(i) \n",
    "    print (\"l:\", l)\n",
    "    if l <= size and data[l] < data[min_index]:\n",
    "        min_index = l \n",
    "\n",
    "    r = right_child(i)     \n",
    "    print (\"r:\", r)\n",
    "    if r <= size and data[r] < data[min_index]:\n",
    "        min_index = r \n",
    "\n",
    "\n",
    "        \n",
    "    if i != min_index:\n",
    "        data[i - 1], data[min_index - 1] = data[min_index - 1], data[i - 1]\n",
    "        sift_down(min_index)\n",
    "        swaps.append([i - 1, min_index - 1])\n",
    "\n",
    "def build_heap(data):\n",
    "    global size\n",
    "    for i in range ( (size - 1)//2, 0, -1):\n",
    "        sift_down(i)\n",
    "    \n",
    "    return swaps\n",
    "\n",
    "        "
   ]
  },
  {
   "cell_type": "code",
   "execution_count": 45,
   "metadata": {},
   "outputs": [
    {
     "name": "stdout",
     "output_type": "stream",
     "text": [
      "-------------------\n",
      "min:index 2\n",
      "l: 3\n",
      "r: 4\n",
      "-------------------\n",
      "min:index 4\n",
      "l: 7\n",
      "r: 8\n",
      "-------------------\n",
      "min:index 1\n",
      "l: 1\n",
      "r: 2\n",
      "1\n",
      "1 3\n"
     ]
    }
   ],
   "source": [
    "#data = [1, 2, 3, 5, 4]\n",
    "data = [5,4,3,2,1]\n",
    "size = len(data)\n",
    "swaps = []\n",
    "answer = build_heap(data)\n",
    "\n",
    "print(len(swaps))\n",
    "for i, j in swaps:\n",
    "    print(i, j)"
   ]
  },
  {
   "cell_type": "code",
   "execution_count": 15,
   "metadata": {},
   "outputs": [
    {
     "name": "stdout",
     "output_type": "stream",
     "text": [
      "[1, 2, 3, 5, 4]\n"
     ]
    }
   ],
   "source": [
    "print (data)"
   ]
  },
  {
   "cell_type": "code",
   "execution_count": null,
   "metadata": {},
   "outputs": [],
   "source": []
  },
  {
   "cell_type": "code",
   "execution_count": null,
   "metadata": {
    "jupyter": {
     "source_hidden": true
    },
    "tags": []
   },
   "outputs": [],
   "source": [
    "class Heap:\n",
    "    def __init__(self, data):\n",
    "        self.size = 0\n",
    "        self.arrayheap = data\n",
    "\n",
    "    def build_heap(self):\n",
    "        n = len(self.arrayheap)\n",
    "        self.size = n\n",
    "        for i in range (n//2,1):\n",
    "            sift_down(i)\n",
    "        \n",
    "    def parent(i):\n",
    "        return i//2\n",
    "\n",
    "    def left_child(i):\n",
    "        return 2*i\n",
    "\n",
    "    def right_child(i):\n",
    "        return 2*i + 1\n",
    "\n",
    "    def sift_down(self,i):\n",
    "        max_index = i\n",
    "        l = left_child(i)\n",
    "        if l <= self.__size and arrayheap[l] > arrayheap[max_index]:\n",
    "            max_index = l\n",
    "        r = right_child(i)\n",
    "        if r <= self.__size and arrayheap[r] > arrayheap[max_index]:\n",
    "            max_index = r\n",
    "        if i != max_index:\n",
    "            arrayheap[i], arrayheap[max_index] = arrayheap[max_index], arrayheap[i]\n",
    "            sift_down(max_index)\n",
    "\n"
   ]
  },
  {
   "cell_type": "code",
   "execution_count": null,
   "metadata": {},
   "outputs": [],
   "source": [
    "d = [5,4,3,2,1]\n",
    "swaps_naive = build_heap_naive(d)\n",
    "print(d)\n",
    "print(swaps_naive)"
   ]
  },
  {
   "cell_type": "code",
   "execution_count": null,
   "metadata": {},
   "outputs": [],
   "source": [
    "d = [5,4,3,2,1]\n",
    "swaps = build_heap(d)\n",
    "print(d)\n",
    "print(swaps)"
   ]
  },
  {
   "cell_type": "code",
   "execution_count": null,
   "metadata": {},
   "outputs": [],
   "source": [
    "newheap = Heap(d)"
   ]
  },
  {
   "cell_type": "code",
   "execution_count": null,
   "metadata": {},
   "outputs": [],
   "source": [
    "Heap.build_heap(d)"
   ]
  },
  {
   "cell_type": "code",
   "execution_count": null,
   "metadata": {},
   "outputs": [],
   "source": [
    "def sift_down(i):\n",
    "    global size\n",
    "    global data\n",
    "    global swaps\n",
    "    \n",
    "    min_index = i \n",
    "    \n",
    "    l = left_child(i) \n",
    "    if l <= size and data[l - 1] < data[min_index - 1]:\n",
    "        min_index = l \n",
    "\n",
    "    r = right_child(i)     \n",
    "    if r <= size and data[r - 1] < data[min_index - 1]:\n",
    "        min_index = r \n",
    "\n",
    "\n",
    "        \n",
    "    if i != min_index:\n",
    "        data[i - 1], data[min_index - 1] = data[min_index - 1], data[i - 1]\n",
    "        sift_down(min_index)\n",
    "        swaps.append([i - 1, min_index - 1])"
   ]
  }
 ],
 "metadata": {
  "kernelspec": {
   "display_name": "Python 3 (ipykernel)",
   "language": "python",
   "name": "python3"
  },
  "language_info": {
   "codemirror_mode": {
    "name": "ipython",
    "version": 3
   },
   "file_extension": ".py",
   "mimetype": "text/x-python",
   "name": "python",
   "nbconvert_exporter": "python",
   "pygments_lexer": "ipython3",
   "version": "3.9.2"
  }
 },
 "nbformat": 4,
 "nbformat_minor": 4
}
