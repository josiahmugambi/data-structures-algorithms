{
 "cells": [
  {
   "cell_type": "markdown",
   "metadata": {},
   "source": [
    "### Build Heap"
   ]
  },
  {
   "cell_type": "code",
   "execution_count": 1,
   "metadata": {
    "tags": []
   },
   "outputs": [],
   "source": [
    "def build_heap_naive(data):\n",
    "    \"\"\"Build a heap from ``data`` inplace.\n",
    "\n",
    "    Returns a sequence of swaps performed by the algorithm.\n",
    "    \"\"\"\n",
    "    # The following naive implementation just sorts the given sequence\n",
    "    # using selection sort algorithm and saves the resulting sequence\n",
    "    # of swaps. This turns the given array into a heap, but in the worst\n",
    "    # case gives a quadratic number of swaps.\n",
    "    #\n",
    "    # TODO: replace by a more efficient implementation\n",
    "    swaps = []\n",
    "    for i in range(len(data)):\n",
    "        for j in range(i + 1, len(data)):\n",
    "            if data[i] > data[j]:\n",
    "                swaps.append((i, j))\n",
    "                data[i], data[j] = data[j], data[i]\n",
    "    return swaps\n",
    "\n",
    "\n",
    "def main():\n",
    "    n = int(input())\n",
    "    data = list(map(int, input().split()))\n",
    "    assert len(data) == n\n",
    "\n",
    "    swaps = build_heap_naive(data)\n",
    "\n",
    "    print(len(swaps))\n",
    "    for i, j in swaps:\n",
    "        print(i, j)"
   ]
  },
  {
   "cell_type": "code",
   "execution_count": 7,
   "metadata": {},
   "outputs": [],
   "source": [
    "swaps = []\n",
    "data = []\n",
    "size = 0\n",
    "\n",
    "def left_child(i):\n",
    "#    return 2*i - 1\n",
    "    return 2*i + 1\n",
    "def right_child(i):\n",
    "#    return 2*i \n",
    "    return 2*i + 2\n",
    "\n",
    "def sift_down(i):\n",
    "    global size\n",
    "    global data\n",
    "    global swaps\n",
    "    \n",
    "    min_index = i \n",
    "    l = left_child(i) \n",
    "\n",
    "    if l <= size and data[l] < data[min_index]:\n",
    "        min_index = l \n",
    "\n",
    "    r = right_child(i)     \n",
    "\n",
    "    if r <= size and data[r] < data[min_index]:\n",
    "        min_index = r \n",
    "\n",
    "\n",
    "        \n",
    "    if i != min_index:\n",
    "        swaps.append([i, min_index])\n",
    "        data[i], data[min_index] = data[min_index], data[i]\n",
    "        sift_down(min_index)\n",
    "\n",
    "\n",
    "def build_heap(data):\n",
    "    global size\n",
    "    for i in range ( size //2, -1, -1):\n",
    "        sift_down(i)\n",
    "    \n",
    "    return swaps\n",
    "\n",
    "        "
   ]
  },
  {
   "cell_type": "code",
   "execution_count": 12,
   "metadata": {},
   "outputs": [
    {
     "name": "stdout",
     "output_type": "stream",
     "text": [
      "[1, 2, 3, 4, 5]\n"
     ]
    }
   ],
   "source": [
    "data = [1, 2, 3, 4, 5]\n",
    "#data = [5,4,3,2,1]\n",
    "size = len(data) - 1\n",
    "swaps = []\n",
    "answer = build_heap(data)\n",
    "\n",
    "for i, j in swaps:\n",
    "    print(i, j)\n",
    "print (data)"
   ]
  },
  {
   "cell_type": "code",
   "execution_count": 8,
   "metadata": {},
   "outputs": [
    {
     "name": "stdout",
     "output_type": "stream",
     "text": [
      "[1, 2, 3, 5, 4]\n"
     ]
    }
   ],
   "source": [
    "print (data)"
   ]
  },
  {
   "cell_type": "code",
   "execution_count": null,
   "metadata": {},
   "outputs": [],
   "source": []
  },
  {
   "cell_type": "code",
   "execution_count": null,
   "metadata": {
    "jupyter": {
     "source_hidden": true
    },
    "tags": []
   },
   "outputs": [],
   "source": [
    "class Heap:\n",
    "    def __init__(self, data):\n",
    "        self.size = 0\n",
    "        self.arrayheap = data\n",
    "\n",
    "    def build_heap(self):\n",
    "        n = len(self.arrayheap)\n",
    "        self.size = n\n",
    "        for i in range (n//2,1):\n",
    "            sift_down(i)\n",
    "        \n",
    "    def parent(i):\n",
    "        return i//2\n",
    "\n",
    "    def left_child(i):\n",
    "        return 2*i\n",
    "\n",
    "    def right_child(i):\n",
    "        return 2*i + 1\n",
    "\n",
    "    def sift_down(self,i):\n",
    "        max_index = i\n",
    "        l = left_child(i)\n",
    "        if l <= self.__size and arrayheap[l] > arrayheap[max_index]:\n",
    "            max_index = l\n",
    "        r = right_child(i)\n",
    "        if r <= self.__size and arrayheap[r] > arrayheap[max_index]:\n",
    "            max_index = r\n",
    "        if i != max_index:\n",
    "            arrayheap[i], arrayheap[max_index] = arrayheap[max_index], arrayheap[i]\n",
    "            sift_down(max_index)\n",
    "\n"
   ]
  },
  {
   "cell_type": "code",
   "execution_count": null,
   "metadata": {},
   "outputs": [],
   "source": [
    "d = [5,4,3,2,1]\n",
    "swaps_naive = build_heap_naive(d)\n",
    "print(d)\n",
    "print(swaps_naive)"
   ]
  },
  {
   "cell_type": "code",
   "execution_count": null,
   "metadata": {},
   "outputs": [],
   "source": [
    "d = [5,4,3,2,1]\n",
    "swaps = build_heap(d)\n",
    "print(d)\n",
    "print(swaps)"
   ]
  },
  {
   "cell_type": "code",
   "execution_count": null,
   "metadata": {},
   "outputs": [],
   "source": [
    "newheap = Heap(d)"
   ]
  },
  {
   "cell_type": "code",
   "execution_count": null,
   "metadata": {},
   "outputs": [],
   "source": [
    "Heap.build_heap(d)"
   ]
  },
  {
   "cell_type": "code",
   "execution_count": null,
   "metadata": {},
   "outputs": [],
   "source": [
    "def sift_down(i):\n",
    "    global size\n",
    "    global data\n",
    "    global swaps\n",
    "    \n",
    "    min_index = i \n",
    "    \n",
    "    l = left_child(i) \n",
    "    if l <= size and data[l - 1] < data[min_index - 1]:\n",
    "        min_index = l \n",
    "\n",
    "    r = right_child(i)     \n",
    "    if r <= size and data[r - 1] < data[min_index - 1]:\n",
    "        min_index = r \n",
    "\n",
    "\n",
    "        \n",
    "    if i != min_index:\n",
    "        data[i - 1], data[min_index - 1] = data[min_index - 1], data[i - 1]\n",
    "        sift_down(min_index)\n",
    "        swaps.append([i - 1, min_index - 1])"
   ]
  },
  {
   "cell_type": "markdown",
   "metadata": {},
   "source": [
    "### Job Queue"
   ]
  },
  {
   "cell_type": "code",
   "execution_count": 2,
   "metadata": {},
   "outputs": [],
   "source": [
    "from collections import namedtuple\n",
    "\n",
    "AssignedJob = namedtuple(\"AssignedJob\", [\"worker\", \"started_at\"])\n"
   ]
  },
  {
   "cell_type": "code",
   "execution_count": 3,
   "metadata": {},
   "outputs": [],
   "source": [
    "def assign_jobs_naive(n_workers, jobs):\n",
    "    # TODO: replace this code with a faster algorithm.\n",
    "    result = []\n",
    "    next_free_time = [0] * n_workers\n",
    "    for job in jobs:\n",
    "        next_worker = min(range(n_workers), key=lambda w: next_free_time[w])\n",
    "        result.append(AssignedJob(next_worker, next_free_time[next_worker]))\n",
    "        next_free_time[next_worker] += job\n",
    "\n",
    "    return result"
   ]
  },
  {
   "cell_type": "code",
   "execution_count": null,
   "metadata": {},
   "outputs": [],
   "source": [
    "def assign_jobs(n_workers, jobs):\n",
    "    result = []\n",
    "    next_free_time = [0] * n_workers\n",
    "    array_worker = [0] * n_workers\n",
    "    \n",
    "    \n",
    "    \n",
    "    "
   ]
  },
  {
   "cell_type": "code",
   "execution_count": 4,
   "metadata": {},
   "outputs": [
    {
     "name": "stdout",
     "output_type": "stream",
     "text": [
      "0 0\n",
      "1 0\n",
      "0 1\n",
      "1 2\n",
      "0 4\n"
     ]
    }
   ],
   "source": [
    "# Example 1\n",
    "n_workers, n_jobs = (2,5)\n",
    "jobs = [1,2,3,4,5]\n",
    "\n",
    "assert len(jobs) == n_jobs\n",
    "\n",
    "assigned_jobs = assign_jobs_naive(n_workers, jobs)\n",
    "\n",
    "for job in assigned_jobs:\n",
    "    print(job.worker, job.started_at)\n"
   ]
  },
  {
   "cell_type": "code",
   "execution_count": 13,
   "metadata": {},
   "outputs": [
    {
     "name": "stdout",
     "output_type": "stream",
     "text": [
      "0 0\n",
      "1 0\n",
      "2 0\n",
      "3 0\n",
      "0 1\n",
      "1 1\n",
      "2 1\n",
      "3 1\n",
      "0 2\n",
      "1 2\n",
      "2 2\n",
      "3 2\n",
      "0 3\n",
      "1 3\n",
      "2 3\n",
      "3 3\n",
      "0 4\n",
      "1 4\n",
      "2 4\n",
      "3 4\n"
     ]
    }
   ],
   "source": [
    "# Example 2\n",
    "\n",
    "n_workers, n_jobs = (4,20)\n",
    "jobs = [1,1,1,1,1,1,1,1,1,1,1,1,1,1,1,1,1,1,1,1]\n",
    "\n",
    "assert len(jobs) == n_jobs\n",
    "\n",
    "assigned_jobs = assign_jobs_naive(n_workers, jobs)\n",
    "\n",
    "for job in assigned_jobs:\n",
    "    print(job.worker, job.started_at)"
   ]
  },
  {
   "cell_type": "raw",
   "metadata": {},
   "source": [
    " spent 2 days on this assignment. Here's the logic that should be helpful\n",
    "\n",
    "On a high level, we use a min_heal with binary leafs to implement the naive algorithm. \n",
    "\n",
    "1. Create array_worker with the size of n_workers and array_next_free_time with the size of n_workers. You will use array_next_free_time to build the heap and array_worker to keep track of the worker_ID. (similar to the Union by Rank video)\n",
    "\n",
    "2. For each job, get the first item of  array_next_free_time and array_n_worker and append to the result. \n",
    "\n",
    "3. Add the time taken by job to the first item of array_next_free_time. Sift it down using the siftdown() in the pseudo course video. \n",
    "\n",
    "4. Create the logic of assigning minIndex when:\n",
    "\n",
    "parent == left child, parent > left child\n",
    "\n",
    "left  == right child, left > right child \n",
    "\n",
    "5. swap i and minIndex\n",
    "\n",
    "https://www.coursera.org/learn/data-structures/discussions/weeks/2/threads/xrBryfoBEeW3UQqDzupm-w"
   ]
  },
  {
   "cell_type": "code",
   "execution_count": null,
   "metadata": {},
   "outputs": [],
   "source": []
  }
 ],
 "metadata": {
  "kernelspec": {
   "display_name": "Python 3 (ipykernel)",
   "language": "python",
   "name": "python3"
  },
  "language_info": {
   "codemirror_mode": {
    "name": "ipython",
    "version": 3
   },
   "file_extension": ".py",
   "mimetype": "text/x-python",
   "name": "python",
   "nbconvert_exporter": "python",
   "pygments_lexer": "ipython3",
   "version": "3.9.2"
  }
 },
 "nbformat": 4,
 "nbformat_minor": 4
}
