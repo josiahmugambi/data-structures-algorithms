{
 "cells": [
  {
   "cell_type": "markdown",
   "metadata": {},
   "source": [
    "### Week 1 - Basic Data Structures"
   ]
  },
  {
   "cell_type": "markdown",
   "metadata": {},
   "source": [
    "#### Check Brackets in the code"
   ]
  },
  {
   "cell_type": "code",
   "execution_count": 88,
   "metadata": {
    "tags": []
   },
   "outputs": [],
   "source": [
    "from collections import namedtuple\n",
    "\n",
    "Bracket = namedtuple(\"Bracket\", [\"char\", \"position\"])\n",
    "\n",
    "def are_matching(left, right):\n",
    "    return (left + right) in [\"()\", \"[]\", \"{}\"]\n",
    "\n",
    "\n",
    "def find_mismatch(text):\n",
    "    opening_brackets_stack = []\n",
    "    for i, char in enumerate(text):\n",
    "        if char in \"([{\":\n",
    "            # Process opening bracket\n",
    "            Bracket = (char, i+1) \n",
    "            opening_brackets_stack.append(Bracket)\n",
    "\n",
    "        if char in \")]}\":\n",
    "            # Process closing bracket\n",
    "            if opening_brackets_stack == []:\n",
    "                return i + 1\n",
    "            top = opening_brackets_stack.pop()\n",
    "            if not are_matching(top[0], char):                \n",
    "                return i + 1\n",
    "    if opening_brackets_stack == []:\n",
    "        return \"Success\"\n",
    "    else:\n",
    "        return opening_brackets_stack[0][1]\n"
   ]
  },
  {
   "cell_type": "code",
   "execution_count": 89,
   "metadata": {},
   "outputs": [
    {
     "data": {
      "text/plain": [
       "3"
      ]
     },
     "execution_count": 89,
     "metadata": {},
     "output_type": "execute_result"
    }
   ],
   "source": [
    "find_mismatch(\"[](()\")"
   ]
  },
  {
   "cell_type": "code",
   "execution_count": 91,
   "metadata": {},
   "outputs": [
    {
     "name": "stdout",
     "output_type": "stream",
     "text": [
      "Test:  1 [] True\n",
      "Test:  2 {}[] True\n",
      "Test:  3 [()] True\n",
      "Test:  4 (()) True\n",
      "Test:  5 {[]}() True\n",
      "Test:  6 { True\n",
      "Test:  7 } True\n",
      "Test:  8  [}] True\n",
      "Test:  9 foo(bar); True\n",
      "Test:  10 foo(bar[i); True\n",
      "Test:  11 [](() True\n"
     ]
    }
   ],
   "source": [
    "count = 1\n",
    "for (text, answer) in [\n",
    "    (\"[]\", \"Success\"),\n",
    "    (\"{}[]\", \"Success\"),\n",
    "    (\"[()]\", \"Success\"),\n",
    "    (\"(())\", \"Success\"),\n",
    "    (\"{[]}()\", \"Success\"),\n",
    "    (\"{\", 1),\n",
    "    (\"}\", 1),\n",
    "    (\" [}]\", 3),\n",
    "    (\"foo(bar);\", \"Success\"),\n",
    "    (\"foo(bar[i);\",10 ),\n",
    "    (\"[](()\", 3)\n",
    "    ]:\n",
    "    print(\"Test: \", count, text, find_mismatch(text) == answer)\n",
    "    count += 1"
   ]
  },
  {
   "cell_type": "code",
   "execution_count": null,
   "metadata": {},
   "outputs": [],
   "source": []
  },
  {
   "cell_type": "markdown",
   "metadata": {},
   "source": [
    "### Arrays\n"
   ]
  },
  {
   "cell_type": "markdown",
   "metadata": {},
   "source": [
    "### Lists "
   ]
  },
  {
   "cell_type": "code",
   "execution_count": 53,
   "metadata": {
    "jupyter": {
     "source_hidden": true
    },
    "tags": []
   },
   "outputs": [
    {
     "ename": "IndentationError",
     "evalue": "expected an indented block (1968137059.py, line 6)",
     "output_type": "error",
     "traceback": [
      "\u001b[0;36m  File \u001b[0;32m\"/var/folders/d9/cr96dwt53pvbj8jy5ynxf4yh0000gn/T/ipykernel_12078/1968137059.py\"\u001b[0;36m, line \u001b[0;32m6\u001b[0m\n\u001b[0;31m    \u001b[0m\n\u001b[0m    ^\u001b[0m\n\u001b[0;31mIndentationError\u001b[0m\u001b[0;31m:\u001b[0m expected an indented block\n"
     ]
    }
   ],
   "source": [
    "class sList(namedtuple('sList','key next'), head, tail):\n",
    "    \"\"\"\n",
    "        Singly linked list with tail\n",
    "    \"\"\"\n",
    "    def __init___(self, head, tail):\n",
    "        \n",
    "        \n",
    "    def pushfront(key):\n",
    "        continue\n",
    "        \n",
    "    def popfront(key):\n",
    "        if self.head == None:\n",
    "            return \"Error, empty list\"\n",
    "        \n",
    "        \n",
    "        \n",
    "        continue\n",
    "        \n",
    "    def pushback(key):\n",
    "        continue\n",
    "        \n",
    "    def popfront():\n",
    "        continue\n",
    "    \n",
    "    def topback():\n",
    "        continue\n",
    "    \n",
    "    popback\n",
    "    \n",
    "    find\n",
    "    \n",
    "    erase\n",
    "    \n",
    "    empty\n",
    "    \n",
    "    addbefore\n",
    "    \n",
    "    addafter\n",
    "    \n",
    "        "
   ]
  },
  {
   "cell_type": "code",
   "execution_count": 22,
   "metadata": {},
   "outputs": [],
   "source": [
    "#Singly linked lists"
   ]
  },
  {
   "cell_type": "code",
   "execution_count": 54,
   "metadata": {},
   "outputs": [],
   "source": [
    "from collections import namedtuple\n",
    "\n",
    "Node = namedtuple('Node','key next')"
   ]
  },
  {
   "cell_type": "code",
   "execution_count": 63,
   "metadata": {},
   "outputs": [],
   "source": [
    "node1 = Node(7,10)\n",
    "node2 = Node(10,None)\n",
    "linkedlist = []\n"
   ]
  },
  {
   "cell_type": "code",
   "execution_count": 64,
   "metadata": {},
   "outputs": [
    {
     "name": "stdout",
     "output_type": "stream",
     "text": [
      "[Node(key=7, next=10)]\n"
     ]
    }
   ],
   "source": [
    "linkedlist.append(node1)\n",
    "print(linkedlist)"
   ]
  },
  {
   "cell_type": "code",
   "execution_count": 65,
   "metadata": {},
   "outputs": [
    {
     "name": "stdout",
     "output_type": "stream",
     "text": [
      "[Node(key=7, next=10), Node(key=10, next=None)]\n"
     ]
    }
   ],
   "source": [
    "linkedlist.append(node2)\n",
    "print(linkedlist)"
   ]
  },
  {
   "cell_type": "code",
   "execution_count": null,
   "metadata": {},
   "outputs": [],
   "source": [
    "def push_front(key):\n",
    "    node = Node(None, None)"
   ]
  },
  {
   "cell_type": "code",
   "execution_count": 66,
   "metadata": {
    "jupyter": {
     "source_hidden": true
    },
    "tags": []
   },
   "outputs": [],
   "source": [
    "class Node:\n",
    "    \"\"\"\n",
    "        Single Node of a linked list\n",
    "    \"\"\"\n",
    "    # constructor function\n",
    "    def __init__(self, key, next=None):\n",
    "        self.key = key\n",
    "        self.next = next\n",
    "    \n",
    "class LinkedList:\n",
    "    \"\"\"\n",
    "        Linked List class with a single node as head and tail\n",
    "    \"\"\"\n",
    "    def __init__(self):\n",
    "        self.head = None\n",
    "        self.tail = None\n",
    "    "
   ]
  },
  {
   "cell_type": "code",
   "execution_count": 67,
   "metadata": {},
   "outputs": [],
   "source": [
    "first = Node(3)"
   ]
  },
  {
   "cell_type": "code",
   "execution_count": 69,
   "metadata": {},
   "outputs": [
    {
     "name": "stdout",
     "output_type": "stream",
     "text": [
      "3\n"
     ]
    }
   ],
   "source": [
    "print(first.key)"
   ]
  },
  {
   "cell_type": "code",
   "execution_count": null,
   "metadata": {},
   "outputs": [],
   "source": []
  }
 ],
 "metadata": {
  "kernelspec": {
   "display_name": "Python 3 (ipykernel)",
   "language": "python",
   "name": "python3"
  },
  "language_info": {
   "codemirror_mode": {
    "name": "ipython",
    "version": 3
   },
   "file_extension": ".py",
   "mimetype": "text/x-python",
   "name": "python",
   "nbconvert_exporter": "python",
   "pygments_lexer": "ipython3",
   "version": "3.9.2"
  }
 },
 "nbformat": 4,
 "nbformat_minor": 4
}
