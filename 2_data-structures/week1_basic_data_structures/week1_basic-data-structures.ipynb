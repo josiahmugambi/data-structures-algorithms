{
 "cells": [
  {
   "cell_type": "markdown",
   "metadata": {},
   "source": [
    "### Week 1 - Basic Data Structures"
   ]
  },
  {
   "cell_type": "markdown",
   "metadata": {},
   "source": [
    "#### Check Brackets in the code"
   ]
  },
  {
   "cell_type": "code",
   "execution_count": 88,
   "metadata": {
    "tags": []
   },
   "outputs": [],
   "source": [
    "from collections import namedtuple\n",
    "\n",
    "Bracket = namedtuple(\"Bracket\", [\"char\", \"position\"])\n",
    "\n",
    "def are_matching(left, right):\n",
    "    return (left + right) in [\"()\", \"[]\", \"{}\"]\n",
    "\n",
    "\n",
    "def find_mismatch(text):\n",
    "    opening_brackets_stack = []\n",
    "    for i, char in enumerate(text):\n",
    "        if char in \"([{\":\n",
    "            # Process opening bracket\n",
    "            Bracket = (char, i+1) \n",
    "            opening_brackets_stack.append(Bracket)\n",
    "\n",
    "        if char in \")]}\":\n",
    "            # Process closing bracket\n",
    "            if opening_brackets_stack == []:\n",
    "                return i + 1\n",
    "            top = opening_brackets_stack.pop()\n",
    "            if not are_matching(top[0], char):                \n",
    "                return i + 1\n",
    "    if opening_brackets_stack == []:\n",
    "        return \"Success\"\n",
    "    else:\n",
    "        return opening_brackets_stack[0][1]\n"
   ]
  },
  {
   "cell_type": "code",
   "execution_count": null,
   "metadata": {},
   "outputs": [],
   "source": [
    "count = 1\n",
    "for (text, answer) in [\n",
    "    (\"[]\", \"Success\"),\n",
    "    (\"{}[]\", \"Success\"),\n",
    "    (\"[()]\", \"Success\"),\n",
    "    (\"(())\", \"Success\"),\n",
    "    (\"{[]}()\", \"Success\"),\n",
    "    (\"{\", 1),\n",
    "    (\"}\", 1),\n",
    "    (\" [}]\", 3),\n",
    "    (\"foo(bar);\", \"Success\"),\n",
    "    (\"foo(bar[i);\",10 ),\n",
    "    (\"[](()\", 3)\n",
    "    ]:\n",
    "    print(\"Test: \", count, text, find_mismatch(text) == answer)\n",
    "    count += 1"
   ]
  },
  {
   "cell_type": "markdown",
   "metadata": {},
   "source": [
    "#### Compute Tree Height"
   ]
  },
  {
   "cell_type": "code",
   "execution_count": null,
   "metadata": {},
   "outputs": [],
   "source": [
    "# python3\n",
    "\n",
    "import sys\n",
    "import threading\n",
    "\n",
    "\n",
    "def compute_height(n, parents):\n",
    "    # Replace this code with a faster implementation\n",
    "    max_height = 0\n",
    "    for vertex in range(n):\n",
    "        height = 0\n",
    "        current = vertex\n",
    "        while current != -1:\n",
    "            height += 1\n",
    "            current = parents[current]\n",
    "        max_height = max(max_height, height)\n",
    "    return max_height\n",
    "\n",
    "\n",
    "def main():\n",
    "    n = int(input())\n",
    "    parents = list(map(int, input().split()))\n",
    "    print(compute_height(n, parents))\n",
    "\n",
    "\n",
    "# In Python, the default limit on recursion depth is rather low,\n",
    "# so raise it here for this problem. Note that to take advantage\n",
    "# of bigger stack, we have to launch the computation in a new thread.\n",
    "sys.setrecursionlimit(10**7)  # max depth of recursion\n",
    "threading.stack_size(2**27)   # new thread will get stack of such size\n",
    "threading.Thread(target=main).start()\n"
   ]
  },
  {
   "cell_type": "code",
   "execution_count": 93,
   "metadata": {},
   "outputs": [],
   "source": [
    "class TreeNode:\n",
    "    \"\"\"\n",
    "        Single Tree Node \n",
    "    \"\"\"\n",
    "    # constructor function\n",
    "    def __init__(self, key, parent=None):\n",
    "        self.key = key\n",
    "        self.parent = parent\n",
    "        self.children = []\n",
    "    \n",
    "    # update parent node\n",
    "    def update_parent(self, parent):\n",
    "        self.parent = parent\n",
    "        \n",
    "    # add child to list of children nodes\n",
    "    def add_child(self, child):\n",
    "        self.children.append(child)\n",
    "        "
   ]
  },
  {
   "cell_type": "code",
   "execution_count": null,
   "metadata": {},
   "outputs": [],
   "source": []
  },
  {
   "cell_type": "code",
   "execution_count": 150,
   "metadata": {},
   "outputs": [],
   "source": [
    "def build_tree(n, parents):\n",
    "    nodes = [None] * n\n",
    "    for i in range(n):\n",
    "        nodes[i] = TreeNode(i, parents[i])\n",
    "    \n",
    "    for child_index in range(n):\n",
    "        parent_index = nodes[child_index].parent\n",
    "        if parent_index == -1:\n",
    "            root = child_index\n",
    "        else:\n",
    "            nodes[parent_index].add_child(child_index)\n",
    "    \n",
    "    return nodes, root"
   ]
  },
  {
   "cell_type": "code",
   "execution_count": 152,
   "metadata": {},
   "outputs": [
    {
     "name": "stdout",
     "output_type": "stream",
     "text": [
      "[]\n",
      "[3, 4]\n",
      "[]\n",
      "[]\n",
      "[0, 2]\n",
      "root:  1\n"
     ]
    }
   ],
   "source": [
    "# tree1\n",
    "parents = [4, -1, 4, 1, 1]\n",
    "n = 5\n",
    "\n",
    "tree_1, root_1 = build_tree(n, parents)\n",
    "\n",
    "for i in range (n):\n",
    "    print (tree_1[i].children)\n",
    "    \n",
    "print (\"root: \", root_1)"
   ]
  },
  {
   "cell_type": "code",
   "execution_count": 153,
   "metadata": {},
   "outputs": [
    {
     "name": "stdout",
     "output_type": "stream",
     "text": [
      "[1, 3]\n",
      "[]\n",
      "[]\n",
      "[4]\n",
      "[2]\n",
      "root:  0\n"
     ]
    }
   ],
   "source": [
    "# tree2\n",
    "parents = [-1, 0, 4, 0, 3]\n",
    "n = 5\n",
    "\n",
    "tree_2, root_2 = build_tree(n, parents)\n",
    "\n",
    "for i in range (n):\n",
    "    print (tree_2[i].children)\n",
    "\n",
    "print (\"root: \", root_2)"
   ]
  },
  {
   "cell_type": "code",
   "execution_count": null,
   "metadata": {},
   "outputs": [],
   "source": [
    "parents = [-1, 0, 4, 0, 3]\n",
    "n = 5\n",
    "nodes = [None] * n"
   ]
  },
  {
   "cell_type": "code",
   "execution_count": null,
   "metadata": {},
   "outputs": [],
   "source": [
    "Height(tree)\n",
    "if tree = nil:\n",
    "    return 0\n",
    "return 1 + Max(Height(tree.left), Height(tree.right))"
   ]
  },
  {
   "cell_type": "markdown",
   "metadata": {},
   "source": [
    "### Arrays\n"
   ]
  },
  {
   "cell_type": "markdown",
   "metadata": {},
   "source": [
    "### Lists "
   ]
  },
  {
   "cell_type": "code",
   "execution_count": 53,
   "metadata": {
    "jupyter": {
     "source_hidden": true
    },
    "tags": []
   },
   "outputs": [
    {
     "ename": "IndentationError",
     "evalue": "expected an indented block (1968137059.py, line 6)",
     "output_type": "error",
     "traceback": [
      "\u001b[0;36m  File \u001b[0;32m\"/var/folders/d9/cr96dwt53pvbj8jy5ynxf4yh0000gn/T/ipykernel_12078/1968137059.py\"\u001b[0;36m, line \u001b[0;32m6\u001b[0m\n\u001b[0;31m    \u001b[0m\n\u001b[0m    ^\u001b[0m\n\u001b[0;31mIndentationError\u001b[0m\u001b[0;31m:\u001b[0m expected an indented block\n"
     ]
    }
   ],
   "source": [
    "class sList(namedtuple('sList','key next'), head, tail):\n",
    "    \"\"\"\n",
    "        Singly linked list with tail\n",
    "    \"\"\"\n",
    "    def __init___(self, head, tail):\n",
    "        \n",
    "        \n",
    "    def pushfront(key):\n",
    "        continue\n",
    "        \n",
    "    def popfront(key):\n",
    "        if self.head == None:\n",
    "            return \"Error, empty list\"\n",
    "        \n",
    "        \n",
    "        \n",
    "        continue\n",
    "        \n",
    "    def pushback(key):\n",
    "        continue\n",
    "        \n",
    "    def popfront():\n",
    "        continue\n",
    "    \n",
    "    def topback():\n",
    "        continue\n",
    "    \n",
    "    popback\n",
    "    \n",
    "    find\n",
    "    \n",
    "    erase\n",
    "    \n",
    "    empty\n",
    "    \n",
    "    addbefore\n",
    "    \n",
    "    addafter\n",
    "    \n",
    "        "
   ]
  },
  {
   "cell_type": "code",
   "execution_count": 22,
   "metadata": {},
   "outputs": [],
   "source": [
    "#Singly linked lists"
   ]
  },
  {
   "cell_type": "code",
   "execution_count": 54,
   "metadata": {},
   "outputs": [],
   "source": [
    "from collections import namedtuple\n",
    "\n",
    "Node = namedtuple('Node','key next')"
   ]
  },
  {
   "cell_type": "code",
   "execution_count": 63,
   "metadata": {},
   "outputs": [],
   "source": [
    "node1 = Node(7,10)\n",
    "node2 = Node(10,None)\n",
    "linkedlist = []\n"
   ]
  },
  {
   "cell_type": "code",
   "execution_count": 64,
   "metadata": {},
   "outputs": [
    {
     "name": "stdout",
     "output_type": "stream",
     "text": [
      "[Node(key=7, next=10)]\n"
     ]
    }
   ],
   "source": [
    "linkedlist.append(node1)\n",
    "print(linkedlist)"
   ]
  },
  {
   "cell_type": "code",
   "execution_count": 65,
   "metadata": {},
   "outputs": [
    {
     "name": "stdout",
     "output_type": "stream",
     "text": [
      "[Node(key=7, next=10), Node(key=10, next=None)]\n"
     ]
    }
   ],
   "source": [
    "linkedlist.append(node2)\n",
    "print(linkedlist)"
   ]
  },
  {
   "cell_type": "code",
   "execution_count": null,
   "metadata": {},
   "outputs": [],
   "source": [
    "def push_front(key):\n",
    "    node = Node(None, None)"
   ]
  },
  {
   "cell_type": "code",
   "execution_count": 66,
   "metadata": {
    "tags": []
   },
   "outputs": [],
   "source": [
    "class Node:\n",
    "    \"\"\"\n",
    "        Single Node of a linked list\n",
    "    \"\"\"\n",
    "    # constructor function\n",
    "    def __init__(self, key, next=None):\n",
    "        self.key = key\n",
    "        self.next = next\n",
    "    \n",
    "class LinkedList:\n",
    "    \"\"\"\n",
    "        Linked List class with a single node as head and tail\n",
    "    \"\"\"\n",
    "    def __init__(self):\n",
    "        self.head = None\n",
    "        self.tail = None\n",
    "    "
   ]
  },
  {
   "cell_type": "code",
   "execution_count": 67,
   "metadata": {},
   "outputs": [],
   "source": [
    "first = Node(3)"
   ]
  },
  {
   "cell_type": "code",
   "execution_count": 69,
   "metadata": {},
   "outputs": [
    {
     "name": "stdout",
     "output_type": "stream",
     "text": [
      "3\n"
     ]
    }
   ],
   "source": [
    "print(first.key)"
   ]
  },
  {
   "cell_type": "code",
   "execution_count": null,
   "metadata": {},
   "outputs": [],
   "source": []
  }
 ],
 "metadata": {
  "kernelspec": {
   "display_name": "Python 3 (ipykernel)",
   "language": "python",
   "name": "python3"
  },
  "language_info": {
   "codemirror_mode": {
    "name": "ipython",
    "version": 3
   },
   "file_extension": ".py",
   "mimetype": "text/x-python",
   "name": "python",
   "nbconvert_exporter": "python",
   "pygments_lexer": "ipython3",
   "version": "3.9.2"
  }
 },
 "nbformat": 4,
 "nbformat_minor": 4
}
