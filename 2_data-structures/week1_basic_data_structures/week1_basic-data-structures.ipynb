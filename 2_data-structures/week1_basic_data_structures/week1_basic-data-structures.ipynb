{
 "cells": [
  {
   "cell_type": "markdown",
   "metadata": {},
   "source": [
    "### Week 1 - Basic Data Structures"
   ]
  },
  {
   "cell_type": "markdown",
   "metadata": {},
   "source": [
    "#### 1. Check Brackets in the code"
   ]
  },
  {
   "cell_type": "code",
   "execution_count": 88,
   "metadata": {
    "jupyter": {
     "source_hidden": true
    },
    "tags": []
   },
   "outputs": [],
   "source": [
    "from collections import namedtuple\n",
    "\n",
    "Bracket = namedtuple(\"Bracket\", [\"char\", \"position\"])\n",
    "\n",
    "def are_matching(left, right):\n",
    "    return (left + right) in [\"()\", \"[]\", \"{}\"]\n",
    "\n",
    "\n",
    "def find_mismatch(text):\n",
    "    opening_brackets_stack = []\n",
    "    for i, char in enumerate(text):\n",
    "        if char in \"([{\":\n",
    "            # Process opening bracket\n",
    "            Bracket = (char, i+1) \n",
    "            opening_brackets_stack.append(Bracket)\n",
    "\n",
    "        if char in \")]}\":\n",
    "            # Process closing bracket\n",
    "            if opening_brackets_stack == []:\n",
    "                return i + 1\n",
    "            top = opening_brackets_stack.pop()\n",
    "            if not are_matching(top[0], char):                \n",
    "                return i + 1\n",
    "    if opening_brackets_stack == []:\n",
    "        return \"Success\"\n",
    "    else:\n",
    "        return opening_brackets_stack[0][1]\n"
   ]
  },
  {
   "cell_type": "code",
   "execution_count": null,
   "metadata": {
    "jupyter": {
     "source_hidden": true
    },
    "tags": []
   },
   "outputs": [],
   "source": [
    "count = 1\n",
    "for (text, answer) in [\n",
    "    (\"[]\", \"Success\"),\n",
    "    (\"{}[]\", \"Success\"),\n",
    "    (\"[()]\", \"Success\"),\n",
    "    (\"(())\", \"Success\"),\n",
    "    (\"{[]}()\", \"Success\"),\n",
    "    (\"{\", 1),\n",
    "    (\"}\", 1),\n",
    "    (\" [}]\", 3),\n",
    "    (\"foo(bar);\", \"Success\"),\n",
    "    (\"foo(bar[i);\",10 ),\n",
    "    (\"[](()\", 3)\n",
    "    ]:\n",
    "    print(\"Test: \", count, text, find_mismatch(text) == answer)\n",
    "    count += 1"
   ]
  },
  {
   "cell_type": "markdown",
   "metadata": {},
   "source": [
    "#### 2. Compute Tree Height"
   ]
  },
  {
   "cell_type": "code",
   "execution_count": 1,
   "metadata": {
    "jupyter": {
     "source_hidden": true
    },
    "tags": []
   },
   "outputs": [],
   "source": [
    "# python3\n",
    "\n",
    "import sys\n",
    "import threading\n",
    "\n",
    "\n",
    "def compute_height_naive(n, parents):\n",
    "    # Replace this code with a faster implementation\n",
    "    max_height = 0\n",
    "    for vertex in range(n):\n",
    "        height = 0\n",
    "        current = vertex\n",
    "        while current != -1:\n",
    "            height += 1\n",
    "            current = parents[current]\n",
    "        max_height = max(max_height, height)\n",
    "    return max_height"
   ]
  },
  {
   "cell_type": "code",
   "execution_count": 36,
   "metadata": {
    "jupyter": {
     "source_hidden": true
    },
    "tags": []
   },
   "outputs": [],
   "source": [
    "# python3\n",
    "\n",
    "import sys\n",
    "import threading\n",
    "\n",
    "class TreeNode:\n",
    "    \"\"\"\n",
    "        Single Tree Node \n",
    "    \"\"\"\n",
    "    # constructor function\n",
    "    def __init__(self, key, parent=None):\n",
    "        self.key = key\n",
    "        self.parent = parent\n",
    "        self.children = []\n",
    "    \n",
    "    # update parent node\n",
    "    def update_parent(self, parent):\n",
    "        self.parent = parent\n",
    "        \n",
    "    # add child to list of children nodes\n",
    "    def add_child(self, child):\n",
    "        self.children.append(child)\n",
    "        \n",
    "def build_tree(parents):\n",
    "    n = len(parents)\n",
    "    nodes = [None] * n\n",
    "    for i in range(n):\n",
    "        nodes[i] = TreeNode(i, parents[i])\n",
    "    \n",
    "    for child_index in range(n):\n",
    "        parent_index = nodes[child_index].parent\n",
    "        if parent_index == -1:\n",
    "            root = child_index\n",
    "        else:\n",
    "            nodes[parent_index].add_child(child_index)\n",
    "    \n",
    "    return nodes, root\n",
    "        \n",
    "\n",
    "def compute_height(root, nodes):\n",
    "    \n",
    "    # base case, 0 nodes means height of 1\n",
    "    if len(nodes[root].children) == 0:\n",
    "        return 1\n",
    "    \n",
    "    max_height = 0\n",
    "    for i in range(len(nodes[root].children)):\n",
    "        max_height =  max(max_height, compute_height(nodes[root].children[i], nodes) + 1)\n",
    "\n",
    "    return max_height"
   ]
  },
  {
   "cell_type": "code",
   "execution_count": 37,
   "metadata": {
    "jupyter": {
     "source_hidden": true
    },
    "tags": []
   },
   "outputs": [
    {
     "name": "stdout",
     "output_type": "stream",
     "text": [
      "3\n"
     ]
    }
   ],
   "source": [
    "# tree1\n",
    "nodes = [4, -1, 4, 1, 1]\n",
    "n = 5\n",
    "\n",
    "nodes, root = build_tree(nodes)\n",
    "\n",
    "height = compute_height(root, nodes)\n",
    "\n",
    "print(height)\n"
   ]
  },
  {
   "cell_type": "code",
   "execution_count": 38,
   "metadata": {
    "jupyter": {
     "source_hidden": true
    },
    "tags": []
   },
   "outputs": [
    {
     "name": "stdout",
     "output_type": "stream",
     "text": [
      "4\n"
     ]
    }
   ],
   "source": [
    "# tree2\n",
    "nodes = [-1, 0, 4, 0, 3]\n",
    "\n",
    "nodes, root = build_tree(nodes)\n",
    "\n",
    "height = compute_height(root, nodes)\n",
    "\n",
    "print(height)"
   ]
  },
  {
   "cell_type": "code",
   "execution_count": 33,
   "metadata": {
    "jupyter": {
     "source_hidden": true
    },
    "tags": []
   },
   "outputs": [],
   "source": [
    "# python3\n",
    "# Couldn't get this verison optimized for large trees\n",
    "import sys\n",
    "import threading\n",
    "\n",
    "parent_cache = dict()\n",
    "\n",
    "def build_tree(node, nodes):\n",
    "    parent = {'key': node, 'children': []}\n",
    "    children = [n for n, x in enumerate(nodes) if parent['key'] == x]\n",
    "    \n",
    "    if parent['key'] not in parent_cache:\n",
    "        for child in children:\n",
    "            parent['children'].append(build_tree(child, nodes))\n",
    "        parent_cache[parent['key']] = parent['children']\n",
    "    else:\n",
    "        parent['children'] = parent_cache['children']\n",
    "        \n",
    "    return parent\n",
    "            \n",
    "    \n",
    "    #for child in children:\n",
    "    #    parent['children'].append(build_tree(child, nodes))\n",
    "    #return parent\n",
    "\n",
    "tree_cache = dict()\n",
    "\n",
    "def compute_height(tree):\n",
    "    children = tree['children']\n",
    "    if tree['key'] not in tree_cache:\n",
    "        heights = (compute_height(child) for child in children)\n",
    "        height = 1 +  max(heights, default=-1)\n",
    "        #add height to the cache\n",
    "        tree_cache[tree['key']] = height\n",
    "    else:\n",
    "        height = tree_cache['height'] \n",
    "\n",
    "    return height\n",
    "\n",
    "#    return 1 + max ((compute_height(child) for child in children), default=-1)\n",
    "\n",
    "# Helpful: \n",
    "# https://codereview.stackexchange.com/questions/128635/finding-the-tree-height-in-python\n",
    "    \n",
    "## Need to explore\n",
    "### - adding memoization \n",
    "### - a DP approach (iterative + queue)"
   ]
  },
  {
   "cell_type": "code",
   "execution_count": 34,
   "metadata": {
    "jupyter": {
     "source_hidden": true
    },
    "tags": []
   },
   "outputs": [
    {
     "name": "stdout",
     "output_type": "stream",
     "text": [
      "3\n"
     ]
    }
   ],
   "source": [
    "parent_cache = dict()\n",
    "tree_cache = dict()\n",
    "parents = [4, -1, 4, 1, 1]\n",
    "\n",
    "tree = build_tree(-1, parents)\n",
    "print( compute_height(tree))"
   ]
  },
  {
   "cell_type": "code",
   "execution_count": 35,
   "metadata": {
    "jupyter": {
     "source_hidden": true
    },
    "tags": []
   },
   "outputs": [
    {
     "name": "stdout",
     "output_type": "stream",
     "text": [
      "4\n"
     ]
    }
   ],
   "source": [
    "parent_cache = dict()\n",
    "tree_cache = dict()\n",
    "\n",
    "parents_2 = [-1, 0, 4, 0, 3]\n",
    "\n",
    "print(compute_height(build_tree(-1, parents_2)))"
   ]
  },
  {
   "cell_type": "code",
   "execution_count": null,
   "metadata": {
    "jupyter": {
     "source_hidden": true
    },
    "tags": []
   },
   "outputs": [],
   "source": [
    "def build_tree(root, nodes):\n",
    "    children = [\n",
    "        build_tree(child, nodes) for child, node in enumerate(nodes)]"
   ]
  },
  {
   "cell_type": "markdown",
   "metadata": {},
   "source": [
    "#### 3. Network Simulation"
   ]
  },
  {
   "cell_type": "code",
   "execution_count": null,
   "metadata": {},
   "outputs": [],
   "source": []
  }
 ],
 "metadata": {
  "kernelspec": {
   "display_name": "Python 3 (ipykernel)",
   "language": "python",
   "name": "python3"
  },
  "language_info": {
   "codemirror_mode": {
    "name": "ipython",
    "version": 3
   },
   "file_extension": ".py",
   "mimetype": "text/x-python",
   "name": "python",
   "nbconvert_exporter": "python",
   "pygments_lexer": "ipython3",
   "version": "3.9.2"
  }
 },
 "nbformat": 4,
 "nbformat_minor": 4
}
