{
 "cells": [
  {
   "cell_type": "markdown",
   "metadata": {},
   "source": [
    "### 1. Phone Book - COMPLETED"
   ]
  },
  {
   "cell_type": "code",
   "execution_count": null,
   "metadata": {},
   "outputs": [],
   "source": [
    "# python3\n",
    "\n",
    "class Query:\n",
    "    def __init__(self, query):\n",
    "        self.type = query[0]\n",
    "        self.number = int(query[1])\n",
    "        if self.type == 'add':\n",
    "            self.name = query[2]\n",
    "\n",
    "def read_queries():\n",
    "    n = int(input())\n",
    "    return [Query(input().split()) for i in range(n)]\n",
    "\n",
    "def write_responses(result):\n",
    "    print('\\n'.join(result))\n",
    "\n",
    "def process_queries(queries):\n",
    "    result = []\n",
    "    # Keep list of all existing (i.e. not deleted yet) contacts.\n",
    "    contacts = []\n",
    "    for cur_query in queries:\n",
    "        if cur_query.type == 'add':\n",
    "            # if we already have contact with such number,\n",
    "            # we should rewrite contact's name\n",
    "            for contact in contacts:\n",
    "                if contact.number == cur_query.number:\n",
    "                    contact.name = cur_query.name\n",
    "                    break\n",
    "            else: # otherwise, just add it\n",
    "                contacts.append(cur_query)\n",
    "        elif cur_query.type == 'del':\n",
    "            for j in range(len(contacts)):\n",
    "                if contacts[j].number == cur_query.number:\n",
    "                    contacts.pop(j)\n",
    "                    break\n",
    "        else:\n",
    "            response = 'not found'\n",
    "            for contact in contacts:\n",
    "                if contact.number == cur_query.number:\n",
    "                    response = contact.name\n",
    "                    break\n",
    "            result.append(response)\n",
    "    return result\n",
    "\n",
    "if __name__ == '__main__':\n",
    "    write_responses(process_queries(read_queries()))\n",
    "\n"
   ]
  },
  {
   "cell_type": "code",
   "execution_count": 10,
   "metadata": {},
   "outputs": [
    {
     "name": "stdin",
     "output_type": "stream",
     "text": [
      " 3\n",
      " add 76213 daddy\n",
      " add 17239 Bob\n",
      " find 76213\n"
     ]
    },
    {
     "name": "stdout",
     "output_type": "stream",
     "text": [
      "Current Query: [76213]\n",
      "added daddy daddy\n",
      "Current Query: [17239]\n",
      "added Bob Bob\n",
      "Current Query: [76213]\n",
      "finding: daddy\n",
      "daddy\n"
     ]
    }
   ],
   "source": [
    "# python3\n",
    "\n",
    "class PhoneBook:\n",
    "    def __init__(self, query):\n",
    "        self.type = query[0]\n",
    "        self.number = int(query[1])\n",
    "        if self.type == 'add':\n",
    "            self.name = query[2]\n",
    "        \n",
    "def read_queries():\n",
    "    n = int(input())\n",
    "    return [PhoneBook(input().split()) for i in range(n)]\n",
    "\n",
    "def write_responses(result):\n",
    "    print('\\n'.join(result))\n",
    "\n",
    "def process_queries(queries):\n",
    "    result = []\n",
    "    # Keep list of all existing (i.e. not deleted yet) contacts.\n",
    "    \n",
    "    phone_book = [None] * 10**7\n",
    "    \n",
    "    for cur_query in queries:\n",
    "        print(\"Current Query:\", [cur_query.number])\n",
    "        if cur_query.type == 'add':\n",
    "            # if we already have contact with such number,\n",
    "            # we should rewrite contact's name\n",
    "            \n",
    "          #  if phone_book[cur_query.number] != None:\n",
    "            phone_book[cur_query.number] = cur_query.name\n",
    "            print(\"added\", phone_book[cur_query.number], cur_query.name)\n",
    "\n",
    "            #else:\n",
    "\n",
    "        elif cur_query.type == 'del':\n",
    "            \n",
    "            phone_book[cur_query.number] = None\n",
    "            \n",
    "        else:\n",
    "            response = 'not found'\n",
    "            print (\"finding:\", phone_book[cur_query.number])\n",
    "            if phone_book[cur_query.number] != None:\n",
    "                response = phone_book[cur_query.number]\n",
    "\n",
    "            result.append(response)\n",
    "    return result\n",
    "\n",
    "if __name__ == '__main__':\n",
    "    write_responses(process_queries(read_queries()))"
   ]
  },
  {
   "cell_type": "markdown",
   "metadata": {},
   "source": [
    "### 2. Hashing with chains - IN PROGRESS"
   ]
  },
  {
   "cell_type": "code",
   "execution_count": null,
   "metadata": {},
   "outputs": [],
   "source": [
    "# python3\n",
    "\n",
    "class Query:\n",
    "\n",
    "    def __init__(self, query):\n",
    "        self.type = query[0]\n",
    "        if self.type == 'check':\n",
    "            self.ind = int(query[1])\n",
    "        else:\n",
    "            self.s = query[1]\n",
    "\n",
    "\n",
    "class QueryProcessor:\n",
    "    _multiplier = 263 # x\n",
    "    _prime = 1000000007 # p\n",
    "\n",
    "    def __init__(self, bucket_count):\n",
    "        self.bucket_count = bucket_count\n",
    "        # store all strings in one list\n",
    "        self.elems = []\n",
    "\n",
    "    def _hash_func(self, s):\n",
    "        ans = 0\n",
    "        for c in reversed(s):\n",
    "            ans = (ans * self._multiplier + ord(c)) % self._prime\n",
    "        return ans % self.bucket_count\n",
    "\n",
    "    def write_search_result(self, was_found):\n",
    "        print('yes' if was_found else 'no')\n",
    "\n",
    "    def write_chain(self, chain):\n",
    "        print(' '.join(chain))\n",
    "\n",
    "    def read_query(self):\n",
    "        return Query(input().split())\n",
    "\n",
    "    def process_query(self, query):\n",
    "        if query.type == \"check\":\n",
    "            # use reverse order, because we append strings to the end\n",
    "            self.write_chain(cur for cur in reversed(self.elems)\n",
    "                        if self._hash_func(cur) == query.ind)\n",
    "        else:\n",
    "            try:\n",
    "                ind = self.elems.index(query.s)\n",
    "            except ValueError:\n",
    "                ind = -1\n",
    "            if query.type == 'find':\n",
    "                self.write_search_result(ind != -1)\n",
    "            elif query.type == 'add':\n",
    "                if ind == -1:\n",
    "                    self.elems.append(query.s)\n",
    "            else:\n",
    "                if ind != -1:\n",
    "                    self.elems.pop(ind)\n",
    "\n",
    "    def process_queries(self):\n",
    "        n = int(input())\n",
    "        for i in range(n):\n",
    "            self.process_query(self.read_query())\n",
    "\n",
    "if __name__ == '__main__':\n",
    "    bucket_count = int(input())\n",
    "    proc = QueryProcessor(bucket_count)\n",
    "    proc.process_queries()"
   ]
  },
  {
   "cell_type": "raw",
   "metadata": {},
   "source": [
    "++++++"
   ]
  },
  {
   "cell_type": "markdown",
   "metadata": {},
   "source": [
    "### 3 Hash Substring - COMPLETED"
   ]
  },
  {
   "cell_type": "markdown",
   "metadata": {},
   "source": [
    "#### Basic Implementation - Helper Code from course"
   ]
  },
  {
   "cell_type": "code",
   "execution_count": 148,
   "metadata": {},
   "outputs": [],
   "source": [
    "# python3\n",
    "\n",
    "def read_input():\n",
    "    return (input().rstrip(), input().rstrip())\n",
    "\n",
    "def print_occurrences(output):\n",
    "    print(' '.join(map(str, output)))\n",
    "\n",
    "def get_occurrences(pattern, text):\n",
    "    return [\n",
    "        i \n",
    "        for i in range(len(text) - len(pattern) + 1) \n",
    "        if text[i:i + len(pattern)] == pattern\n",
    "    ]\n",
    "\n",
    "#if __name__ == '__main__':\n",
    "#    print_occurrences(get_occurrences(*read_input()))"
   ]
  },
  {
   "cell_type": "markdown",
   "metadata": {},
   "source": [
    "#### Naive Implementation of Rabin-Karp Algorithm"
   ]
  },
  {
   "cell_type": "code",
   "execution_count": 150,
   "metadata": {
    "tags": []
   },
   "outputs": [],
   "source": [
    "def get_occurrences_rk_naive(pattern, text):\n",
    "    big_prime = 100000007\n",
    "    x = random.randint(1, big_prime - 1)\n",
    "    # x = 7942759\n",
    "    positions = []\n",
    "    p_hash = poly_hash(pattern, big_prime, x)\n",
    "    for i in range (len(text) - len(pattern) + 1):\n",
    "        t_hash = poly_hash(text[i:i + len(pattern)], big_prime, x)\n",
    "        if p_hash != t_hash:\n",
    "            continue\n",
    "        if (text[i:i + len(pattern)]) == pattern:\n",
    "            positions.append(i)        \n",
    "    return positions"
   ]
  },
  {
   "cell_type": "markdown",
   "metadata": {},
   "source": [
    "#### Efficient Implementation of Rabin-Karp Algorithm"
   ]
  },
  {
   "cell_type": "code",
   "execution_count": 151,
   "metadata": {
    "tags": []
   },
   "outputs": [],
   "source": [
    "import random\n",
    "\n",
    "def get_occurrences_rk(pattern, text):\n",
    "    big_prime = 100000007\n",
    "    x = random.randint(1, big_prime - 1)\n",
    "    positions = []\n",
    "    p_hash = poly_hash(pattern, big_prime, x)\n",
    "    H = pre_compute_hashes(text, pattern, big_prime, x)\n",
    "    for i in range (len(text) - len(pattern) + 1):\n",
    "        if p_hash != H[i]:\n",
    "            continue\n",
    "        if (text[i:i + len(pattern)]) == pattern:\n",
    "            positions.append(i)        \n",
    "    return positions\n",
    "\n",
    "def poly_hash(S, p, x):\n",
    "    po_hash = 0\n",
    "    for i in range(len(S) - 1, -1, -1):\n",
    "        po_hash = (((po_hash * x + ord(S[i])) % p) + p) % p\n",
    "    return po_hash\n",
    "\n",
    "def pre_compute_hashes(text, pattern, p, x):\n",
    "    H = [0] * (len(text) - len(pattern) + 1)\n",
    "    S = text[len(text) - len(pattern): len(text)  ]\n",
    "    H[len(text) - len(pattern)] = poly_hash(S, p, x)\n",
    "    y = 1\n",
    "    for i in range(0, len(pattern)):\n",
    "        y = (y * x) % p\n",
    "    for i in range(len(text) - len(pattern) - 1, -1, -1):\n",
    "        H[i] = (x*H[i+1] + ord(text[i]) - y*ord(text[i + len(pattern)])) % p\n",
    "    return H\n",
    "\n",
    "def print_occurrences(output):\n",
    "    print(' '.join(map(str, output)))\n",
    "    \n",
    "#if __name__ == '__main__':\n",
    "#    print_occurrences(get_occurrences_rk(*read_input()))"
   ]
  },
  {
   "cell_type": "code",
   "execution_count": 153,
   "metadata": {},
   "outputs": [
    {
     "name": "stdout",
     "output_type": "stream",
     "text": [
      "Test: 1 True\n",
      "Test: 2 True\n",
      "Test: 3 True\n"
     ]
    }
   ],
   "source": [
    "#### 3 Tests\n",
    "\n",
    "count = 1\n",
    "for (P, T) in [\n",
    "    (\"aba\", \"abacaba\"),\n",
    "    (\"Test\", \"testTesttesT\"),\n",
    "    (\"aaaaa\", \"baaaaaaa\")\n",
    "]:\n",
    "    print (\"Test:\", count, get_occurrences(P, T) == get_occurrences_rk_naive(P, T) == get_occurrences_rk(P,T))\n",
    "    count += 1\n",
    "    "
   ]
  },
  {
   "cell_type": "code",
   "execution_count": null,
   "metadata": {},
   "outputs": [],
   "source": []
  }
 ],
 "metadata": {
  "kernelspec": {
   "display_name": "Python 3 (ipykernel)",
   "language": "python",
   "name": "python3"
  },
  "language_info": {
   "codemirror_mode": {
    "name": "ipython",
    "version": 3
   },
   "file_extension": ".py",
   "mimetype": "text/x-python",
   "name": "python",
   "nbconvert_exporter": "python",
   "pygments_lexer": "ipython3",
   "version": "3.9.2"
  }
 },
 "nbformat": 4,
 "nbformat_minor": 4
}
