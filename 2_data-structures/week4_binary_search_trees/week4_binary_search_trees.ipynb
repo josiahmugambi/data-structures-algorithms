{
 "cells": [
  {
   "cell_type": "markdown",
   "id": "2a3e7a37-e36b-49ad-a86f-72e8ba6bc05f",
   "metadata": {},
   "source": [
    "### 1. Tree Orders"
   ]
  },
  {
   "cell_type": "code",
   "execution_count": 18,
   "id": "f92e4096-56a5-4ae3-aef3-43c39dd2a654",
   "metadata": {},
   "outputs": [
    {
     "ename": "IndentationError",
     "evalue": "unindent does not match any outer indentation level (<tokenize>, line 35)",
     "output_type": "error",
     "traceback": [
      "\u001b[0;36m  File \u001b[0;32m\"<tokenize>\"\u001b[0;36m, line \u001b[0;32m35\u001b[0m\n\u001b[0;31m    def preOrder(self,root):\u001b[0m\n\u001b[0m    ^\u001b[0m\n\u001b[0;31mIndentationError\u001b[0m\u001b[0;31m:\u001b[0m unindent does not match any outer indentation level\n"
     ]
    }
   ],
   "source": [
    "# python3\n",
    "\n",
    "import sys, threading\n",
    "sys.setrecursionlimit(10**6) # max depth of recursion\n",
    "threading.stack_size(2**27)  # new thread will get stack of such size\n",
    "\n",
    "class TreeOrders:\n",
    "    def read(self):\n",
    "    self.n = int(sys.stdin.readline())\n",
    "    self.key = [0 for i in range(self.n)]\n",
    "    self.left = [0 for i in range(self.n)]\n",
    "    self.right = [0 for i in range(self.n)]\n",
    "    for i in range(self.n):\n",
    "      [a, b, c] = map(int, sys.stdin.readline().split())\n",
    "      self.key[i] = a\n",
    "      self.left[i] = b\n",
    "      self.right[i] = c\n",
    "\n",
    "#  def inOrder(self):\n",
    "        \n",
    "    def inOrder(self):\n",
    "    \n",
    "    \n",
    "    def inOrderRecursive(root)\n",
    "    self.result = []\n",
    "    if self.left[root] != -1:\n",
    "        inOrder(self.left[root])\n",
    "        self.result.append(self.key[root])\n",
    "    if self.right[root] != -1:\n",
    "        inOrder(self.left[root])\n",
    "    return self.result\n",
    "\n",
    "#  def preOrder(self):\n",
    "\n",
    "  def preOrder(self,root):\n",
    "    self.result = []\n",
    "    \n",
    "    if self.left[root] != -1:\n",
    "        inOrder(self.left[root])\n",
    "        self.result.append(self.key[root])\n",
    "    if self.right[root] != -1:\n",
    "        inOrder(self.left[root])    \n",
    "    return self.result\n",
    "\n",
    "  def postOrder(self):\n",
    "    self.result = []\n",
    "    # Finish the implementation\n",
    "    # You may need to add a new recursive method to do that\n",
    "                \n",
    "    return self.result\n",
    "\n",
    "def main():\n",
    "\ttree = TreeOrders()\n",
    "\ttree.read()\n",
    "\tprint(\" \".join(str(x) for x in tree.inOrder()))\n",
    "\tprint(\" \".join(str(x) for x in tree.preOrder()))\n",
    "\tprint(\" \".join(str(x) for x in tree.postOrder()))\n",
    "\n",
    "threading.Thread(target=main).start()\n"
   ]
  },
  {
   "cell_type": "markdown",
   "id": "ea565b53-7302-4c44-a136-77f297086fb2",
   "metadata": {},
   "source": [
    "### 2. Is Binary Search Tree"
   ]
  },
  {
   "cell_type": "code",
   "execution_count": 1,
   "id": "b7c23ee8-a6c9-4211-ac35-8402472a8433",
   "metadata": {},
   "outputs": [
    {
     "name": "stderr",
     "output_type": "stream",
     "text": [
      "Exception in thread Thread-8:\n",
      "Traceback (most recent call last):\n",
      "  File \"/Users/josiah/tools/miniconda3/lib/python3.9/threading.py\", line 954, in _bootstrap_inner\n",
      "    self.run()\n",
      "  File \"/Users/josiah/tools/miniconda3/lib/python3.9/threading.py\", line 892, in run\n"
     ]
    }
   ],
   "source": [
    "#!/usr/bin/python3\n",
    "\n",
    "import sys, threading\n",
    "\n",
    "sys.setrecursionlimit(10**7) # max depth of recursion\n",
    "threading.stack_size(2**25)  # new thread will get stack of such size\n",
    "\n",
    "key_max = 2147483648\n",
    "key_min = -2147483648\n",
    " \n",
    "class Node: \n",
    "    def __init__(self, key, left=None, right=None):\n",
    "        self.key = key\n",
    "        self.left = left\n",
    "        self.right = right\n",
    "\n",
    "def read():\n",
    "    n = int(sys.stdin.readline())\n",
    "    key = [0 for i in range(n)]\n",
    "    left = [0 for i in range(n)]\n",
    "    right = [0 for i in range(n)]\n",
    "    for i in range(n):\n",
    "        [a, b, c] = map(int, sys.stdin.readline().split())\n",
    "        key[i] = a\n",
    "        left[i] = b\n",
    "        right[i] = c\n",
    "\n",
    "    tree = [Node(key[i], left[i], right[i]) for i in range(n)]\n",
    "    \n",
    "    for i in range(n):\n",
    "        if tree[i].left != -1:\n",
    "            temp = tree[i].left\n",
    "            tree[i].left = tree[temp]\n",
    "        if tree[i].right != -1:\n",
    "            temp = tree[i].right\n",
    "            tree[i].right = tree[temp]\n",
    "    return tree[0]\n",
    "\n",
    "def IsBinarySearchTree(tree):\n",
    "    return (IsBST_helper(tree, key_min, key_max))\n",
    " \n",
    "def IsBST_helper(node, k_min, k_max):\n",
    "     \n",
    "    if node == -1 or node == None:\n",
    "        return True\n",
    " \n",
    "    if node.key < k_min or node.key > k_max:\n",
    "        return False\n",
    "\n",
    "    return (\n",
    "        IsBST_helper(node.left, k_min, node.key - 1) \n",
    "            and\n",
    "        IsBST_helper(node.right, node.key + 1, k_max ))\n",
    "\n",
    "def main():\n",
    "    tree = read()\n",
    "    if IsBinarySearchTree(tree):\n",
    "        print(\"CORRECT\")\n",
    "    else:\n",
    "        print(\"INCORRECT\")\n",
    "\n",
    "threading.Thread(target=main).start()"
   ]
  },
  {
   "cell_type": "code",
   "execution_count": null,
   "id": "dfc9e53d-6ca5-46d3-b56e-bd584320e188",
   "metadata": {},
   "outputs": [],
   "source": []
  }
 ],
 "metadata": {
  "kernelspec": {
   "display_name": "Python 3 (ipykernel)",
   "language": "python",
   "name": "python3"
  },
  "language_info": {
   "codemirror_mode": {
    "name": "ipython",
    "version": 3
   },
   "file_extension": ".py",
   "mimetype": "text/x-python",
   "name": "python",
   "nbconvert_exporter": "python",
   "pygments_lexer": "ipython3",
   "version": "3.9.2"
  }
 },
 "nbformat": 4,
 "nbformat_minor": 5
}
