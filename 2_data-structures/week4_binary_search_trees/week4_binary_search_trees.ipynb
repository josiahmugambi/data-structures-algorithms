{
 "cells": [
  {
   "cell_type": "markdown",
   "id": "2a3e7a37-e36b-49ad-a86f-72e8ba6bc05f",
   "metadata": {},
   "source": [
    "### 1. Tree Orders"
   ]
  },
  {
   "cell_type": "code",
   "execution_count": null,
   "id": "f92e4096-56a5-4ae3-aef3-43c39dd2a654",
   "metadata": {},
   "outputs": [],
   "source": [
    "# python3\n",
    "\n",
    "import sys, threading\n",
    "sys.setrecursionlimit(10**6) # max depth of recursion\n",
    "threading.stack_size(2**27)  # new thread will get stack of such size\n",
    "\n",
    "class TreeOrders:\n",
    "    def read(self):\n",
    "    self.n = int(sys.stdin.readline())\n",
    "    self.key = [0 for i in range(self.n)]\n",
    "    self.left = [0 for i in range(self.n)]\n",
    "    self.right = [0 for i in range(self.n)]\n",
    "    for i in range(self.n):\n",
    "      [a, b, c] = map(int, sys.stdin.readline().split())\n",
    "      self.key[i] = a\n",
    "      self.left[i] = b\n",
    "      self.right[i] = c\n",
    "\n",
    "#  def inOrder(self):\n",
    "        \n",
    "  def inOrder(self):\n",
    "    \n",
    "    \n",
    "    def inOrderRecursive(root)\n",
    "    self.result = []\n",
    "    if self.left[root] != -1:\n",
    "        inOrder(self.left[root])\n",
    "        self.result.append(self.key[root])\n",
    "    if self.right[root] != -1:\n",
    "        inOrder(self.left[root])\n",
    "    return self.result\n",
    "\n",
    "#  def preOrder(self):\n",
    "\n",
    "  def preOrder(self,root):\n",
    "    self.result = []\n",
    "    \n",
    "    if self.left[root] != -1:\n",
    "        inOrder(self.left[root])\n",
    "        self.result.append(self.key[root])\n",
    "    if self.right[root] != -1:\n",
    "        inOrder(self.left[root])    \n",
    "    return self.result\n",
    "\n",
    "  def postOrder(self):\n",
    "    self.result = []\n",
    "    # Finish the implementation\n",
    "    # You may need to add a new recursive method to do that\n",
    "                \n",
    "    return self.result\n",
    "\n",
    "def main():\n",
    "\ttree = TreeOrders()\n",
    "\ttree.read()\n",
    "\tprint(\" \".join(str(x) for x in tree.inOrder()))\n",
    "\tprint(\" \".join(str(x) for x in tree.preOrder()))\n",
    "\tprint(\" \".join(str(x) for x in tree.postOrder()))\n",
    "\n",
    "threading.Thread(target=main).start()\n"
   ]
  }
 ],
 "metadata": {
  "kernelspec": {
   "display_name": "Python 3 (ipykernel)",
   "language": "python",
   "name": "python3"
  },
  "language_info": {
   "codemirror_mode": {
    "name": "ipython",
    "version": 3
   },
   "file_extension": ".py",
   "mimetype": "text/x-python",
   "name": "python",
   "nbconvert_exporter": "python",
   "pygments_lexer": "ipython3",
   "version": "3.9.12"
  }
 },
 "nbformat": 4,
 "nbformat_minor": 5
}
