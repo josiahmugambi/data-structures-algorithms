{
 "cells": [
  {
   "cell_type": "markdown",
   "id": "2a3e7a37-e36b-49ad-a86f-72e8ba6bc05f",
   "metadata": {},
   "source": [
    "### 1. Tree Orders"
   ]
  },
  {
   "cell_type": "code",
   "execution_count": null,
   "id": "f92e4096-56a5-4ae3-aef3-43c39dd2a654",
   "metadata": {},
   "outputs": [],
   "source": [
    "# python3\n",
    "\n",
    "import sys, threading\n",
    "sys.setrecursionlimit(10**6) # max depth of recursion\n",
    "threading.stack_size(2**27)  # new thread will get stack of such size\n",
    "\n",
    "class TreeOrders:\n",
    "    def read(self):\n",
    "    self.n = int(sys.stdin.readline())\n",
    "    self.key = [0 for i in range(self.n)]\n",
    "    self.left = [0 for i in range(self.n)]\n",
    "    self.right = [0 for i in range(self.n)]\n",
    "    for i in range(self.n):\n",
    "      [a, b, c] = map(int, sys.stdin.readline().split())\n",
    "      self.key[i] = a\n",
    "      self.left[i] = b\n",
    "      self.right[i] = c\n",
    "\n",
    "#  def inOrder(self):\n",
    "        \n",
    "  def inOrder(self):\n",
    "    \n",
    "    \n",
    "    def inOrderRecursive(root)\n",
    "    self.result = []\n",
    "    if self.left[root] != -1:\n",
    "        inOrder(self.left[root])\n",
    "        self.result.append(self.key[root])\n",
    "    if self.right[root] != -1:\n",
    "        inOrder(self.left[root])\n",
    "    return self.result\n",
    "\n",
    "#  def preOrder(self):\n",
    "\n",
    "  def preOrder(self,root):\n",
    "    self.result = []\n",
    "    \n",
    "    if self.left[root] != -1:\n",
    "        inOrder(self.left[root])\n",
    "        self.result.append(self.key[root])\n",
    "    if self.right[root] != -1:\n",
    "        inOrder(self.left[root])    \n",
    "    return self.result\n",
    "\n",
    "  def postOrder(self):\n",
    "    self.result = []\n",
    "    # Finish the implementation\n",
    "    # You may need to add a new recursive method to do that\n",
    "                \n",
    "    return self.result\n",
    "\n",
    "def main():\n",
    "\ttree = TreeOrders()\n",
    "\ttree.read()\n",
    "\tprint(\" \".join(str(x) for x in tree.inOrder()))\n",
    "\tprint(\" \".join(str(x) for x in tree.preOrder()))\n",
    "\tprint(\" \".join(str(x) for x in tree.postOrder()))\n",
    "\n",
    "threading.Thread(target=main).start()\n"
   ]
  },
  {
   "cell_type": "markdown",
   "id": "ea565b53-7302-4c44-a136-77f297086fb2",
   "metadata": {},
   "source": [
    "### 2. Is Binary Search Tree"
   ]
  },
  {
   "cell_type": "code",
   "execution_count": 10,
   "id": "b7c23ee8-a6c9-4211-ac35-8402472a8433",
   "metadata": {},
   "outputs": [
    {
     "name": "stderr",
     "output_type": "stream",
     "text": [
      "Exception in thread Thread-14:\n",
      "Traceback (most recent call last):\n",
      "  File \"/Users/josiah/tools/miniconda3/lib/python3.9/threading.py\", line 954, in _bootstrap_inner\n",
      "    self.run()\n",
      "  File \"/Users/josiah/tools/miniconda3/lib/python3.9/threading.py\", line 892, in run\n",
      "    self._target(*self._args, **self._kwargs)\n",
      "  File \"/var/folders/d9/cr96dwt53pvbj8jy5ynxf4yh0000gn/T/ipykernel_4508/1119515142.py\", line 15, in main\n",
      "ValueError: invalid literal for int() with base 10: ''\n"
     ]
    }
   ],
   "source": [
    "#!/usr/bin/python3\n",
    "\n",
    "import sys, threading\n",
    "\n",
    "sys.setrecursionlimit(10**7) # max depth of recursion\n",
    "threading.stack_size(2**25)  # new thread will get stack of such size\n",
    "\n",
    "def IsBinarySearchTree(tree):\n",
    "  # Implement correct algorithm here\n",
    " #   print (len(tree))\n",
    "  #  print (tree)\n",
    "    return True\n",
    "\n",
    "def main():\n",
    "    nodes = int(sys.stdin.readline().strip())\n",
    "    tree = []\n",
    "    for i in range(nodes):\n",
    "        tree.append(list(map(int, sys.stdin.readline().strip().split())))\n",
    "    if IsBinarySearchTree(tree):\n",
    "        print(\"CORRECT\")\n",
    "    else:\n",
    "        print(\"INCORRECT\")\n",
    "\n",
    "threading.Thread(target=main).start()\n",
    "\n",
    "\n"
   ]
  },
  {
   "cell_type": "code",
   "execution_count": null,
   "id": "cfa19986-48fe-4280-8f74-2a3d1b7e9017",
   "metadata": {},
   "outputs": [],
   "source": []
  }
 ],
 "metadata": {
  "kernelspec": {
   "display_name": "Python 3 (ipykernel)",
   "language": "python",
   "name": "python3"
  },
  "language_info": {
   "codemirror_mode": {
    "name": "ipython",
    "version": 3
   },
   "file_extension": ".py",
   "mimetype": "text/x-python",
   "name": "python",
   "nbconvert_exporter": "python",
   "pygments_lexer": "ipython3",
   "version": "3.9.2"
  }
 },
 "nbformat": 4,
 "nbformat_minor": 5
}
